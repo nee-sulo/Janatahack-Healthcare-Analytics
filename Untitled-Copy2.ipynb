{
 "cells": [
  {
   "cell_type": "code",
   "execution_count": 1,
   "metadata": {},
   "outputs": [],
   "source": [
    "import warnings\n",
    "warnings.simplefilter(action='ignore', category=FutureWarning)\n",
    "import pandas as pd\n",
    "import numpy as np\n",
    "import seaborn as sns\n",
    "import matplotlib.pyplot as plt"
   ]
  },
  {
   "cell_type": "code",
   "execution_count": 2,
   "metadata": {},
   "outputs": [
    {
     "data": {
      "text/html": [
       "<div>\n",
       "<style scoped>\n",
       "    .dataframe tbody tr th:only-of-type {\n",
       "        vertical-align: middle;\n",
       "    }\n",
       "\n",
       "    .dataframe tbody tr th {\n",
       "        vertical-align: top;\n",
       "    }\n",
       "\n",
       "    .dataframe thead th {\n",
       "        text-align: right;\n",
       "    }\n",
       "</style>\n",
       "<table border=\"1\" class=\"dataframe\">\n",
       "  <thead>\n",
       "    <tr style=\"text-align: right;\">\n",
       "      <th></th>\n",
       "      <th>case_id</th>\n",
       "      <th>Hospital_code</th>\n",
       "      <th>Hospital_type_code</th>\n",
       "      <th>City_Code_Hospital</th>\n",
       "      <th>Hospital_region_code</th>\n",
       "      <th>Available Extra Rooms in Hospital</th>\n",
       "      <th>Department</th>\n",
       "      <th>Ward_Type</th>\n",
       "      <th>Ward_Facility_Code</th>\n",
       "      <th>Bed Grade</th>\n",
       "      <th>patientid</th>\n",
       "      <th>City_Code_Patient</th>\n",
       "      <th>Type of Admission</th>\n",
       "      <th>Severity of Illness</th>\n",
       "      <th>Visitors with Patient</th>\n",
       "      <th>Age</th>\n",
       "      <th>Admission_Deposit</th>\n",
       "      <th>Stay</th>\n",
       "    </tr>\n",
       "  </thead>\n",
       "  <tbody>\n",
       "    <tr>\n",
       "      <th>0</th>\n",
       "      <td>1</td>\n",
       "      <td>8</td>\n",
       "      <td>c</td>\n",
       "      <td>3</td>\n",
       "      <td>Z</td>\n",
       "      <td>3</td>\n",
       "      <td>radiotherapy</td>\n",
       "      <td>R</td>\n",
       "      <td>F</td>\n",
       "      <td>2.0</td>\n",
       "      <td>31397</td>\n",
       "      <td>7.0</td>\n",
       "      <td>Emergency</td>\n",
       "      <td>Extreme</td>\n",
       "      <td>2</td>\n",
       "      <td>51-60</td>\n",
       "      <td>4911.0</td>\n",
       "      <td>0-10</td>\n",
       "    </tr>\n",
       "    <tr>\n",
       "      <th>1</th>\n",
       "      <td>2</td>\n",
       "      <td>2</td>\n",
       "      <td>c</td>\n",
       "      <td>5</td>\n",
       "      <td>Z</td>\n",
       "      <td>2</td>\n",
       "      <td>radiotherapy</td>\n",
       "      <td>S</td>\n",
       "      <td>F</td>\n",
       "      <td>2.0</td>\n",
       "      <td>31397</td>\n",
       "      <td>7.0</td>\n",
       "      <td>Trauma</td>\n",
       "      <td>Extreme</td>\n",
       "      <td>2</td>\n",
       "      <td>51-60</td>\n",
       "      <td>5954.0</td>\n",
       "      <td>41-50</td>\n",
       "    </tr>\n",
       "    <tr>\n",
       "      <th>2</th>\n",
       "      <td>3</td>\n",
       "      <td>10</td>\n",
       "      <td>e</td>\n",
       "      <td>1</td>\n",
       "      <td>X</td>\n",
       "      <td>2</td>\n",
       "      <td>anesthesia</td>\n",
       "      <td>S</td>\n",
       "      <td>E</td>\n",
       "      <td>2.0</td>\n",
       "      <td>31397</td>\n",
       "      <td>7.0</td>\n",
       "      <td>Trauma</td>\n",
       "      <td>Extreme</td>\n",
       "      <td>2</td>\n",
       "      <td>51-60</td>\n",
       "      <td>4745.0</td>\n",
       "      <td>31-40</td>\n",
       "    </tr>\n",
       "    <tr>\n",
       "      <th>3</th>\n",
       "      <td>4</td>\n",
       "      <td>26</td>\n",
       "      <td>b</td>\n",
       "      <td>2</td>\n",
       "      <td>Y</td>\n",
       "      <td>2</td>\n",
       "      <td>radiotherapy</td>\n",
       "      <td>R</td>\n",
       "      <td>D</td>\n",
       "      <td>2.0</td>\n",
       "      <td>31397</td>\n",
       "      <td>7.0</td>\n",
       "      <td>Trauma</td>\n",
       "      <td>Extreme</td>\n",
       "      <td>2</td>\n",
       "      <td>51-60</td>\n",
       "      <td>7272.0</td>\n",
       "      <td>41-50</td>\n",
       "    </tr>\n",
       "    <tr>\n",
       "      <th>4</th>\n",
       "      <td>5</td>\n",
       "      <td>26</td>\n",
       "      <td>b</td>\n",
       "      <td>2</td>\n",
       "      <td>Y</td>\n",
       "      <td>2</td>\n",
       "      <td>radiotherapy</td>\n",
       "      <td>S</td>\n",
       "      <td>D</td>\n",
       "      <td>2.0</td>\n",
       "      <td>31397</td>\n",
       "      <td>7.0</td>\n",
       "      <td>Trauma</td>\n",
       "      <td>Extreme</td>\n",
       "      <td>2</td>\n",
       "      <td>51-60</td>\n",
       "      <td>5558.0</td>\n",
       "      <td>41-50</td>\n",
       "    </tr>\n",
       "  </tbody>\n",
       "</table>\n",
       "</div>"
      ],
      "text/plain": [
       "   case_id  Hospital_code Hospital_type_code  City_Code_Hospital  \\\n",
       "0        1              8                  c                   3   \n",
       "1        2              2                  c                   5   \n",
       "2        3             10                  e                   1   \n",
       "3        4             26                  b                   2   \n",
       "4        5             26                  b                   2   \n",
       "\n",
       "  Hospital_region_code  Available Extra Rooms in Hospital    Department  \\\n",
       "0                    Z                                  3  radiotherapy   \n",
       "1                    Z                                  2  radiotherapy   \n",
       "2                    X                                  2    anesthesia   \n",
       "3                    Y                                  2  radiotherapy   \n",
       "4                    Y                                  2  radiotherapy   \n",
       "\n",
       "  Ward_Type Ward_Facility_Code  Bed Grade  patientid  City_Code_Patient  \\\n",
       "0         R                  F        2.0      31397                7.0   \n",
       "1         S                  F        2.0      31397                7.0   \n",
       "2         S                  E        2.0      31397                7.0   \n",
       "3         R                  D        2.0      31397                7.0   \n",
       "4         S                  D        2.0      31397                7.0   \n",
       "\n",
       "  Type of Admission Severity of Illness  Visitors with Patient    Age  \\\n",
       "0         Emergency             Extreme                      2  51-60   \n",
       "1            Trauma             Extreme                      2  51-60   \n",
       "2            Trauma             Extreme                      2  51-60   \n",
       "3            Trauma             Extreme                      2  51-60   \n",
       "4            Trauma             Extreme                      2  51-60   \n",
       "\n",
       "   Admission_Deposit   Stay  \n",
       "0             4911.0   0-10  \n",
       "1             5954.0  41-50  \n",
       "2             4745.0  31-40  \n",
       "3             7272.0  41-50  \n",
       "4             5558.0  41-50  "
      ]
     },
     "execution_count": 2,
     "metadata": {},
     "output_type": "execute_result"
    }
   ],
   "source": [
    "df=pd.read_csv('train.csv')\n",
    "df.head()"
   ]
  },
  {
   "cell_type": "code",
   "execution_count": 3,
   "metadata": {},
   "outputs": [
    {
     "data": {
      "text/plain": [
       "21-30                 87491\n",
       "11-20                 78139\n",
       "31-40                 55159\n",
       "51-60                 35018\n",
       "0-10                  23604\n",
       "41-50                 11743\n",
       "71-80                 10254\n",
       "More than 100 Days     6683\n",
       "81-90                  4838\n",
       "91-100                 2765\n",
       "61-70                  2744\n",
       "Name: Stay, dtype: int64"
      ]
     },
     "execution_count": 3,
     "metadata": {},
     "output_type": "execute_result"
    }
   ],
   "source": [
    "df['Stay'].value_counts()"
   ]
  },
  {
   "cell_type": "code",
   "execution_count": 4,
   "metadata": {},
   "outputs": [],
   "source": [
    "from sklearn.preprocessing import LabelEncoder\n",
    "encoder=LabelEncoder()\n",
    "df['Stay']=encoder.fit_transform(df['Stay'])"
   ]
  },
  {
   "cell_type": "code",
   "execution_count": 5,
   "metadata": {},
   "outputs": [
    {
     "data": {
      "text/plain": [
       "2     87491\n",
       "1     78139\n",
       "3     55159\n",
       "5     35018\n",
       "0     23604\n",
       "4     11743\n",
       "7     10254\n",
       "10     6683\n",
       "8      4838\n",
       "9      2765\n",
       "6      2744\n",
       "Name: Stay, dtype: int64"
      ]
     },
     "execution_count": 5,
     "metadata": {},
     "output_type": "execute_result"
    }
   ],
   "source": [
    "df['Stay'].value_counts()"
   ]
  },
  {
   "cell_type": "code",
   "execution_count": 6,
   "metadata": {},
   "outputs": [
    {
     "data": {
      "text/plain": [
       "case_id                                 0\n",
       "Hospital_code                           0\n",
       "Hospital_type_code                      0\n",
       "City_Code_Hospital                      0\n",
       "Hospital_region_code                    0\n",
       "Available Extra Rooms in Hospital       0\n",
       "Department                              0\n",
       "Ward_Type                               0\n",
       "Ward_Facility_Code                      0\n",
       "Bed Grade                             113\n",
       "patientid                               0\n",
       "City_Code_Patient                    4532\n",
       "Type of Admission                       0\n",
       "Severity of Illness                     0\n",
       "Visitors with Patient                   0\n",
       "Age                                     0\n",
       "Admission_Deposit                       0\n",
       "Stay                                    0\n",
       "dtype: int64"
      ]
     },
     "execution_count": 6,
     "metadata": {},
     "output_type": "execute_result"
    }
   ],
   "source": [
    "df.isnull().sum()"
   ]
  },
  {
   "cell_type": "code",
   "execution_count": 7,
   "metadata": {},
   "outputs": [],
   "source": [
    "df['City_Code_Patient']=df['City_Code_Patient'].fillna(df['City_Code_Patient'].median())"
   ]
  },
  {
   "cell_type": "code",
   "execution_count": 8,
   "metadata": {},
   "outputs": [],
   "source": [
    "df['Bed Grade']=df['Bed Grade'].fillna(df['Bed Grade'].median())"
   ]
  },
  {
   "cell_type": "code",
   "execution_count": 9,
   "metadata": {},
   "outputs": [
    {
     "data": {
      "text/plain": [
       "0"
      ]
     },
     "execution_count": 9,
     "metadata": {},
     "output_type": "execute_result"
    }
   ],
   "source": [
    "df.isnull().sum().sum()"
   ]
  },
  {
   "cell_type": "code",
   "execution_count": 10,
   "metadata": {},
   "outputs": [
    {
     "name": "stdout",
     "output_type": "stream",
     "text": [
      "case_id  Have  318438  Values:\n",
      " [     1      2      3 ... 318436 318437 318438]\n",
      "Hospital_code  Have  32  Values:\n",
      " [ 8  2 10 26 23 32  1 22 16  9  6 29 12  3 21 28 27 19  5 14 13 31 24 17\n",
      " 25 15 11 30 18  4  7 20]\n",
      "Hospital_type_code  Have  7  Values:\n",
      " ['c' 'e' 'b' 'a' 'f' 'd' 'g']\n",
      "City_Code_Hospital  Have  11  Values:\n",
      " [ 3  5  1  2  6  9 10  4 11  7 13]\n",
      "Hospital_region_code  Have  3  Values:\n",
      " ['Z' 'X' 'Y']\n",
      "Available Extra Rooms in Hospital  Have  18  Values:\n",
      " [ 3  2  1  4  6  5  7  8  9 10 12  0 11 20 14 21 13 24]\n",
      "Department  Have  5  Values:\n",
      " ['radiotherapy' 'anesthesia' 'gynecology' 'TB & Chest disease' 'surgery']\n",
      "Ward_Type  Have  6  Values:\n",
      " ['R' 'S' 'Q' 'P' 'T' 'U']\n",
      "Ward_Facility_Code  Have  6  Values:\n",
      " ['F' 'E' 'D' 'B' 'A' 'C']\n",
      "Bed Grade  Have  4  Values:\n",
      " [2. 3. 4. 1.]\n",
      "patientid  Have  92017  Values:\n",
      " [ 31397  63418   8088 ... 125235  91081  21641]\n",
      "City_Code_Patient  Have  37  Values:\n",
      " [ 7.  8.  2.  5.  6.  3.  4.  1.  9. 14. 25. 15. 12. 10. 28. 24. 23. 20.\n",
      " 11. 13. 21. 18. 16. 26. 27. 22. 19. 31. 34. 32. 30. 29. 37. 33. 35. 36.\n",
      " 38.]\n",
      "Type of Admission  Have  3  Values:\n",
      " ['Emergency' 'Trauma' 'Urgent']\n",
      "Severity of Illness  Have  3  Values:\n",
      " ['Extreme' 'Moderate' 'Minor']\n",
      "Visitors with Patient  Have  28  Values:\n",
      " [ 2  4  3  8  6  7 13  5  1 10 15 11 12  9 24 16 14 20  0 19 18 17 23 21\n",
      " 32 30 22 25]\n",
      "Age  Have  10  Values:\n",
      " ['51-60' '71-80' '31-40' '41-50' '81-90' '61-70' '21-30' '11-20' '0-10'\n",
      " '91-100']\n",
      "Admission_Deposit  Have  7300  Values:\n",
      " [4911. 5954. 4745. ... 1937. 9439. 2349.]\n",
      "Stay  Have  11  Values:\n",
      " [ 0  4  3  1  5  2  7 10  8  6  9]\n"
     ]
    }
   ],
   "source": [
    "pd.set_option('Display.max_rows',None)\n",
    "pd.set_option('Display.max_columns',None)\n",
    "for feature in df.columns:\n",
    "    print(feature,\" Have \",df[feature].nunique(),\" Values:\\n\",df[feature].unique())"
   ]
  },
  {
   "cell_type": "code",
   "execution_count": 11,
   "metadata": {},
   "outputs": [
    {
     "data": {
      "text/plain": [
       "object     8\n",
       "int64      6\n",
       "float64    3\n",
       "int32      1\n",
       "dtype: int64"
      ]
     },
     "execution_count": 11,
     "metadata": {},
     "output_type": "execute_result"
    }
   ],
   "source": [
    "df.dtypes.value_counts()"
   ]
  },
  {
   "cell_type": "code",
   "execution_count": 12,
   "metadata": {},
   "outputs": [],
   "source": [
    "cat_feat= df.select_dtypes(include='O')"
   ]
  },
  {
   "cell_type": "code",
   "execution_count": 13,
   "metadata": {},
   "outputs": [
    {
     "data": {
      "text/html": [
       "<div>\n",
       "<style scoped>\n",
       "    .dataframe tbody tr th:only-of-type {\n",
       "        vertical-align: middle;\n",
       "    }\n",
       "\n",
       "    .dataframe tbody tr th {\n",
       "        vertical-align: top;\n",
       "    }\n",
       "\n",
       "    .dataframe thead th {\n",
       "        text-align: right;\n",
       "    }\n",
       "</style>\n",
       "<table border=\"1\" class=\"dataframe\">\n",
       "  <thead>\n",
       "    <tr style=\"text-align: right;\">\n",
       "      <th></th>\n",
       "      <th>Hospital_type_code</th>\n",
       "      <th>Hospital_region_code</th>\n",
       "      <th>Department</th>\n",
       "      <th>Ward_Type</th>\n",
       "      <th>Ward_Facility_Code</th>\n",
       "      <th>Type of Admission</th>\n",
       "      <th>Severity of Illness</th>\n",
       "      <th>Age</th>\n",
       "    </tr>\n",
       "  </thead>\n",
       "  <tbody>\n",
       "    <tr>\n",
       "      <th>0</th>\n",
       "      <td>c</td>\n",
       "      <td>Z</td>\n",
       "      <td>radiotherapy</td>\n",
       "      <td>R</td>\n",
       "      <td>F</td>\n",
       "      <td>Emergency</td>\n",
       "      <td>Extreme</td>\n",
       "      <td>51-60</td>\n",
       "    </tr>\n",
       "    <tr>\n",
       "      <th>1</th>\n",
       "      <td>c</td>\n",
       "      <td>Z</td>\n",
       "      <td>radiotherapy</td>\n",
       "      <td>S</td>\n",
       "      <td>F</td>\n",
       "      <td>Trauma</td>\n",
       "      <td>Extreme</td>\n",
       "      <td>51-60</td>\n",
       "    </tr>\n",
       "    <tr>\n",
       "      <th>2</th>\n",
       "      <td>e</td>\n",
       "      <td>X</td>\n",
       "      <td>anesthesia</td>\n",
       "      <td>S</td>\n",
       "      <td>E</td>\n",
       "      <td>Trauma</td>\n",
       "      <td>Extreme</td>\n",
       "      <td>51-60</td>\n",
       "    </tr>\n",
       "    <tr>\n",
       "      <th>3</th>\n",
       "      <td>b</td>\n",
       "      <td>Y</td>\n",
       "      <td>radiotherapy</td>\n",
       "      <td>R</td>\n",
       "      <td>D</td>\n",
       "      <td>Trauma</td>\n",
       "      <td>Extreme</td>\n",
       "      <td>51-60</td>\n",
       "    </tr>\n",
       "    <tr>\n",
       "      <th>4</th>\n",
       "      <td>b</td>\n",
       "      <td>Y</td>\n",
       "      <td>radiotherapy</td>\n",
       "      <td>S</td>\n",
       "      <td>D</td>\n",
       "      <td>Trauma</td>\n",
       "      <td>Extreme</td>\n",
       "      <td>51-60</td>\n",
       "    </tr>\n",
       "  </tbody>\n",
       "</table>\n",
       "</div>"
      ],
      "text/plain": [
       "  Hospital_type_code Hospital_region_code    Department Ward_Type  \\\n",
       "0                  c                    Z  radiotherapy         R   \n",
       "1                  c                    Z  radiotherapy         S   \n",
       "2                  e                    X    anesthesia         S   \n",
       "3                  b                    Y  radiotherapy         R   \n",
       "4                  b                    Y  radiotherapy         S   \n",
       "\n",
       "  Ward_Facility_Code Type of Admission Severity of Illness    Age  \n",
       "0                  F         Emergency             Extreme  51-60  \n",
       "1                  F            Trauma             Extreme  51-60  \n",
       "2                  E            Trauma             Extreme  51-60  \n",
       "3                  D            Trauma             Extreme  51-60  \n",
       "4                  D            Trauma             Extreme  51-60  "
      ]
     },
     "execution_count": 13,
     "metadata": {},
     "output_type": "execute_result"
    }
   ],
   "source": [
    "cat_feat.head()"
   ]
  },
  {
   "cell_type": "code",
   "execution_count": 14,
   "metadata": {},
   "outputs": [
    {
     "data": {
      "image/png": "[encoded data removed]",
      "text/plain": [
       "<Figure size 1440x1080 with 9 Axes>"
      ]
     },
     "metadata": {
      "needs_background": "light"
     },
     "output_type": "display_data"
    }
   ],
   "source": [
    "# Sub plots 1 sa jada graph 1 bar ma a= figer name, b= graph number [0],[1]etc\n",
    "a,b=plt.subplots(3,3,figsize=(20,15))\n",
    "sns.countplot(df['Hospital_type_code'],ax=b[0,0]) # 1st cahrt ka liya\n",
    "sns.countplot(df['Hospital_region_code'],ax=b[0,1]) # 1st cahrt ka liya\n",
    "sns.countplot(df['Department'],ax=b[0,2]) # 1st cahrt ka liya\n",
    "sns.countplot(df['Ward_Type'],ax=b[1,0]) # 1st cahrt ka liya\n",
    "sns.countplot(df['Ward_Facility_Code'],ax=b[1,1]) # 1st cahrt ka liya\n",
    "sns.countplot(df['Type of Admission'],ax=b[1,2]) # 1st cahrt ka liya\n",
    "sns.countplot(df['Severity of Illness'],ax=b[2,0]) # 1st cahrt ka liya\n",
    "sns.countplot(df['Age'],ax=b[2,1]) # 1st cahrt ka liya\n",
    "sns.countplot(df['Stay'],ax=b[2,2])\n",
    "plt.show()"
   ]
  },
  {
   "cell_type": "code",
   "execution_count": 15,
   "metadata": {},
   "outputs": [
    {
     "data": {
      "image/png": "[encoded data removed]",
      "text/plain": [
       "<Figure size 1080x2880 with 16 Axes>"
      ]
     },
     "metadata": {
      "needs_background": "light"
     },
     "output_type": "display_data"
    }
   ],
   "source": [
    "\n",
    "# Sub plots 1 sa jada graph 1 bar ma a= figer name, b= graph number [0],[1]etc\n",
    "# Sub plots 1 sa jada graph 1 bar ma a= figer name, b= graph number [0],[1]etc\n",
    "a,b=plt.subplots(8,2,figsize=(15,40))\n",
    "sns.countplot(df['Hospital_type_code'],ax=b[0,0]) # 1st cahrt ka liya\n",
    "sns.boxplot(df['Hospital_type_code'],df['Stay'],ax=b[0,1]) # 1st cahrt ka liya\n",
    "\n",
    "sns.countplot(df['Hospital_region_code'],ax=b[1,0]) # 1st cahrt ka liya\n",
    "sns.boxplot(df['Hospital_region_code'],df['Stay'],ax=b[1,1]) # 1st cahrt ka liya\n",
    "\n",
    "sns.countplot(df['Department'],ax=b[2,0]) # 1st cahrt ka liya\n",
    "sns.boxplot(df['Department'],df['Stay'],ax=b[2,1]) # 1st cahrt ka liya\n",
    "\n",
    "sns.countplot(df['Ward_Type'],ax=b[3,0]) # 1st cahrt ka liya\n",
    "sns.boxplot(df['Ward_Type'],df['Stay'],ax=b[3,1]) # 1st cahrt ka liya\n",
    "\n",
    "sns.countplot(df['Ward_Facility_Code'],ax=b[4,0]) # 1st cahrt ka liya\n",
    "sns.boxplot(df['Ward_Facility_Code'],df['Stay'],ax=b[4,1]) # 1st cahrt ka liya\n",
    "\n",
    "sns.countplot(df['Type of Admission'],ax=b[5,0]) # 1st cahrt ka liya\n",
    "sns.boxplot(df['Type of Admission'],df['Stay'],ax=b[5,1]) # 1st cahrt ka liya\n",
    "\n",
    "sns.countplot(df['Severity of Illness'],ax=b[6,0]) # 1st cahrt ka liya\n",
    "sns.boxplot(df['Severity of Illness'],df['Stay'],ax=b[6,1]) # 1st cahrt ka liya\n",
    "\n",
    "sns.countplot(df['Age'],ax=b[7,0]) # 1st cahrt ka liya\n",
    "sns.boxplot(df['Age'],df['Stay'],ax=b[7,1]) # 1st cahrt ka liya\n",
    "\n",
    "\n",
    "plt.show()"
   ]
  },
  {
   "cell_type": "code",
   "execution_count": 16,
   "metadata": {},
   "outputs": [
    {
     "data": {
      "text/plain": [
       "Moderate    175843\n",
       "Minor        85872\n",
       "Extreme      56723\n",
       "Name: Severity of Illness, dtype: int64"
      ]
     },
     "execution_count": 16,
     "metadata": {},
     "output_type": "execute_result"
    }
   ],
   "source": [
    "cat_feat['Severity of Illness'].value_counts()"
   ]
  },
  {
   "cell_type": "code",
   "execution_count": 17,
   "metadata": {},
   "outputs": [
    {
     "name": "stderr",
     "output_type": "stream",
     "text": [
      "E:\\ANACONDA\\lib\\site-packages\\ipykernel_launcher.py:1: SettingWithCopyWarning: \n",
      "A value is trying to be set on a copy of a slice from a DataFrame.\n",
      "Try using .loc[row_indexer,col_indexer] = value instead\n",
      "\n",
      "See the caveats in the documentation: https://pandas.pydata.org/pandas-docs/stable/user_guide/indexing.html#returning-a-view-versus-a-copy\n",
      "  \"\"\"Entry point for launching an IPython kernel.\n"
     ]
    }
   ],
   "source": [
    "cat_feat['Severity of Illness']=cat_feat['Severity of Illness'].apply(lambda x:1 if x=='Extreme' else 0)"
   ]
  },
  {
   "cell_type": "code",
   "execution_count": 18,
   "metadata": {},
   "outputs": [
    {
     "data": {
      "text/plain": [
       "0    261715\n",
       "1     56723\n",
       "Name: Severity of Illness, dtype: int64"
      ]
     },
     "execution_count": 18,
     "metadata": {},
     "output_type": "execute_result"
    }
   ],
   "source": [
    "cat_feat['Severity of Illness'].value_counts()"
   ]
  },
  {
   "cell_type": "code",
   "execution_count": 19,
   "metadata": {},
   "outputs": [
    {
     "data": {
      "text/plain": [
       "41-50     63749\n",
       "31-40     63639\n",
       "51-60     48514\n",
       "21-30     40843\n",
       "71-80     35792\n",
       "61-70     33687\n",
       "11-20     16768\n",
       "81-90      7890\n",
       "0-10       6254\n",
       "91-100     1302\n",
       "Name: Age, dtype: int64"
      ]
     },
     "execution_count": 19,
     "metadata": {},
     "output_type": "execute_result"
    }
   ],
   "source": [
    "cat_feat['Age'].value_counts()"
   ]
  },
  {
   "cell_type": "code",
   "execution_count": 20,
   "metadata": {},
   "outputs": [
    {
     "data": {
      "text/plain": [
       "Age\n",
       "0-10      2\n",
       "11-20     2\n",
       "21-30     2\n",
       "31-40     2\n",
       "41-50     2\n",
       "51-60     2\n",
       "61-70     2\n",
       "71-80     2\n",
       "81-90     3\n",
       "91-100    3\n",
       "Name: Stay, dtype: int32"
      ]
     },
     "execution_count": 20,
     "metadata": {},
     "output_type": "execute_result"
    }
   ],
   "source": [
    "df.groupby('Age')['Stay'].median()"
   ]
  },
  {
   "cell_type": "code",
   "execution_count": 21,
   "metadata": {},
   "outputs": [
    {
     "name": "stderr",
     "output_type": "stream",
     "text": [
      "E:\\ANACONDA\\lib\\site-packages\\ipykernel_launcher.py:1: SettingWithCopyWarning: \n",
      "A value is trying to be set on a copy of a slice from a DataFrame.\n",
      "Try using .loc[row_indexer,col_indexer] = value instead\n",
      "\n",
      "See the caveats in the documentation: https://pandas.pydata.org/pandas-docs/stable/user_guide/indexing.html#returning-a-view-versus-a-copy\n",
      "  \"\"\"Entry point for launching an IPython kernel.\n"
     ]
    }
   ],
   "source": [
    "cat_feat['Age']=[1 if i=='91-100' else 1 if i=='81-90' else 0 for i in cat_feat['Age']]"
   ]
  },
  {
   "cell_type": "code",
   "execution_count": 22,
   "metadata": {},
   "outputs": [
    {
     "data": {
      "text/plain": [
       "0    309246\n",
       "1      9192\n",
       "Name: Age, dtype: int64"
      ]
     },
     "execution_count": 22,
     "metadata": {},
     "output_type": "execute_result"
    }
   ],
   "source": [
    "cat_feat['Age'].value_counts()"
   ]
  },
  {
   "cell_type": "code",
   "execution_count": 23,
   "metadata": {},
   "outputs": [
    {
     "data": {
      "text/plain": [
       "Type of Admission\n",
       "Emergency    2\n",
       "Trauma       2\n",
       "Urgent       2\n",
       "Name: Stay, dtype: int32"
      ]
     },
     "execution_count": 23,
     "metadata": {},
     "output_type": "execute_result"
    }
   ],
   "source": [
    "df.groupby('Type of Admission')['Stay'].median()"
   ]
  },
  {
   "cell_type": "code",
   "execution_count": 24,
   "metadata": {},
   "outputs": [
    {
     "data": {
      "text/plain": [
       "array(['Emergency', 'Trauma', 'Urgent'], dtype=object)"
      ]
     },
     "execution_count": 24,
     "metadata": {},
     "output_type": "execute_result"
    }
   ],
   "source": [
    "df['Type of Admission'].unique()"
   ]
  },
  {
   "cell_type": "code",
   "execution_count": 25,
   "metadata": {},
   "outputs": [
    {
     "name": "stderr",
     "output_type": "stream",
     "text": [
      "E:\\ANACONDA\\lib\\site-packages\\ipykernel_launcher.py:1: SettingWithCopyWarning: \n",
      "A value is trying to be set on a copy of a slice from a DataFrame.\n",
      "Try using .loc[row_indexer,col_indexer] = value instead\n",
      "\n",
      "See the caveats in the documentation: https://pandas.pydata.org/pandas-docs/stable/user_guide/indexing.html#returning-a-view-versus-a-copy\n",
      "  \"\"\"Entry point for launching an IPython kernel.\n"
     ]
    }
   ],
   "source": [
    "cat_feat['Type of Admission']=cat_feat['Type of Admission'].apply(lambda x:1 if x=='Trauma' else 0)\n",
    "#cat_feat.drop('Type of Admission',axis=1,inplace=True) # Meadian is same for all cases"
   ]
  },
  {
   "cell_type": "code",
   "execution_count": 26,
   "metadata": {},
   "outputs": [
    {
     "data": {
      "text/plain": [
       "Index(['Hospital_type_code', 'Hospital_region_code', 'Department', 'Ward_Type',\n",
       "       'Ward_Facility_Code', 'Type of Admission', 'Severity of Illness',\n",
       "       'Age'],\n",
       "      dtype='object')"
      ]
     },
     "execution_count": 26,
     "metadata": {},
     "output_type": "execute_result"
    }
   ],
   "source": [
    "cat_feat.columns"
   ]
  },
  {
   "cell_type": "code",
   "execution_count": 27,
   "metadata": {},
   "outputs": [
    {
     "name": "stderr",
     "output_type": "stream",
     "text": [
      "E:\\ANACONDA\\lib\\site-packages\\ipykernel_launcher.py:1: SettingWithCopyWarning: \n",
      "A value is trying to be set on a copy of a slice from a DataFrame.\n",
      "Try using .loc[row_indexer,col_indexer] = value instead\n",
      "\n",
      "See the caveats in the documentation: https://pandas.pydata.org/pandas-docs/stable/user_guide/indexing.html#returning-a-view-versus-a-copy\n",
      "  \"\"\"Entry point for launching an IPython kernel.\n"
     ]
    }
   ],
   "source": [
    "cat_feat['Ward_Facility_Code']=[1 if i=='D' else 1 if i=='B' else 0 for i in cat_feat['Ward_Facility_Code']]\n",
    "#cat_feat.drop('Ward_Facility_Code',axis=1,inplace=True) # Median is same"
   ]
  },
  {
   "cell_type": "code",
   "execution_count": 28,
   "metadata": {},
   "outputs": [
    {
     "data": {
      "text/plain": [
       "R    127947\n",
       "Q    106165\n",
       "S     77794\n",
       "P      5046\n",
       "T      1477\n",
       "U         9\n",
       "Name: Ward_Type, dtype: int64"
      ]
     },
     "execution_count": 28,
     "metadata": {},
     "output_type": "execute_result"
    }
   ],
   "source": [
    "cat_feat['Ward_Type'].value_counts()"
   ]
  },
  {
   "cell_type": "code",
   "execution_count": 29,
   "metadata": {},
   "outputs": [
    {
     "data": {
      "text/plain": [
       "Ward_Type\n",
       "P    2\n",
       "Q    2\n",
       "R    2\n",
       "S    3\n",
       "T    2\n",
       "U    2\n",
       "Name: Stay, dtype: int32"
      ]
     },
     "execution_count": 29,
     "metadata": {},
     "output_type": "execute_result"
    }
   ],
   "source": [
    "df.groupby('Ward_Type')['Stay'].median()"
   ]
  },
  {
   "cell_type": "code",
   "execution_count": 30,
   "metadata": {},
   "outputs": [
    {
     "name": "stderr",
     "output_type": "stream",
     "text": [
      "E:\\ANACONDA\\lib\\site-packages\\ipykernel_launcher.py:1: SettingWithCopyWarning: \n",
      "A value is trying to be set on a copy of a slice from a DataFrame.\n",
      "Try using .loc[row_indexer,col_indexer] = value instead\n",
      "\n",
      "See the caveats in the documentation: https://pandas.pydata.org/pandas-docs/stable/user_guide/indexing.html#returning-a-view-versus-a-copy\n",
      "  \"\"\"Entry point for launching an IPython kernel.\n"
     ]
    }
   ],
   "source": [
    "cat_feat['Ward_Type']=cat_feat['Ward_Type'].apply(lambda x: 1 if x=='S' else 0)"
   ]
  },
  {
   "cell_type": "code",
   "execution_count": 31,
   "metadata": {},
   "outputs": [
    {
     "data": {
      "text/plain": [
       "0    240644\n",
       "1     77794\n",
       "Name: Ward_Type, dtype: int64"
      ]
     },
     "execution_count": 31,
     "metadata": {},
     "output_type": "execute_result"
    }
   ],
   "source": [
    "cat_feat['Ward_Type'].value_counts()"
   ]
  },
  {
   "cell_type": "code",
   "execution_count": 32,
   "metadata": {},
   "outputs": [
    {
     "data": {
      "text/plain": [
       "a    143425\n",
       "b     68946\n",
       "c     45928\n",
       "e     24770\n",
       "d     20389\n",
       "f     10703\n",
       "g      4277\n",
       "Name: Hospital_type_code, dtype: int64"
      ]
     },
     "execution_count": 32,
     "metadata": {},
     "output_type": "execute_result"
    }
   ],
   "source": [
    "cat_feat['Hospital_type_code'].value_counts()"
   ]
  },
  {
   "cell_type": "code",
   "execution_count": 33,
   "metadata": {},
   "outputs": [
    {
     "data": {
      "text/plain": [
       "Hospital_type_code\n",
       "a    2\n",
       "b    2\n",
       "c    2\n",
       "d    2\n",
       "e    2\n",
       "f    3\n",
       "g    3\n",
       "Name: Stay, dtype: int32"
      ]
     },
     "execution_count": 33,
     "metadata": {},
     "output_type": "execute_result"
    }
   ],
   "source": [
    "df.groupby('Hospital_type_code')['Stay'].median()"
   ]
  },
  {
   "cell_type": "code",
   "execution_count": 34,
   "metadata": {},
   "outputs": [
    {
     "name": "stderr",
     "output_type": "stream",
     "text": [
      "E:\\ANACONDA\\lib\\site-packages\\ipykernel_launcher.py:1: SettingWithCopyWarning: \n",
      "A value is trying to be set on a copy of a slice from a DataFrame.\n",
      "Try using .loc[row_indexer,col_indexer] = value instead\n",
      "\n",
      "See the caveats in the documentation: https://pandas.pydata.org/pandas-docs/stable/user_guide/indexing.html#returning-a-view-versus-a-copy\n",
      "  \"\"\"Entry point for launching an IPython kernel.\n"
     ]
    }
   ],
   "source": [
    "cat_feat['Hospital_type_code']=[1 if i=='f' else 1 if i=='g' else 0 for i in cat_feat['Hospital_type_code']]"
   ]
  },
  {
   "cell_type": "code",
   "execution_count": 35,
   "metadata": {},
   "outputs": [
    {
     "data": {
      "text/plain": [
       "0    303458\n",
       "1     14980\n",
       "Name: Hospital_type_code, dtype: int64"
      ]
     },
     "execution_count": 35,
     "metadata": {},
     "output_type": "execute_result"
    }
   ],
   "source": [
    "cat_feat['Hospital_type_code'].value_counts()"
   ]
  },
  {
   "cell_type": "code",
   "execution_count": 36,
   "metadata": {},
   "outputs": [],
   "source": [
    "#cat_feat.drop('Hospital_type_code',axis=1,inplace=True)"
   ]
  },
  {
   "cell_type": "code",
   "execution_count": 37,
   "metadata": {},
   "outputs": [
    {
     "name": "stderr",
     "output_type": "stream",
     "text": [
      "E:\\ANACONDA\\lib\\site-packages\\ipykernel_launcher.py:1: SettingWithCopyWarning: \n",
      "A value is trying to be set on a copy of a slice from a DataFrame.\n",
      "Try using .loc[row_indexer,col_indexer] = value instead\n",
      "\n",
      "See the caveats in the documentation: https://pandas.pydata.org/pandas-docs/stable/user_guide/indexing.html#returning-a-view-versus-a-copy\n",
      "  \"\"\"Entry point for launching an IPython kernel.\n"
     ]
    }
   ],
   "source": [
    "cat_feat['Department']=[2 if i=='surgery' else 1 if i=='radiotherapy' else 0 for i in cat_feat['Department']]"
   ]
  },
  {
   "cell_type": "code",
   "execution_count": 38,
   "metadata": {},
   "outputs": [
    {
     "name": "stderr",
     "output_type": "stream",
     "text": [
      "C:\\Users\\NEERAJ\\AppData\\Roaming\\Python\\Python37\\site-packages\\pandas\\core\\frame.py:4167: SettingWithCopyWarning: \n",
      "A value is trying to be set on a copy of a slice from a DataFrame\n",
      "\n",
      "See the caveats in the documentation: https://pandas.pydata.org/pandas-docs/stable/user_guide/indexing.html#returning-a-view-versus-a-copy\n",
      "  errors=errors,\n"
     ]
    }
   ],
   "source": [
    "cat_feat.drop('Hospital_region_code',axis=1,inplace=True)"
   ]
  },
  {
   "cell_type": "code",
   "execution_count": 39,
   "metadata": {},
   "outputs": [
    {
     "data": {
      "text/html": [
       "<div>\n",
       "<style scoped>\n",
       "    .dataframe tbody tr th:only-of-type {\n",
       "        vertical-align: middle;\n",
       "    }\n",
       "\n",
       "    .dataframe tbody tr th {\n",
       "        vertical-align: top;\n",
       "    }\n",
       "\n",
       "    .dataframe thead th {\n",
       "        text-align: right;\n",
       "    }\n",
       "</style>\n",
       "<table border=\"1\" class=\"dataframe\">\n",
       "  <thead>\n",
       "    <tr style=\"text-align: right;\">\n",
       "      <th></th>\n",
       "      <th>Hospital_type_code</th>\n",
       "      <th>Department</th>\n",
       "      <th>Ward_Type</th>\n",
       "      <th>Ward_Facility_Code</th>\n",
       "      <th>Type of Admission</th>\n",
       "      <th>Severity of Illness</th>\n",
       "      <th>Age</th>\n",
       "    </tr>\n",
       "  </thead>\n",
       "  <tbody>\n",
       "    <tr>\n",
       "      <th>0</th>\n",
       "      <td>0</td>\n",
       "      <td>1</td>\n",
       "      <td>0</td>\n",
       "      <td>0</td>\n",
       "      <td>0</td>\n",
       "      <td>1</td>\n",
       "      <td>0</td>\n",
       "    </tr>\n",
       "    <tr>\n",
       "      <th>1</th>\n",
       "      <td>0</td>\n",
       "      <td>1</td>\n",
       "      <td>1</td>\n",
       "      <td>0</td>\n",
       "      <td>1</td>\n",
       "      <td>1</td>\n",
       "      <td>0</td>\n",
       "    </tr>\n",
       "    <tr>\n",
       "      <th>2</th>\n",
       "      <td>0</td>\n",
       "      <td>0</td>\n",
       "      <td>1</td>\n",
       "      <td>0</td>\n",
       "      <td>1</td>\n",
       "      <td>1</td>\n",
       "      <td>0</td>\n",
       "    </tr>\n",
       "    <tr>\n",
       "      <th>3</th>\n",
       "      <td>0</td>\n",
       "      <td>1</td>\n",
       "      <td>0</td>\n",
       "      <td>1</td>\n",
       "      <td>1</td>\n",
       "      <td>1</td>\n",
       "      <td>0</td>\n",
       "    </tr>\n",
       "    <tr>\n",
       "      <th>4</th>\n",
       "      <td>0</td>\n",
       "      <td>1</td>\n",
       "      <td>1</td>\n",
       "      <td>1</td>\n",
       "      <td>1</td>\n",
       "      <td>1</td>\n",
       "      <td>0</td>\n",
       "    </tr>\n",
       "  </tbody>\n",
       "</table>\n",
       "</div>"
      ],
      "text/plain": [
       "   Hospital_type_code  Department  Ward_Type  Ward_Facility_Code  \\\n",
       "0                   0           1          0                   0   \n",
       "1                   0           1          1                   0   \n",
       "2                   0           0          1                   0   \n",
       "3                   0           1          0                   1   \n",
       "4                   0           1          1                   1   \n",
       "\n",
       "   Type of Admission  Severity of Illness  Age  \n",
       "0                  0                    1    0  \n",
       "1                  1                    1    0  \n",
       "2                  1                    1    0  \n",
       "3                  1                    1    0  \n",
       "4                  1                    1    0  "
      ]
     },
     "execution_count": 39,
     "metadata": {},
     "output_type": "execute_result"
    }
   ],
   "source": [
    "cat_feat.head()"
   ]
  },
  {
   "cell_type": "markdown",
   "metadata": {},
   "source": [
    "# Numerical Features"
   ]
  },
  {
   "cell_type": "code",
   "execution_count": 40,
   "metadata": {},
   "outputs": [],
   "source": [
    "num_feat=df.select_dtypes(include=np.number)"
   ]
  },
  {
   "cell_type": "code",
   "execution_count": 41,
   "metadata": {},
   "outputs": [
    {
     "data": {
      "text/html": [
       "<div>\n",
       "<style scoped>\n",
       "    .dataframe tbody tr th:only-of-type {\n",
       "        vertical-align: middle;\n",
       "    }\n",
       "\n",
       "    .dataframe tbody tr th {\n",
       "        vertical-align: top;\n",
       "    }\n",
       "\n",
       "    .dataframe thead th {\n",
       "        text-align: right;\n",
       "    }\n",
       "</style>\n",
       "<table border=\"1\" class=\"dataframe\">\n",
       "  <thead>\n",
       "    <tr style=\"text-align: right;\">\n",
       "      <th></th>\n",
       "      <th>case_id</th>\n",
       "      <th>Hospital_code</th>\n",
       "      <th>City_Code_Hospital</th>\n",
       "      <th>Available Extra Rooms in Hospital</th>\n",
       "      <th>Bed Grade</th>\n",
       "      <th>patientid</th>\n",
       "      <th>City_Code_Patient</th>\n",
       "      <th>Visitors with Patient</th>\n",
       "      <th>Admission_Deposit</th>\n",
       "      <th>Stay</th>\n",
       "    </tr>\n",
       "  </thead>\n",
       "  <tbody>\n",
       "    <tr>\n",
       "      <th>0</th>\n",
       "      <td>1</td>\n",
       "      <td>8</td>\n",
       "      <td>3</td>\n",
       "      <td>3</td>\n",
       "      <td>2.0</td>\n",
       "      <td>31397</td>\n",
       "      <td>7.0</td>\n",
       "      <td>2</td>\n",
       "      <td>4911.0</td>\n",
       "      <td>0</td>\n",
       "    </tr>\n",
       "    <tr>\n",
       "      <th>1</th>\n",
       "      <td>2</td>\n",
       "      <td>2</td>\n",
       "      <td>5</td>\n",
       "      <td>2</td>\n",
       "      <td>2.0</td>\n",
       "      <td>31397</td>\n",
       "      <td>7.0</td>\n",
       "      <td>2</td>\n",
       "      <td>5954.0</td>\n",
       "      <td>4</td>\n",
       "    </tr>\n",
       "    <tr>\n",
       "      <th>2</th>\n",
       "      <td>3</td>\n",
       "      <td>10</td>\n",
       "      <td>1</td>\n",
       "      <td>2</td>\n",
       "      <td>2.0</td>\n",
       "      <td>31397</td>\n",
       "      <td>7.0</td>\n",
       "      <td>2</td>\n",
       "      <td>4745.0</td>\n",
       "      <td>3</td>\n",
       "    </tr>\n",
       "    <tr>\n",
       "      <th>3</th>\n",
       "      <td>4</td>\n",
       "      <td>26</td>\n",
       "      <td>2</td>\n",
       "      <td>2</td>\n",
       "      <td>2.0</td>\n",
       "      <td>31397</td>\n",
       "      <td>7.0</td>\n",
       "      <td>2</td>\n",
       "      <td>7272.0</td>\n",
       "      <td>4</td>\n",
       "    </tr>\n",
       "    <tr>\n",
       "      <th>4</th>\n",
       "      <td>5</td>\n",
       "      <td>26</td>\n",
       "      <td>2</td>\n",
       "      <td>2</td>\n",
       "      <td>2.0</td>\n",
       "      <td>31397</td>\n",
       "      <td>7.0</td>\n",
       "      <td>2</td>\n",
       "      <td>5558.0</td>\n",
       "      <td>4</td>\n",
       "    </tr>\n",
       "  </tbody>\n",
       "</table>\n",
       "</div>"
      ],
      "text/plain": [
       "   case_id  Hospital_code  City_Code_Hospital  \\\n",
       "0        1              8                   3   \n",
       "1        2              2                   5   \n",
       "2        3             10                   1   \n",
       "3        4             26                   2   \n",
       "4        5             26                   2   \n",
       "\n",
       "   Available Extra Rooms in Hospital  Bed Grade  patientid  City_Code_Patient  \\\n",
       "0                                  3        2.0      31397                7.0   \n",
       "1                                  2        2.0      31397                7.0   \n",
       "2                                  2        2.0      31397                7.0   \n",
       "3                                  2        2.0      31397                7.0   \n",
       "4                                  2        2.0      31397                7.0   \n",
       "\n",
       "   Visitors with Patient  Admission_Deposit  Stay  \n",
       "0                      2             4911.0     0  \n",
       "1                      2             5954.0     4  \n",
       "2                      2             4745.0     3  \n",
       "3                      2             7272.0     4  \n",
       "4                      2             5558.0     4  "
      ]
     },
     "execution_count": 41,
     "metadata": {},
     "output_type": "execute_result"
    }
   ],
   "source": [
    "num_feat.head()"
   ]
  },
  {
   "cell_type": "code",
   "execution_count": 42,
   "metadata": {},
   "outputs": [
    {
     "name": "stderr",
     "output_type": "stream",
     "text": [
      "C:\\Users\\NEERAJ\\AppData\\Roaming\\Python\\Python37\\site-packages\\pandas\\core\\frame.py:4167: SettingWithCopyWarning: \n",
      "A value is trying to be set on a copy of a slice from a DataFrame\n",
      "\n",
      "See the caveats in the documentation: https://pandas.pydata.org/pandas-docs/stable/user_guide/indexing.html#returning-a-view-versus-a-copy\n",
      "  errors=errors,\n"
     ]
    }
   ],
   "source": [
    "num_feat.drop('case_id',axis=1,inplace=True)"
   ]
  },
  {
   "cell_type": "code",
   "execution_count": 43,
   "metadata": {},
   "outputs": [
    {
     "data": {
      "text/plain": [
       "Index(['Hospital_code', 'City_Code_Hospital',\n",
       "       'Available Extra Rooms in Hospital', 'Bed Grade', 'patientid',\n",
       "       'City_Code_Patient', 'Visitors with Patient', 'Admission_Deposit',\n",
       "       'Stay'],\n",
       "      dtype='object')"
      ]
     },
     "execution_count": 43,
     "metadata": {},
     "output_type": "execute_result"
    }
   ],
   "source": [
    "num_feat.columns"
   ]
  },
  {
   "cell_type": "code",
   "execution_count": 44,
   "metadata": {},
   "outputs": [
    {
     "data": {
      "image/png": "[encoded data removed]",
      "text/plain": [
       "<Figure size 432x288 with 1 Axes>"
      ]
     },
     "metadata": {
      "needs_background": "light"
     },
     "output_type": "display_data"
    }
   ],
   "source": [
    "sns.boxplot(df['Available Extra Rooms in Hospital'],df['Stay']) # 1st cahrt ka liya\n",
    "plt.show()"
   ]
  },
  {
   "cell_type": "code",
   "execution_count": 45,
   "metadata": {},
   "outputs": [
    {
     "data": {
      "image/png": "[encoded data removed]",
      "text/plain": [
       "<Figure size 432x288 with 1 Axes>"
      ]
     },
     "metadata": {
      "needs_background": "light"
     },
     "output_type": "display_data"
    }
   ],
   "source": [
    "sns.scatterplot(df['Available Extra Rooms in Hospital'],df['Stay']) # 1st cahrt ka liya\n",
    "plt.show()"
   ]
  },
  {
   "cell_type": "code",
   "execution_count": 46,
   "metadata": {},
   "outputs": [
    {
     "data": {
      "image/png": "[encoded data removed]",
      "text/plain": [
       "<Figure size 432x288 with 1 Axes>"
      ]
     },
     "metadata": {
      "needs_background": "light"
     },
     "output_type": "display_data"
    }
   ],
   "source": [
    "sns.boxplot(df['Bed Grade'],df['Stay']) # 1st cahrt ka liya\n",
    "plt.show()"
   ]
  },
  {
   "cell_type": "code",
   "execution_count": 47,
   "metadata": {},
   "outputs": [
    {
     "data": {
      "image/png": "[encoded data removed]",
      "text/plain": [
       "<Figure size 432x288 with 1 Axes>"
      ]
     },
     "metadata": {
      "needs_background": "light"
     },
     "output_type": "display_data"
    }
   ],
   "source": [
    "sns.scatterplot(df['Bed Grade'],df['Stay']) # 1st cahrt ka liya\n",
    "plt.show()"
   ]
  },
  {
   "cell_type": "code",
   "execution_count": 48,
   "metadata": {},
   "outputs": [
    {
     "data": {
      "image/png": "[encoded data removed]",
      "text/plain": [
       "<Figure size 432x288 with 1 Axes>"
      ]
     },
     "metadata": {
      "needs_background": "light"
     },
     "output_type": "display_data"
    }
   ],
   "source": [
    "sns.boxplot(df['Visitors with Patient'],df['Stay']) # 1st cahrt ka liya\n",
    "\n",
    "plt.show()"
   ]
  },
  {
   "cell_type": "code",
   "execution_count": 49,
   "metadata": {},
   "outputs": [
    {
     "data": {
      "image/png": "[encoded data removed]",
      "text/plain": [
       "<Figure size 432x288 with 1 Axes>"
      ]
     },
     "metadata": {
      "needs_background": "light"
     },
     "output_type": "display_data"
    }
   ],
   "source": [
    "sns.scatterplot(df['Visitors with Patient'],df['Stay']) # 1st cahrt ka liya\n",
    "plt.show()"
   ]
  },
  {
   "cell_type": "code",
   "execution_count": 50,
   "metadata": {},
   "outputs": [
    {
     "data": {
      "image/png": "[encoded data removed]",
      "text/plain": [
       "<Figure size 432x288 with 1 Axes>"
      ]
     },
     "metadata": {
      "needs_background": "light"
     },
     "output_type": "display_data"
    }
   ],
   "source": [
    "sns.boxplot(df['Admission_Deposit']) # 1st cahrt ka liya\n",
    "plt.show()"
   ]
  },
  {
   "cell_type": "code",
   "execution_count": 51,
   "metadata": {},
   "outputs": [
    {
     "name": "stdout",
     "output_type": "stream",
     "text": [
      "0.9314541287450879\n"
     ]
    },
    {
     "data": {
      "image/png": "[encoded data removed]",
      "text/plain": [
       "<Figure size 432x288 with 1 Axes>"
      ]
     },
     "metadata": {
      "needs_background": "light"
     },
     "output_type": "display_data"
    }
   ],
   "source": [
    "sns.distplot(df['Admission_Deposit']) # 1st cahrt ka liya\n",
    "print(df['Admission_Deposit'].skew())\n",
    "plt.show()"
   ]
  },
  {
   "cell_type": "code",
   "execution_count": 52,
   "metadata": {},
   "outputs": [
    {
     "data": {
      "image/png": "[encoded data removed]",
      "text/plain": [
       "<Figure size 432x288 with 1 Axes>"
      ]
     },
     "metadata": {
      "needs_background": "light"
     },
     "output_type": "display_data"
    }
   ],
   "source": [
    "sns.scatterplot(df['Admission_Deposit'],df['Stay']) # 1st cahrt ka liya\n",
    "plt.show()"
   ]
  },
  {
   "cell_type": "code",
   "execution_count": 53,
   "metadata": {},
   "outputs": [
    {
     "data": {
      "text/html": [
       "<div>\n",
       "<style scoped>\n",
       "    .dataframe tbody tr th:only-of-type {\n",
       "        vertical-align: middle;\n",
       "    }\n",
       "\n",
       "    .dataframe tbody tr th {\n",
       "        vertical-align: top;\n",
       "    }\n",
       "\n",
       "    .dataframe thead th {\n",
       "        text-align: right;\n",
       "    }\n",
       "</style>\n",
       "<table border=\"1\" class=\"dataframe\">\n",
       "  <thead>\n",
       "    <tr style=\"text-align: right;\">\n",
       "      <th></th>\n",
       "      <th>Hospital_code</th>\n",
       "      <th>City_Code_Hospital</th>\n",
       "      <th>Available Extra Rooms in Hospital</th>\n",
       "      <th>Bed Grade</th>\n",
       "      <th>patientid</th>\n",
       "      <th>City_Code_Patient</th>\n",
       "      <th>Visitors with Patient</th>\n",
       "      <th>Admission_Deposit</th>\n",
       "      <th>Stay</th>\n",
       "    </tr>\n",
       "  </thead>\n",
       "  <tbody>\n",
       "    <tr>\n",
       "      <th>Hospital_code</th>\n",
       "      <td>1.000000</td>\n",
       "      <td>0.128294</td>\n",
       "      <td>-0.059638</td>\n",
       "      <td>-0.013948</td>\n",
       "      <td>0.002291</td>\n",
       "      <td>-0.015477</td>\n",
       "      <td>-0.028500</td>\n",
       "      <td>0.045446</td>\n",
       "      <td>0.042846</td>\n",
       "    </tr>\n",
       "    <tr>\n",
       "      <th>City_Code_Hospital</th>\n",
       "      <td>0.128294</td>\n",
       "      <td>1.000000</td>\n",
       "      <td>-0.045771</td>\n",
       "      <td>-0.049248</td>\n",
       "      <td>0.000750</td>\n",
       "      <td>-0.024161</td>\n",
       "      <td>0.018184</td>\n",
       "      <td>-0.034455</td>\n",
       "      <td>0.006381</td>\n",
       "    </tr>\n",
       "    <tr>\n",
       "      <th>Available Extra Rooms in Hospital</th>\n",
       "      <td>-0.059638</td>\n",
       "      <td>-0.045771</td>\n",
       "      <td>1.000000</td>\n",
       "      <td>-0.115804</td>\n",
       "      <td>0.000921</td>\n",
       "      <td>-0.009462</td>\n",
       "      <td>0.096714</td>\n",
       "      <td>-0.143739</td>\n",
       "      <td>-0.121120</td>\n",
       "    </tr>\n",
       "    <tr>\n",
       "      <th>Bed Grade</th>\n",
       "      <td>-0.013948</td>\n",
       "      <td>-0.049248</td>\n",
       "      <td>-0.115804</td>\n",
       "      <td>1.000000</td>\n",
       "      <td>0.001638</td>\n",
       "      <td>-0.007581</td>\n",
       "      <td>0.088920</td>\n",
       "      <td>0.073779</td>\n",
       "      <td>0.025761</td>\n",
       "    </tr>\n",
       "    <tr>\n",
       "      <th>patientid</th>\n",
       "      <td>0.002291</td>\n",
       "      <td>0.000750</td>\n",
       "      <td>0.000921</td>\n",
       "      <td>0.001638</td>\n",
       "      <td>1.000000</td>\n",
       "      <td>0.002009</td>\n",
       "      <td>0.006889</td>\n",
       "      <td>-0.000877</td>\n",
       "      <td>0.001125</td>\n",
       "    </tr>\n",
       "    <tr>\n",
       "      <th>City_Code_Patient</th>\n",
       "      <td>-0.015477</td>\n",
       "      <td>-0.024161</td>\n",
       "      <td>-0.009462</td>\n",
       "      <td>-0.007581</td>\n",
       "      <td>0.002009</td>\n",
       "      <td>1.000000</td>\n",
       "      <td>-0.011677</td>\n",
       "      <td>0.025485</td>\n",
       "      <td>-0.009447</td>\n",
       "    </tr>\n",
       "    <tr>\n",
       "      <th>Visitors with Patient</th>\n",
       "      <td>-0.028500</td>\n",
       "      <td>0.018184</td>\n",
       "      <td>0.096714</td>\n",
       "      <td>0.088920</td>\n",
       "      <td>0.006889</td>\n",
       "      <td>-0.011677</td>\n",
       "      <td>1.000000</td>\n",
       "      <td>-0.150358</td>\n",
       "      <td>0.537537</td>\n",
       "    </tr>\n",
       "    <tr>\n",
       "      <th>Admission_Deposit</th>\n",
       "      <td>0.045446</td>\n",
       "      <td>-0.034455</td>\n",
       "      <td>-0.143739</td>\n",
       "      <td>0.073779</td>\n",
       "      <td>-0.000877</td>\n",
       "      <td>0.025485</td>\n",
       "      <td>-0.150358</td>\n",
       "      <td>1.000000</td>\n",
       "      <td>-0.052077</td>\n",
       "    </tr>\n",
       "    <tr>\n",
       "      <th>Stay</th>\n",
       "      <td>0.042846</td>\n",
       "      <td>0.006381</td>\n",
       "      <td>-0.121120</td>\n",
       "      <td>0.025761</td>\n",
       "      <td>0.001125</td>\n",
       "      <td>-0.009447</td>\n",
       "      <td>0.537537</td>\n",
       "      <td>-0.052077</td>\n",
       "      <td>1.000000</td>\n",
       "    </tr>\n",
       "  </tbody>\n",
       "</table>\n",
       "</div>"
      ],
      "text/plain": [
       "                                   Hospital_code  City_Code_Hospital  \\\n",
       "Hospital_code                           1.000000            0.128294   \n",
       "City_Code_Hospital                      0.128294            1.000000   \n",
       "Available Extra Rooms in Hospital      -0.059638           -0.045771   \n",
       "Bed Grade                              -0.013948           -0.049248   \n",
       "patientid                               0.002291            0.000750   \n",
       "City_Code_Patient                      -0.015477           -0.024161   \n",
       "Visitors with Patient                  -0.028500            0.018184   \n",
       "Admission_Deposit                       0.045446           -0.034455   \n",
       "Stay                                    0.042846            0.006381   \n",
       "\n",
       "                                   Available Extra Rooms in Hospital  \\\n",
       "Hospital_code                                              -0.059638   \n",
       "City_Code_Hospital                                         -0.045771   \n",
       "Available Extra Rooms in Hospital                           1.000000   \n",
       "Bed Grade                                                  -0.115804   \n",
       "patientid                                                   0.000921   \n",
       "City_Code_Patient                                          -0.009462   \n",
       "Visitors with Patient                                       0.096714   \n",
       "Admission_Deposit                                          -0.143739   \n",
       "Stay                                                       -0.121120   \n",
       "\n",
       "                                   Bed Grade  patientid  City_Code_Patient  \\\n",
       "Hospital_code                      -0.013948   0.002291          -0.015477   \n",
       "City_Code_Hospital                 -0.049248   0.000750          -0.024161   \n",
       "Available Extra Rooms in Hospital  -0.115804   0.000921          -0.009462   \n",
       "Bed Grade                           1.000000   0.001638          -0.007581   \n",
       "patientid                           0.001638   1.000000           0.002009   \n",
       "City_Code_Patient                  -0.007581   0.002009           1.000000   \n",
       "Visitors with Patient               0.088920   0.006889          -0.011677   \n",
       "Admission_Deposit                   0.073779  -0.000877           0.025485   \n",
       "Stay                                0.025761   0.001125          -0.009447   \n",
       "\n",
       "                                   Visitors with Patient  Admission_Deposit  \\\n",
       "Hospital_code                                  -0.028500           0.045446   \n",
       "City_Code_Hospital                              0.018184          -0.034455   \n",
       "Available Extra Rooms in Hospital               0.096714          -0.143739   \n",
       "Bed Grade                                       0.088920           0.073779   \n",
       "patientid                                       0.006889          -0.000877   \n",
       "City_Code_Patient                              -0.011677           0.025485   \n",
       "Visitors with Patient                           1.000000          -0.150358   \n",
       "Admission_Deposit                              -0.150358           1.000000   \n",
       "Stay                                            0.537537          -0.052077   \n",
       "\n",
       "                                       Stay  \n",
       "Hospital_code                      0.042846  \n",
       "City_Code_Hospital                 0.006381  \n",
       "Available Extra Rooms in Hospital -0.121120  \n",
       "Bed Grade                          0.025761  \n",
       "patientid                          0.001125  \n",
       "City_Code_Patient                 -0.009447  \n",
       "Visitors with Patient              0.537537  \n",
       "Admission_Deposit                 -0.052077  \n",
       "Stay                               1.000000  "
      ]
     },
     "execution_count": 53,
     "metadata": {},
     "output_type": "execute_result"
    }
   ],
   "source": [
    "num_feat.corr()"
   ]
  },
  {
   "cell_type": "code",
   "execution_count": 54,
   "metadata": {},
   "outputs": [
    {
     "data": {
      "text/html": [
       "<div>\n",
       "<style scoped>\n",
       "    .dataframe tbody tr th:only-of-type {\n",
       "        vertical-align: middle;\n",
       "    }\n",
       "\n",
       "    .dataframe tbody tr th {\n",
       "        vertical-align: top;\n",
       "    }\n",
       "\n",
       "    .dataframe thead th {\n",
       "        text-align: right;\n",
       "    }\n",
       "</style>\n",
       "<table border=\"1\" class=\"dataframe\">\n",
       "  <thead>\n",
       "    <tr style=\"text-align: right;\">\n",
       "      <th></th>\n",
       "      <th>Hospital_code</th>\n",
       "      <th>City_Code_Hospital</th>\n",
       "      <th>Available Extra Rooms in Hospital</th>\n",
       "      <th>Bed Grade</th>\n",
       "      <th>patientid</th>\n",
       "      <th>City_Code_Patient</th>\n",
       "      <th>Visitors with Patient</th>\n",
       "      <th>Admission_Deposit</th>\n",
       "      <th>Stay</th>\n",
       "    </tr>\n",
       "  </thead>\n",
       "  <tbody>\n",
       "    <tr>\n",
       "      <th>count</th>\n",
       "      <td>318438.000000</td>\n",
       "      <td>318438.000000</td>\n",
       "      <td>318438.000000</td>\n",
       "      <td>318438.000000</td>\n",
       "      <td>318438.000000</td>\n",
       "      <td>318438.000000</td>\n",
       "      <td>318438.000000</td>\n",
       "      <td>318438.000000</td>\n",
       "      <td>318438.000000</td>\n",
       "    </tr>\n",
       "    <tr>\n",
       "      <th>mean</th>\n",
       "      <td>18.318841</td>\n",
       "      <td>4.771717</td>\n",
       "      <td>3.197627</td>\n",
       "      <td>2.625940</td>\n",
       "      <td>65747.579472</td>\n",
       "      <td>7.262506</td>\n",
       "      <td>3.284099</td>\n",
       "      <td>4880.749392</td>\n",
       "      <td>2.698550</td>\n",
       "    </tr>\n",
       "    <tr>\n",
       "      <th>std</th>\n",
       "      <td>8.633755</td>\n",
       "      <td>3.102535</td>\n",
       "      <td>1.168171</td>\n",
       "      <td>0.873019</td>\n",
       "      <td>37979.936440</td>\n",
       "      <td>4.712210</td>\n",
       "      <td>1.764061</td>\n",
       "      <td>1086.776254</td>\n",
       "      <td>2.150075</td>\n",
       "    </tr>\n",
       "    <tr>\n",
       "      <th>min</th>\n",
       "      <td>1.000000</td>\n",
       "      <td>1.000000</td>\n",
       "      <td>0.000000</td>\n",
       "      <td>1.000000</td>\n",
       "      <td>1.000000</td>\n",
       "      <td>1.000000</td>\n",
       "      <td>0.000000</td>\n",
       "      <td>1800.000000</td>\n",
       "      <td>0.000000</td>\n",
       "    </tr>\n",
       "    <tr>\n",
       "      <th>25%</th>\n",
       "      <td>11.000000</td>\n",
       "      <td>2.000000</td>\n",
       "      <td>2.000000</td>\n",
       "      <td>2.000000</td>\n",
       "      <td>32847.000000</td>\n",
       "      <td>4.000000</td>\n",
       "      <td>2.000000</td>\n",
       "      <td>4186.000000</td>\n",
       "      <td>1.000000</td>\n",
       "    </tr>\n",
       "    <tr>\n",
       "      <th>50%</th>\n",
       "      <td>19.000000</td>\n",
       "      <td>5.000000</td>\n",
       "      <td>3.000000</td>\n",
       "      <td>3.000000</td>\n",
       "      <td>65724.500000</td>\n",
       "      <td>8.000000</td>\n",
       "      <td>3.000000</td>\n",
       "      <td>4741.000000</td>\n",
       "      <td>2.000000</td>\n",
       "    </tr>\n",
       "    <tr>\n",
       "      <th>75%</th>\n",
       "      <td>26.000000</td>\n",
       "      <td>7.000000</td>\n",
       "      <td>4.000000</td>\n",
       "      <td>3.000000</td>\n",
       "      <td>98470.000000</td>\n",
       "      <td>8.000000</td>\n",
       "      <td>4.000000</td>\n",
       "      <td>5409.000000</td>\n",
       "      <td>3.000000</td>\n",
       "    </tr>\n",
       "    <tr>\n",
       "      <th>max</th>\n",
       "      <td>32.000000</td>\n",
       "      <td>13.000000</td>\n",
       "      <td>24.000000</td>\n",
       "      <td>4.000000</td>\n",
       "      <td>131624.000000</td>\n",
       "      <td>38.000000</td>\n",
       "      <td>32.000000</td>\n",
       "      <td>11008.000000</td>\n",
       "      <td>10.000000</td>\n",
       "    </tr>\n",
       "  </tbody>\n",
       "</table>\n",
       "</div>"
      ],
      "text/plain": [
       "       Hospital_code  City_Code_Hospital  Available Extra Rooms in Hospital  \\\n",
       "count  318438.000000       318438.000000                      318438.000000   \n",
       "mean       18.318841            4.771717                           3.197627   \n",
       "std         8.633755            3.102535                           1.168171   \n",
       "min         1.000000            1.000000                           0.000000   \n",
       "25%        11.000000            2.000000                           2.000000   \n",
       "50%        19.000000            5.000000                           3.000000   \n",
       "75%        26.000000            7.000000                           4.000000   \n",
       "max        32.000000           13.000000                          24.000000   \n",
       "\n",
       "           Bed Grade      patientid  City_Code_Patient  Visitors with Patient  \\\n",
       "count  318438.000000  318438.000000      318438.000000          318438.000000   \n",
       "mean        2.625940   65747.579472           7.262506               3.284099   \n",
       "std         0.873019   37979.936440           4.712210               1.764061   \n",
       "min         1.000000       1.000000           1.000000               0.000000   \n",
       "25%         2.000000   32847.000000           4.000000               2.000000   \n",
       "50%         3.000000   65724.500000           8.000000               3.000000   \n",
       "75%         3.000000   98470.000000           8.000000               4.000000   \n",
       "max         4.000000  131624.000000          38.000000              32.000000   \n",
       "\n",
       "       Admission_Deposit           Stay  \n",
       "count      318438.000000  318438.000000  \n",
       "mean         4880.749392       2.698550  \n",
       "std          1086.776254       2.150075  \n",
       "min          1800.000000       0.000000  \n",
       "25%          4186.000000       1.000000  \n",
       "50%          4741.000000       2.000000  \n",
       "75%          5409.000000       3.000000  \n",
       "max         11008.000000      10.000000  "
      ]
     },
     "execution_count": 54,
     "metadata": {},
     "output_type": "execute_result"
    }
   ],
   "source": [
    "num_feat.describe()"
   ]
  },
  {
   "cell_type": "code",
   "execution_count": 55,
   "metadata": {},
   "outputs": [
    {
     "name": "stderr",
     "output_type": "stream",
     "text": [
      "C:\\Users\\NEERAJ\\AppData\\Roaming\\Python\\Python37\\site-packages\\pandas\\core\\frame.py:4167: SettingWithCopyWarning: \n",
      "A value is trying to be set on a copy of a slice from a DataFrame\n",
      "\n",
      "See the caveats in the documentation: https://pandas.pydata.org/pandas-docs/stable/user_guide/indexing.html#returning-a-view-versus-a-copy\n",
      "  errors=errors,\n"
     ]
    }
   ],
   "source": [
    "num_feat.drop(['Hospital_code','City_Code_Hospital','patientid','City_Code_Patient'],axis=1,inplace=True)"
   ]
  },
  {
   "cell_type": "code",
   "execution_count": 56,
   "metadata": {},
   "outputs": [
    {
     "name": "stdout",
     "output_type": "stream",
     "text": [
      "Available Extra Rooms in Hospital Skewness:  0.9719301931612315\n",
      "Bed Grade Skewness:  0.05133010989326542\n",
      "Visitors with Patient Skewness:  3.137125285972602\n",
      "Admission_Deposit Skewness:  0.9314541287450879\n",
      "Stay Skewness:  1.4238517498712575\n"
     ]
    }
   ],
   "source": [
    "for i in num_feat.columns:\n",
    "    print(i,\"Skewness: \",num_feat[i].skew())"
   ]
  },
  {
   "cell_type": "code",
   "execution_count": 57,
   "metadata": {},
   "outputs": [
    {
     "data": {
      "text/plain": [
       "['Available Extra Rooms in Hospital',\n",
       " 'Bed Grade',\n",
       " 'Visitors with Patient',\n",
       " 'Admission_Deposit']"
      ]
     },
     "execution_count": 57,
     "metadata": {},
     "output_type": "execute_result"
    }
   ],
   "source": [
    "col=['Available Extra Rooms in Hospital', 'Bed Grade',\n",
    "       'Visitors with Patient', 'Admission_Deposit']\n",
    "col"
   ]
  },
  {
   "cell_type": "code",
   "execution_count": 58,
   "metadata": {},
   "outputs": [
    {
     "data": {
      "text/html": [
       "<div>\n",
       "<style scoped>\n",
       "    .dataframe tbody tr th:only-of-type {\n",
       "        vertical-align: middle;\n",
       "    }\n",
       "\n",
       "    .dataframe tbody tr th {\n",
       "        vertical-align: top;\n",
       "    }\n",
       "\n",
       "    .dataframe thead th {\n",
       "        text-align: right;\n",
       "    }\n",
       "</style>\n",
       "<table border=\"1\" class=\"dataframe\">\n",
       "  <thead>\n",
       "    <tr style=\"text-align: right;\">\n",
       "      <th></th>\n",
       "      <th>Available Extra Rooms in Hospital</th>\n",
       "      <th>Bed Grade</th>\n",
       "      <th>Visitors with Patient</th>\n",
       "      <th>Admission_Deposit</th>\n",
       "    </tr>\n",
       "  </thead>\n",
       "  <tbody>\n",
       "    <tr>\n",
       "      <th>0</th>\n",
       "      <td>-0.029223</td>\n",
       "      <td>-0.702011</td>\n",
       "      <td>-0.987006</td>\n",
       "      <td>0.141167</td>\n",
       "    </tr>\n",
       "    <tr>\n",
       "      <th>1</th>\n",
       "      <td>-1.107677</td>\n",
       "      <td>-0.702011</td>\n",
       "      <td>-0.987006</td>\n",
       "      <td>1.024635</td>\n",
       "    </tr>\n",
       "    <tr>\n",
       "      <th>2</th>\n",
       "      <td>-1.107677</td>\n",
       "      <td>-0.702011</td>\n",
       "      <td>-0.987006</td>\n",
       "      <td>-0.017179</td>\n",
       "    </tr>\n",
       "    <tr>\n",
       "      <th>3</th>\n",
       "      <td>-1.107677</td>\n",
       "      <td>-0.702011</td>\n",
       "      <td>-0.987006</td>\n",
       "      <td>1.935920</td>\n",
       "    </tr>\n",
       "    <tr>\n",
       "      <th>4</th>\n",
       "      <td>-1.107677</td>\n",
       "      <td>-0.702011</td>\n",
       "      <td>-0.987006</td>\n",
       "      <td>0.709565</td>\n",
       "    </tr>\n",
       "  </tbody>\n",
       "</table>\n",
       "</div>"
      ],
      "text/plain": [
       "   Available Extra Rooms in Hospital  Bed Grade  Visitors with Patient  \\\n",
       "0                          -0.029223  -0.702011              -0.987006   \n",
       "1                          -1.107677  -0.702011              -0.987006   \n",
       "2                          -1.107677  -0.702011              -0.987006   \n",
       "3                          -1.107677  -0.702011              -0.987006   \n",
       "4                          -1.107677  -0.702011              -0.987006   \n",
       "\n",
       "   Admission_Deposit  \n",
       "0           0.141167  \n",
       "1           1.024635  \n",
       "2          -0.017179  \n",
       "3           1.935920  \n",
       "4           0.709565  "
      ]
     },
     "execution_count": 58,
     "metadata": {},
     "output_type": "execute_result"
    }
   ],
   "source": [
    "from sklearn.preprocessing import PowerTransformer\n",
    "\n",
    "pt = PowerTransformer(method='yeo-johnson',standardize=True)\n",
    "Box_cox_transformed_feat_train = pt.fit_transform(num_feat[col])\n",
    "\n",
    "# convert the array back to a dataframe\n",
    "num_feat_tran = pd.DataFrame(Box_cox_transformed_feat_train,columns=col)\n",
    "\n",
    "'''# Transform the test data Box_cox_trans_feat\n",
    "Box_cox_transformed_feat_test=pt.transform(test[numFeatures_test]+1)\n",
    "\n",
    "# convert the array back to a dataframe\n",
    "Box_cox_transformed_feat_test = pd.DataFrame(Box_cox_transformed_feat_test,columns=numFeatures_test)\n",
    "'''\n",
    "num_feat_tran.head()"
   ]
  },
  {
   "cell_type": "code",
   "execution_count": 59,
   "metadata": {},
   "outputs": [
    {
     "data": {
      "image/png": "[encoded data removed]",
      "text/plain": [
       "<Figure size 432x288 with 1 Axes>"
      ]
     },
     "metadata": {
      "needs_background": "light"
     },
     "output_type": "display_data"
    }
   ],
   "source": [
    "sns.distplot(df['City_Code_Patient'])\n",
    "plt.show()"
   ]
  },
  {
   "cell_type": "code",
   "execution_count": 60,
   "metadata": {},
   "outputs": [
    {
     "data": {
      "image/png": "[encoded data removed]",
      "text/plain": [
       "<Figure size 432x288 with 1 Axes>"
      ]
     },
     "metadata": {
      "needs_background": "light"
     },
     "output_type": "display_data"
    }
   ],
   "source": [
    "sns.scatterplot(df['City_Code_Patient'],df['Stay'])\n",
    "plt.show()"
   ]
  },
  {
   "cell_type": "code",
   "execution_count": 61,
   "metadata": {},
   "outputs": [
    {
     "ename": "KeyError",
     "evalue": "\"['City_Code_Patient'] not found in axis\"",
     "output_type": "error",
     "traceback": [
      "\u001b[1;31m---------------------------------------------------------------------------\u001b[0m",
      "\u001b[1;31mKeyError\u001b[0m                                  Traceback (most recent call last)",
      "\u001b[1;32m<ipython-input-61-c6158fc6eb55>\u001b[0m in \u001b[0;36m<module>\u001b[1;34m\u001b[0m\n\u001b[1;32m----> 1\u001b[1;33m \u001b[0mnum_feat\u001b[0m\u001b[1;33m.\u001b[0m\u001b[0mdrop\u001b[0m\u001b[1;33m(\u001b[0m\u001b[1;34m'City_Code_Patient'\u001b[0m\u001b[1;33m,\u001b[0m\u001b[0maxis\u001b[0m\u001b[1;33m=\u001b[0m\u001b[1;36m1\u001b[0m\u001b[1;33m,\u001b[0m\u001b[0minplace\u001b[0m\u001b[1;33m=\u001b[0m\u001b[1;32mTrue\u001b[0m\u001b[1;33m)\u001b[0m\u001b[1;33m\u001b[0m\u001b[1;33m\u001b[0m\u001b[0m\n\u001b[0m",
      "\u001b[1;32m~\\AppData\\Roaming\\Python\\Python37\\site-packages\\pandas\\core\\frame.py\u001b[0m in \u001b[0;36mdrop\u001b[1;34m(self, labels, axis, index, columns, level, inplace, errors)\u001b[0m\n\u001b[0;32m   4165\u001b[0m             \u001b[0mlevel\u001b[0m\u001b[1;33m=\u001b[0m\u001b[0mlevel\u001b[0m\u001b[1;33m,\u001b[0m\u001b[1;33m\u001b[0m\u001b[1;33m\u001b[0m\u001b[0m\n\u001b[0;32m   4166\u001b[0m             \u001b[0minplace\u001b[0m\u001b[1;33m=\u001b[0m\u001b[0minplace\u001b[0m\u001b[1;33m,\u001b[0m\u001b[1;33m\u001b[0m\u001b[1;33m\u001b[0m\u001b[0m\n\u001b[1;32m-> 4167\u001b[1;33m             \u001b[0merrors\u001b[0m\u001b[1;33m=\u001b[0m\u001b[0merrors\u001b[0m\u001b[1;33m,\u001b[0m\u001b[1;33m\u001b[0m\u001b[1;33m\u001b[0m\u001b[0m\n\u001b[0m\u001b[0;32m   4168\u001b[0m         )\n\u001b[0;32m   4169\u001b[0m \u001b[1;33m\u001b[0m\u001b[0m\n",
      "\u001b[1;32m~\\AppData\\Roaming\\Python\\Python37\\site-packages\\pandas\\core\\generic.py\u001b[0m in \u001b[0;36mdrop\u001b[1;34m(self, labels, axis, index, columns, level, inplace, errors)\u001b[0m\n\u001b[0;32m   3876\u001b[0m         \u001b[1;32mfor\u001b[0m \u001b[0maxis\u001b[0m\u001b[1;33m,\u001b[0m \u001b[0mlabels\u001b[0m \u001b[1;32min\u001b[0m \u001b[0maxes\u001b[0m\u001b[1;33m.\u001b[0m\u001b[0mitems\u001b[0m\u001b[1;33m(\u001b[0m\u001b[1;33m)\u001b[0m\u001b[1;33m:\u001b[0m\u001b[1;33m\u001b[0m\u001b[1;33m\u001b[0m\u001b[0m\n\u001b[0;32m   3877\u001b[0m             \u001b[1;32mif\u001b[0m \u001b[0mlabels\u001b[0m \u001b[1;32mis\u001b[0m \u001b[1;32mnot\u001b[0m \u001b[1;32mNone\u001b[0m\u001b[1;33m:\u001b[0m\u001b[1;33m\u001b[0m\u001b[1;33m\u001b[0m\u001b[0m\n\u001b[1;32m-> 3878\u001b[1;33m                 \u001b[0mobj\u001b[0m \u001b[1;33m=\u001b[0m \u001b[0mobj\u001b[0m\u001b[1;33m.\u001b[0m\u001b[0m_drop_axis\u001b[0m\u001b[1;33m(\u001b[0m\u001b[0mlabels\u001b[0m\u001b[1;33m,\u001b[0m \u001b[0maxis\u001b[0m\u001b[1;33m,\u001b[0m \u001b[0mlevel\u001b[0m\u001b[1;33m=\u001b[0m\u001b[0mlevel\u001b[0m\u001b[1;33m,\u001b[0m \u001b[0merrors\u001b[0m\u001b[1;33m=\u001b[0m\u001b[0merrors\u001b[0m\u001b[1;33m)\u001b[0m\u001b[1;33m\u001b[0m\u001b[1;33m\u001b[0m\u001b[0m\n\u001b[0m\u001b[0;32m   3879\u001b[0m \u001b[1;33m\u001b[0m\u001b[0m\n\u001b[0;32m   3880\u001b[0m         \u001b[1;32mif\u001b[0m \u001b[0minplace\u001b[0m\u001b[1;33m:\u001b[0m\u001b[1;33m\u001b[0m\u001b[1;33m\u001b[0m\u001b[0m\n",
      "\u001b[1;32m~\\AppData\\Roaming\\Python\\Python37\\site-packages\\pandas\\core\\generic.py\u001b[0m in \u001b[0;36m_drop_axis\u001b[1;34m(self, labels, axis, level, errors)\u001b[0m\n\u001b[0;32m   3910\u001b[0m                 \u001b[0mnew_axis\u001b[0m \u001b[1;33m=\u001b[0m \u001b[0maxis\u001b[0m\u001b[1;33m.\u001b[0m\u001b[0mdrop\u001b[0m\u001b[1;33m(\u001b[0m\u001b[0mlabels\u001b[0m\u001b[1;33m,\u001b[0m \u001b[0mlevel\u001b[0m\u001b[1;33m=\u001b[0m\u001b[0mlevel\u001b[0m\u001b[1;33m,\u001b[0m \u001b[0merrors\u001b[0m\u001b[1;33m=\u001b[0m\u001b[0merrors\u001b[0m\u001b[1;33m)\u001b[0m\u001b[1;33m\u001b[0m\u001b[1;33m\u001b[0m\u001b[0m\n\u001b[0;32m   3911\u001b[0m             \u001b[1;32melse\u001b[0m\u001b[1;33m:\u001b[0m\u001b[1;33m\u001b[0m\u001b[1;33m\u001b[0m\u001b[0m\n\u001b[1;32m-> 3912\u001b[1;33m                 \u001b[0mnew_axis\u001b[0m \u001b[1;33m=\u001b[0m \u001b[0maxis\u001b[0m\u001b[1;33m.\u001b[0m\u001b[0mdrop\u001b[0m\u001b[1;33m(\u001b[0m\u001b[0mlabels\u001b[0m\u001b[1;33m,\u001b[0m \u001b[0merrors\u001b[0m\u001b[1;33m=\u001b[0m\u001b[0merrors\u001b[0m\u001b[1;33m)\u001b[0m\u001b[1;33m\u001b[0m\u001b[1;33m\u001b[0m\u001b[0m\n\u001b[0m\u001b[0;32m   3913\u001b[0m             \u001b[0mresult\u001b[0m \u001b[1;33m=\u001b[0m \u001b[0mself\u001b[0m\u001b[1;33m.\u001b[0m\u001b[0mreindex\u001b[0m\u001b[1;33m(\u001b[0m\u001b[1;33m**\u001b[0m\u001b[1;33m{\u001b[0m\u001b[0maxis_name\u001b[0m\u001b[1;33m:\u001b[0m \u001b[0mnew_axis\u001b[0m\u001b[1;33m}\u001b[0m\u001b[1;33m)\u001b[0m\u001b[1;33m\u001b[0m\u001b[1;33m\u001b[0m\u001b[0m\n\u001b[0;32m   3914\u001b[0m \u001b[1;33m\u001b[0m\u001b[0m\n",
      "\u001b[1;32m~\\AppData\\Roaming\\Python\\Python37\\site-packages\\pandas\\core\\indexes\\base.py\u001b[0m in \u001b[0;36mdrop\u001b[1;34m(self, labels, errors)\u001b[0m\n\u001b[0;32m   5274\u001b[0m         \u001b[1;32mif\u001b[0m \u001b[0mmask\u001b[0m\u001b[1;33m.\u001b[0m\u001b[0many\u001b[0m\u001b[1;33m(\u001b[0m\u001b[1;33m)\u001b[0m\u001b[1;33m:\u001b[0m\u001b[1;33m\u001b[0m\u001b[1;33m\u001b[0m\u001b[0m\n\u001b[0;32m   5275\u001b[0m             \u001b[1;32mif\u001b[0m \u001b[0merrors\u001b[0m \u001b[1;33m!=\u001b[0m \u001b[1;34m\"ignore\"\u001b[0m\u001b[1;33m:\u001b[0m\u001b[1;33m\u001b[0m\u001b[1;33m\u001b[0m\u001b[0m\n\u001b[1;32m-> 5276\u001b[1;33m                 \u001b[1;32mraise\u001b[0m \u001b[0mKeyError\u001b[0m\u001b[1;33m(\u001b[0m\u001b[1;34mf\"{labels[mask]} not found in axis\"\u001b[0m\u001b[1;33m)\u001b[0m\u001b[1;33m\u001b[0m\u001b[1;33m\u001b[0m\u001b[0m\n\u001b[0m\u001b[0;32m   5277\u001b[0m             \u001b[0mindexer\u001b[0m \u001b[1;33m=\u001b[0m \u001b[0mindexer\u001b[0m\u001b[1;33m[\u001b[0m\u001b[1;33m~\u001b[0m\u001b[0mmask\u001b[0m\u001b[1;33m]\u001b[0m\u001b[1;33m\u001b[0m\u001b[1;33m\u001b[0m\u001b[0m\n\u001b[0;32m   5278\u001b[0m         \u001b[1;32mreturn\u001b[0m \u001b[0mself\u001b[0m\u001b[1;33m.\u001b[0m\u001b[0mdelete\u001b[0m\u001b[1;33m(\u001b[0m\u001b[0mindexer\u001b[0m\u001b[1;33m)\u001b[0m\u001b[1;33m\u001b[0m\u001b[1;33m\u001b[0m\u001b[0m\n",
      "\u001b[1;31mKeyError\u001b[0m: \"['City_Code_Patient'] not found in axis\""
     ]
    }
   ],
   "source": [
    "num_feat.drop('City_Code_Patient',axis=1,inplace=True)"
   ]
  },
  {
   "cell_type": "code",
   "execution_count": 62,
   "metadata": {},
   "outputs": [],
   "source": [
    "num_feat=num_feat['Stay']"
   ]
  },
  {
   "cell_type": "code",
   "execution_count": 63,
   "metadata": {},
   "outputs": [],
   "source": [
    "final_df=pd.concat([num_feat,num_feat_tran,cat_feat],axis=1)"
   ]
  },
  {
   "cell_type": "code",
   "execution_count": 64,
   "metadata": {},
   "outputs": [
    {
     "data": {
      "text/plain": [
       "(318438, 12)"
      ]
     },
     "execution_count": 64,
     "metadata": {},
     "output_type": "execute_result"
    }
   ],
   "source": [
    "final_df.shape"
   ]
  },
  {
   "cell_type": "code",
   "execution_count": 65,
   "metadata": {},
   "outputs": [
    {
     "data": {
      "text/html": [
       "<div>\n",
       "<style scoped>\n",
       "    .dataframe tbody tr th:only-of-type {\n",
       "        vertical-align: middle;\n",
       "    }\n",
       "\n",
       "    .dataframe tbody tr th {\n",
       "        vertical-align: top;\n",
       "    }\n",
       "\n",
       "    .dataframe thead th {\n",
       "        text-align: right;\n",
       "    }\n",
       "</style>\n",
       "<table border=\"1\" class=\"dataframe\">\n",
       "  <thead>\n",
       "    <tr style=\"text-align: right;\">\n",
       "      <th></th>\n",
       "      <th>Stay</th>\n",
       "      <th>Available Extra Rooms in Hospital</th>\n",
       "      <th>Bed Grade</th>\n",
       "      <th>Visitors with Patient</th>\n",
       "      <th>Admission_Deposit</th>\n",
       "      <th>Hospital_type_code</th>\n",
       "      <th>Department</th>\n",
       "      <th>Ward_Type</th>\n",
       "      <th>Ward_Facility_Code</th>\n",
       "      <th>Type of Admission</th>\n",
       "      <th>Severity of Illness</th>\n",
       "      <th>Age</th>\n",
       "    </tr>\n",
       "  </thead>\n",
       "  <tbody>\n",
       "    <tr>\n",
       "      <th>0</th>\n",
       "      <td>0</td>\n",
       "      <td>-0.029223</td>\n",
       "      <td>-0.702011</td>\n",
       "      <td>-0.987006</td>\n",
       "      <td>0.141167</td>\n",
       "      <td>0</td>\n",
       "      <td>1</td>\n",
       "      <td>0</td>\n",
       "      <td>0</td>\n",
       "      <td>0</td>\n",
       "      <td>1</td>\n",
       "      <td>0</td>\n",
       "    </tr>\n",
       "    <tr>\n",
       "      <th>1</th>\n",
       "      <td>4</td>\n",
       "      <td>-1.107677</td>\n",
       "      <td>-0.702011</td>\n",
       "      <td>-0.987006</td>\n",
       "      <td>1.024635</td>\n",
       "      <td>0</td>\n",
       "      <td>1</td>\n",
       "      <td>1</td>\n",
       "      <td>0</td>\n",
       "      <td>1</td>\n",
       "      <td>1</td>\n",
       "      <td>0</td>\n",
       "    </tr>\n",
       "    <tr>\n",
       "      <th>2</th>\n",
       "      <td>3</td>\n",
       "      <td>-1.107677</td>\n",
       "      <td>-0.702011</td>\n",
       "      <td>-0.987006</td>\n",
       "      <td>-0.017179</td>\n",
       "      <td>0</td>\n",
       "      <td>0</td>\n",
       "      <td>1</td>\n",
       "      <td>0</td>\n",
       "      <td>1</td>\n",
       "      <td>1</td>\n",
       "      <td>0</td>\n",
       "    </tr>\n",
       "    <tr>\n",
       "      <th>3</th>\n",
       "      <td>4</td>\n",
       "      <td>-1.107677</td>\n",
       "      <td>-0.702011</td>\n",
       "      <td>-0.987006</td>\n",
       "      <td>1.935920</td>\n",
       "      <td>0</td>\n",
       "      <td>1</td>\n",
       "      <td>0</td>\n",
       "      <td>1</td>\n",
       "      <td>1</td>\n",
       "      <td>1</td>\n",
       "      <td>0</td>\n",
       "    </tr>\n",
       "    <tr>\n",
       "      <th>4</th>\n",
       "      <td>4</td>\n",
       "      <td>-1.107677</td>\n",
       "      <td>-0.702011</td>\n",
       "      <td>-0.987006</td>\n",
       "      <td>0.709565</td>\n",
       "      <td>0</td>\n",
       "      <td>1</td>\n",
       "      <td>1</td>\n",
       "      <td>1</td>\n",
       "      <td>1</td>\n",
       "      <td>1</td>\n",
       "      <td>0</td>\n",
       "    </tr>\n",
       "  </tbody>\n",
       "</table>\n",
       "</div>"
      ],
      "text/plain": [
       "   Stay  Available Extra Rooms in Hospital  Bed Grade  Visitors with Patient  \\\n",
       "0     0                          -0.029223  -0.702011              -0.987006   \n",
       "1     4                          -1.107677  -0.702011              -0.987006   \n",
       "2     3                          -1.107677  -0.702011              -0.987006   \n",
       "3     4                          -1.107677  -0.702011              -0.987006   \n",
       "4     4                          -1.107677  -0.702011              -0.987006   \n",
       "\n",
       "   Admission_Deposit  Hospital_type_code  Department  Ward_Type  \\\n",
       "0           0.141167                   0           1          0   \n",
       "1           1.024635                   0           1          1   \n",
       "2          -0.017179                   0           0          1   \n",
       "3           1.935920                   0           1          0   \n",
       "4           0.709565                   0           1          1   \n",
       "\n",
       "   Ward_Facility_Code  Type of Admission  Severity of Illness  Age  \n",
       "0                   0                  0                    1    0  \n",
       "1                   0                  1                    1    0  \n",
       "2                   0                  1                    1    0  \n",
       "3                   1                  1                    1    0  \n",
       "4                   1                  1                    1    0  "
      ]
     },
     "execution_count": 65,
     "metadata": {},
     "output_type": "execute_result"
    }
   ],
   "source": [
    "final_df.head()"
   ]
  },
  {
   "cell_type": "code",
   "execution_count": 66,
   "metadata": {},
   "outputs": [
    {
     "data": {
      "text/html": [
       "<div>\n",
       "<style scoped>\n",
       "    .dataframe tbody tr th:only-of-type {\n",
       "        vertical-align: middle;\n",
       "    }\n",
       "\n",
       "    .dataframe tbody tr th {\n",
       "        vertical-align: top;\n",
       "    }\n",
       "\n",
       "    .dataframe thead th {\n",
       "        text-align: right;\n",
       "    }\n",
       "</style>\n",
       "<table border=\"1\" class=\"dataframe\">\n",
       "  <thead>\n",
       "    <tr style=\"text-align: right;\">\n",
       "      <th></th>\n",
       "      <th>Stay</th>\n",
       "      <th>Available Extra Rooms in Hospital</th>\n",
       "      <th>Bed Grade</th>\n",
       "      <th>Visitors with Patient</th>\n",
       "      <th>Admission_Deposit</th>\n",
       "      <th>Hospital_type_code</th>\n",
       "      <th>Department</th>\n",
       "      <th>Ward_Type</th>\n",
       "      <th>Ward_Facility_Code</th>\n",
       "      <th>Type of Admission</th>\n",
       "      <th>Severity of Illness</th>\n",
       "      <th>Age</th>\n",
       "    </tr>\n",
       "  </thead>\n",
       "  <tbody>\n",
       "    <tr>\n",
       "      <th>Stay</th>\n",
       "      <td>1.000000</td>\n",
       "      <td>-0.129077</td>\n",
       "      <td>0.025037</td>\n",
       "      <td>0.467967</td>\n",
       "      <td>-0.074597</td>\n",
       "      <td>0.045099</td>\n",
       "      <td>0.022173</td>\n",
       "      <td>0.176936</td>\n",
       "      <td>0.054114</td>\n",
       "      <td>0.092101</td>\n",
       "      <td>0.093734</td>\n",
       "      <td>0.051136</td>\n",
       "    </tr>\n",
       "    <tr>\n",
       "      <th>Available Extra Rooms in Hospital</th>\n",
       "      <td>-0.129077</td>\n",
       "      <td>1.000000</td>\n",
       "      <td>-0.123699</td>\n",
       "      <td>0.150749</td>\n",
       "      <td>-0.153612</td>\n",
       "      <td>-0.104150</td>\n",
       "      <td>-0.045867</td>\n",
       "      <td>-0.333072</td>\n",
       "      <td>-0.021622</td>\n",
       "      <td>-0.046660</td>\n",
       "      <td>-0.015100</td>\n",
       "      <td>-0.016330</td>\n",
       "    </tr>\n",
       "    <tr>\n",
       "      <th>Bed Grade</th>\n",
       "      <td>0.025037</td>\n",
       "      <td>-0.123699</td>\n",
       "      <td>1.000000</td>\n",
       "      <td>0.031218</td>\n",
       "      <td>0.073615</td>\n",
       "      <td>-0.016489</td>\n",
       "      <td>-0.017184</td>\n",
       "      <td>-0.020427</td>\n",
       "      <td>-0.007712</td>\n",
       "      <td>0.107620</td>\n",
       "      <td>-0.203356</td>\n",
       "      <td>0.007079</td>\n",
       "    </tr>\n",
       "    <tr>\n",
       "      <th>Visitors with Patient</th>\n",
       "      <td>0.467967</td>\n",
       "      <td>0.150749</td>\n",
       "      <td>0.031218</td>\n",
       "      <td>1.000000</td>\n",
       "      <td>-0.191841</td>\n",
       "      <td>-0.040243</td>\n",
       "      <td>0.009917</td>\n",
       "      <td>-0.051071</td>\n",
       "      <td>-0.004305</td>\n",
       "      <td>-0.052656</td>\n",
       "      <td>0.042398</td>\n",
       "      <td>0.008475</td>\n",
       "    </tr>\n",
       "    <tr>\n",
       "      <th>Admission_Deposit</th>\n",
       "      <td>-0.074597</td>\n",
       "      <td>-0.153612</td>\n",
       "      <td>0.073615</td>\n",
       "      <td>-0.191841</td>\n",
       "      <td>1.000000</td>\n",
       "      <td>0.031822</td>\n",
       "      <td>0.014141</td>\n",
       "      <td>0.019715</td>\n",
       "      <td>0.014165</td>\n",
       "      <td>0.101881</td>\n",
       "      <td>-0.061905</td>\n",
       "      <td>0.004057</td>\n",
       "    </tr>\n",
       "    <tr>\n",
       "      <th>Hospital_type_code</th>\n",
       "      <td>0.045099</td>\n",
       "      <td>-0.104150</td>\n",
       "      <td>-0.016489</td>\n",
       "      <td>-0.040243</td>\n",
       "      <td>0.031822</td>\n",
       "      <td>1.000000</td>\n",
       "      <td>-0.005549</td>\n",
       "      <td>0.319626</td>\n",
       "      <td>0.362480</td>\n",
       "      <td>0.009541</td>\n",
       "      <td>0.014716</td>\n",
       "      <td>0.001027</td>\n",
       "    </tr>\n",
       "    <tr>\n",
       "      <th>Department</th>\n",
       "      <td>0.022173</td>\n",
       "      <td>-0.045867</td>\n",
       "      <td>-0.017184</td>\n",
       "      <td>0.009917</td>\n",
       "      <td>0.014141</td>\n",
       "      <td>-0.005549</td>\n",
       "      <td>1.000000</td>\n",
       "      <td>0.026381</td>\n",
       "      <td>0.003160</td>\n",
       "      <td>-0.041898</td>\n",
       "      <td>0.024541</td>\n",
       "      <td>0.071152</td>\n",
       "    </tr>\n",
       "    <tr>\n",
       "      <th>Ward_Type</th>\n",
       "      <td>0.176936</td>\n",
       "      <td>-0.333072</td>\n",
       "      <td>-0.020427</td>\n",
       "      <td>-0.051071</td>\n",
       "      <td>0.019715</td>\n",
       "      <td>0.319626</td>\n",
       "      <td>0.026381</td>\n",
       "      <td>1.000000</td>\n",
       "      <td>0.104255</td>\n",
       "      <td>-0.036800</td>\n",
       "      <td>0.010958</td>\n",
       "      <td>0.013244</td>\n",
       "    </tr>\n",
       "    <tr>\n",
       "      <th>Ward_Facility_Code</th>\n",
       "      <td>0.054114</td>\n",
       "      <td>-0.021622</td>\n",
       "      <td>-0.007712</td>\n",
       "      <td>-0.004305</td>\n",
       "      <td>0.014165</td>\n",
       "      <td>0.362480</td>\n",
       "      <td>0.003160</td>\n",
       "      <td>0.104255</td>\n",
       "      <td>1.000000</td>\n",
       "      <td>0.021570</td>\n",
       "      <td>0.016708</td>\n",
       "      <td>-0.003087</td>\n",
       "    </tr>\n",
       "    <tr>\n",
       "      <th>Type of Admission</th>\n",
       "      <td>0.092101</td>\n",
       "      <td>-0.046660</td>\n",
       "      <td>0.107620</td>\n",
       "      <td>-0.052656</td>\n",
       "      <td>0.101881</td>\n",
       "      <td>0.009541</td>\n",
       "      <td>-0.041898</td>\n",
       "      <td>-0.036800</td>\n",
       "      <td>0.021570</td>\n",
       "      <td>1.000000</td>\n",
       "      <td>0.028177</td>\n",
       "      <td>-0.004399</td>\n",
       "    </tr>\n",
       "    <tr>\n",
       "      <th>Severity of Illness</th>\n",
       "      <td>0.093734</td>\n",
       "      <td>-0.015100</td>\n",
       "      <td>-0.203356</td>\n",
       "      <td>0.042398</td>\n",
       "      <td>-0.061905</td>\n",
       "      <td>0.014716</td>\n",
       "      <td>0.024541</td>\n",
       "      <td>0.010958</td>\n",
       "      <td>0.016708</td>\n",
       "      <td>0.028177</td>\n",
       "      <td>1.000000</td>\n",
       "      <td>0.024541</td>\n",
       "    </tr>\n",
       "    <tr>\n",
       "      <th>Age</th>\n",
       "      <td>0.051136</td>\n",
       "      <td>-0.016330</td>\n",
       "      <td>0.007079</td>\n",
       "      <td>0.008475</td>\n",
       "      <td>0.004057</td>\n",
       "      <td>0.001027</td>\n",
       "      <td>0.071152</td>\n",
       "      <td>0.013244</td>\n",
       "      <td>-0.003087</td>\n",
       "      <td>-0.004399</td>\n",
       "      <td>0.024541</td>\n",
       "      <td>1.000000</td>\n",
       "    </tr>\n",
       "  </tbody>\n",
       "</table>\n",
       "</div>"
      ],
      "text/plain": [
       "                                       Stay  \\\n",
       "Stay                               1.000000   \n",
       "Available Extra Rooms in Hospital -0.129077   \n",
       "Bed Grade                          0.025037   \n",
       "Visitors with Patient              0.467967   \n",
       "Admission_Deposit                 -0.074597   \n",
       "Hospital_type_code                 0.045099   \n",
       "Department                         0.022173   \n",
       "Ward_Type                          0.176936   \n",
       "Ward_Facility_Code                 0.054114   \n",
       "Type of Admission                  0.092101   \n",
       "Severity of Illness                0.093734   \n",
       "Age                                0.051136   \n",
       "\n",
       "                                   Available Extra Rooms in Hospital  \\\n",
       "Stay                                                       -0.129077   \n",
       "Available Extra Rooms in Hospital                           1.000000   \n",
       "Bed Grade                                                  -0.123699   \n",
       "Visitors with Patient                                       0.150749   \n",
       "Admission_Deposit                                          -0.153612   \n",
       "Hospital_type_code                                         -0.104150   \n",
       "Department                                                 -0.045867   \n",
       "Ward_Type                                                  -0.333072   \n",
       "Ward_Facility_Code                                         -0.021622   \n",
       "Type of Admission                                          -0.046660   \n",
       "Severity of Illness                                        -0.015100   \n",
       "Age                                                        -0.016330   \n",
       "\n",
       "                                   Bed Grade  Visitors with Patient  \\\n",
       "Stay                                0.025037               0.467967   \n",
       "Available Extra Rooms in Hospital  -0.123699               0.150749   \n",
       "Bed Grade                           1.000000               0.031218   \n",
       "Visitors with Patient               0.031218               1.000000   \n",
       "Admission_Deposit                   0.073615              -0.191841   \n",
       "Hospital_type_code                 -0.016489              -0.040243   \n",
       "Department                         -0.017184               0.009917   \n",
       "Ward_Type                          -0.020427              -0.051071   \n",
       "Ward_Facility_Code                 -0.007712              -0.004305   \n",
       "Type of Admission                   0.107620              -0.052656   \n",
       "Severity of Illness                -0.203356               0.042398   \n",
       "Age                                 0.007079               0.008475   \n",
       "\n",
       "                                   Admission_Deposit  Hospital_type_code  \\\n",
       "Stay                                       -0.074597            0.045099   \n",
       "Available Extra Rooms in Hospital          -0.153612           -0.104150   \n",
       "Bed Grade                                   0.073615           -0.016489   \n",
       "Visitors with Patient                      -0.191841           -0.040243   \n",
       "Admission_Deposit                           1.000000            0.031822   \n",
       "Hospital_type_code                          0.031822            1.000000   \n",
       "Department                                  0.014141           -0.005549   \n",
       "Ward_Type                                   0.019715            0.319626   \n",
       "Ward_Facility_Code                          0.014165            0.362480   \n",
       "Type of Admission                           0.101881            0.009541   \n",
       "Severity of Illness                        -0.061905            0.014716   \n",
       "Age                                         0.004057            0.001027   \n",
       "\n",
       "                                   Department  Ward_Type  Ward_Facility_Code  \\\n",
       "Stay                                 0.022173   0.176936            0.054114   \n",
       "Available Extra Rooms in Hospital   -0.045867  -0.333072           -0.021622   \n",
       "Bed Grade                           -0.017184  -0.020427           -0.007712   \n",
       "Visitors with Patient                0.009917  -0.051071           -0.004305   \n",
       "Admission_Deposit                    0.014141   0.019715            0.014165   \n",
       "Hospital_type_code                  -0.005549   0.319626            0.362480   \n",
       "Department                           1.000000   0.026381            0.003160   \n",
       "Ward_Type                            0.026381   1.000000            0.104255   \n",
       "Ward_Facility_Code                   0.003160   0.104255            1.000000   \n",
       "Type of Admission                   -0.041898  -0.036800            0.021570   \n",
       "Severity of Illness                  0.024541   0.010958            0.016708   \n",
       "Age                                  0.071152   0.013244           -0.003087   \n",
       "\n",
       "                                   Type of Admission  Severity of Illness  \\\n",
       "Stay                                        0.092101             0.093734   \n",
       "Available Extra Rooms in Hospital          -0.046660            -0.015100   \n",
       "Bed Grade                                   0.107620            -0.203356   \n",
       "Visitors with Patient                      -0.052656             0.042398   \n",
       "Admission_Deposit                           0.101881            -0.061905   \n",
       "Hospital_type_code                          0.009541             0.014716   \n",
       "Department                                 -0.041898             0.024541   \n",
       "Ward_Type                                  -0.036800             0.010958   \n",
       "Ward_Facility_Code                          0.021570             0.016708   \n",
       "Type of Admission                           1.000000             0.028177   \n",
       "Severity of Illness                         0.028177             1.000000   \n",
       "Age                                        -0.004399             0.024541   \n",
       "\n",
       "                                        Age  \n",
       "Stay                               0.051136  \n",
       "Available Extra Rooms in Hospital -0.016330  \n",
       "Bed Grade                          0.007079  \n",
       "Visitors with Patient              0.008475  \n",
       "Admission_Deposit                  0.004057  \n",
       "Hospital_type_code                 0.001027  \n",
       "Department                         0.071152  \n",
       "Ward_Type                          0.013244  \n",
       "Ward_Facility_Code                -0.003087  \n",
       "Type of Admission                 -0.004399  \n",
       "Severity of Illness                0.024541  \n",
       "Age                                1.000000  "
      ]
     },
     "execution_count": 66,
     "metadata": {},
     "output_type": "execute_result"
    }
   ],
   "source": [
    "final_df.corr()"
   ]
  },
  {
   "cell_type": "markdown",
   "metadata": {},
   "source": [
    "# Smoting"
   ]
  },
  {
   "cell_type": "code",
   "execution_count": 67,
   "metadata": {},
   "outputs": [],
   "source": [
    "from imblearn.over_sampling import SMOTE\n",
    "smote = SMOTE(random_state=10)\n",
    "\n",
    "X=final_df.drop('Stay',axis=1)\n",
    "y=final_df['Stay']\n",
    "\n",
    "X_smote, y_smote = smote.fit_resample(X,y)\n"
   ]
  },
  {
   "cell_type": "code",
   "execution_count": 68,
   "metadata": {},
   "outputs": [
    {
     "data": {
      "image/png": "[encoded data removed]",
      "text/plain": [
       "<Figure size 432x288 with 1 Axes>"
      ]
     },
     "metadata": {
      "needs_background": "light"
     },
     "output_type": "display_data"
    }
   ],
   "source": [
    "sns.countplot(y_smote)\n",
    "plt.show()"
   ]
  },
  {
   "cell_type": "markdown",
   "metadata": {},
   "source": [
    "# Scaling data"
   ]
  },
  {
   "cell_type": "code",
   "execution_count": 69,
   "metadata": {},
   "outputs": [],
   "source": [
    "X=final_df.drop('Stay',axis=1)\n",
    "y=final_df['Stay']"
   ]
  },
  {
   "cell_type": "code",
   "execution_count": 70,
   "metadata": {},
   "outputs": [],
   "source": [
    "# Train test split\n",
    "from sklearn.model_selection import train_test_split\n",
    "X_train,X_test,y_train,y_test=train_test_split(X_smote,y_smote,test_size=0.33, random_state=42)"
   ]
  },
  {
   "cell_type": "code",
   "execution_count": 71,
   "metadata": {},
   "outputs": [],
   "source": [
    "from sklearn.preprocessing import StandardScaler\n",
    "scaler=StandardScaler()\n",
    "X_train=scaler.fit_transform(X_train)\n",
    "X_test=scaler.transform(X_test)"
   ]
  },
  {
   "cell_type": "markdown",
   "metadata": {},
   "source": [
    "# Modeling"
   ]
  },
  {
   "cell_type": "markdown",
   "metadata": {},
   "source": [
    "Logistic regression"
   ]
  },
  {
   "cell_type": "code",
   "execution_count": 72,
   "metadata": {},
   "outputs": [
    {
     "name": "stdout",
     "output_type": "stream",
     "text": [
      "0.25131977270753464\n",
      "0.2514916890485622\n"
     ]
    }
   ],
   "source": [
    "from sklearn.linear_model import LogisticRegression\n",
    "from sklearn.multiclass import OneVsRestClassifier\n",
    "from sklearn.metrics import accuracy_score,confusion_matrix,f1_score,roc_auc_score,classification_report\n",
    "\n",
    "lr=LogisticRegression(random_state=42)\n",
    "\n",
    "lr.fit(X_train,y_train)\n",
    "\n",
    "x_pred=lr.predict(X_train)\n",
    "y_pred=lr.predict(X_test)\n",
    "\n",
    "print(accuracy_score(y_train,x_pred))\n",
    "print(accuracy_score(y_test,y_pred))"
   ]
  },
  {
   "cell_type": "code",
   "execution_count": null,
   "metadata": {},
   "outputs": [],
   "source": [
    "LogisticRegression(\n",
    "    penalty=['l2','l1','none'],\n",
    "    C=np.arange(0.5,2,0.1),\n",
    "    class_weight=[None,'balanced']\n",
    "    random_state=[None,1,9,42]\n",
    "    solver=['newton-cg', 'lbfgs', 'liblinear', 'sag', 'saga']\n",
    "    n_jobs=-1   \n",
    ")\n",
    "#solver : {'newton-cg', 'lbfgs', 'liblinear', 'sag', 'saga'},             default='lbfgs'\n",
    " #   - For small datasets, 'liblinear'\n",
    "  #  'sag' and 'saga' large ones.\n",
    "   # - multiclass 'newton-cg', 'sag', 'saga'\n",
    "   # 'lbfgs' handle multinomial loss; \n",
    "   # 'liblinear' is limited to one-versus-rest\n",
    "   # - 'newton-cg', 'lbfgs', 'sag' and 'saga' handle L2 or no penalty\n",
    "   # - 'liblinear' and 'saga' also handle L1 penalty\n",
    "   # - 'saga' also supports 'elasticnet' penalty\n",
    "   # - 'liblinear' does not support setting ``penalty='none'``"
   ]
  },
  {
   "cell_type": "code",
   "execution_count": 76,
   "metadata": {},
   "outputs": [
    {
     "name": "stderr",
     "output_type": "stream",
     "text": [
      "E:\\ANACONDA\\lib\\site-packages\\sklearn\\linear_model\\_sag.py:330: ConvergenceWarning: The max_iter was reached which means the coef_ did not converge\n",
      "  \"the coef_ did not converge\", ConvergenceWarning)\n",
      "E:\\ANACONDA\\lib\\site-packages\\sklearn\\linear_model\\_sag.py:330: ConvergenceWarning: The max_iter was reached which means the coef_ did not converge\n",
      "  \"the coef_ did not converge\", ConvergenceWarning)\n",
      "E:\\ANACONDA\\lib\\site-packages\\sklearn\\linear_model\\_sag.py:330: ConvergenceWarning: The max_iter was reached which means the coef_ did not converge\n",
      "  \"the coef_ did not converge\", ConvergenceWarning)\n",
      "E:\\ANACONDA\\lib\\site-packages\\sklearn\\linear_model\\_sag.py:330: ConvergenceWarning: The max_iter was reached which means the coef_ did not converge\n",
      "  \"the coef_ did not converge\", ConvergenceWarning)\n",
      "E:\\ANACONDA\\lib\\site-packages\\sklearn\\linear_model\\_sag.py:330: ConvergenceWarning: The max_iter was reached which means the coef_ did not converge\n",
      "  \"the coef_ did not converge\", ConvergenceWarning)\n",
      "E:\\ANACONDA\\lib\\site-packages\\sklearn\\linear_model\\_sag.py:330: ConvergenceWarning: The max_iter was reached which means the coef_ did not converge\n",
      "  \"the coef_ did not converge\", ConvergenceWarning)\n",
      "E:\\ANACONDA\\lib\\site-packages\\sklearn\\linear_model\\_sag.py:330: ConvergenceWarning: The max_iter was reached which means the coef_ did not converge\n",
      "  \"the coef_ did not converge\", ConvergenceWarning)\n",
      "E:\\ANACONDA\\lib\\site-packages\\sklearn\\linear_model\\_sag.py:330: ConvergenceWarning: The max_iter was reached which means the coef_ did not converge\n",
      "  \"the coef_ did not converge\", ConvergenceWarning)\n",
      "E:\\ANACONDA\\lib\\site-packages\\sklearn\\linear_model\\_sag.py:330: ConvergenceWarning: The max_iter was reached which means the coef_ did not converge\n",
      "  \"the coef_ did not converge\", ConvergenceWarning)\n",
      "E:\\ANACONDA\\lib\\site-packages\\sklearn\\linear_model\\_sag.py:330: ConvergenceWarning: The max_iter was reached which means the coef_ did not converge\n",
      "  \"the coef_ did not converge\", ConvergenceWarning)\n",
      "E:\\ANACONDA\\lib\\site-packages\\sklearn\\linear_model\\_sag.py:330: ConvergenceWarning: The max_iter was reached which means the coef_ did not converge\n",
      "  \"the coef_ did not converge\", ConvergenceWarning)\n",
      "E:\\ANACONDA\\lib\\site-packages\\sklearn\\linear_model\\_sag.py:330: ConvergenceWarning: The max_iter was reached which means the coef_ did not converge\n",
      "  \"the coef_ did not converge\", ConvergenceWarning)\n",
      "E:\\ANACONDA\\lib\\site-packages\\sklearn\\linear_model\\_sag.py:330: ConvergenceWarning: The max_iter was reached which means the coef_ did not converge\n",
      "  \"the coef_ did not converge\", ConvergenceWarning)\n",
      "E:\\ANACONDA\\lib\\site-packages\\sklearn\\linear_model\\_sag.py:330: ConvergenceWarning: The max_iter was reached which means the coef_ did not converge\n",
      "  \"the coef_ did not converge\", ConvergenceWarning)\n",
      "E:\\ANACONDA\\lib\\site-packages\\sklearn\\linear_model\\_sag.py:330: ConvergenceWarning: The max_iter was reached which means the coef_ did not converge\n",
      "  \"the coef_ did not converge\", ConvergenceWarning)\n",
      "E:\\ANACONDA\\lib\\site-packages\\sklearn\\linear_model\\_sag.py:330: ConvergenceWarning: The max_iter was reached which means the coef_ did not converge\n",
      "  \"the coef_ did not converge\", ConvergenceWarning)\n",
      "E:\\ANACONDA\\lib\\site-packages\\sklearn\\linear_model\\_sag.py:330: ConvergenceWarning: The max_iter was reached which means the coef_ did not converge\n",
      "  \"the coef_ did not converge\", ConvergenceWarning)\n",
      "E:\\ANACONDA\\lib\\site-packages\\sklearn\\linear_model\\_sag.py:330: ConvergenceWarning: The max_iter was reached which means the coef_ did not converge\n",
      "  \"the coef_ did not converge\", ConvergenceWarning)\n",
      "E:\\ANACONDA\\lib\\site-packages\\sklearn\\linear_model\\_sag.py:330: ConvergenceWarning: The max_iter was reached which means the coef_ did not converge\n",
      "  \"the coef_ did not converge\", ConvergenceWarning)\n",
      "E:\\ANACONDA\\lib\\site-packages\\sklearn\\linear_model\\_sag.py:330: ConvergenceWarning: The max_iter was reached which means the coef_ did not converge\n",
      "  \"the coef_ did not converge\", ConvergenceWarning)\n",
      "E:\\ANACONDA\\lib\\site-packages\\sklearn\\linear_model\\_sag.py:330: ConvergenceWarning: The max_iter was reached which means the coef_ did not converge\n",
      "  \"the coef_ did not converge\", ConvergenceWarning)\n",
      "E:\\ANACONDA\\lib\\site-packages\\sklearn\\linear_model\\_sag.py:330: ConvergenceWarning: The max_iter was reached which means the coef_ did not converge\n",
      "  \"the coef_ did not converge\", ConvergenceWarning)\n",
      "E:\\ANACONDA\\lib\\site-packages\\sklearn\\linear_model\\_sag.py:330: ConvergenceWarning: The max_iter was reached which means the coef_ did not converge\n",
      "  \"the coef_ did not converge\", ConvergenceWarning)\n",
      "E:\\ANACONDA\\lib\\site-packages\\sklearn\\linear_model\\_sag.py:330: ConvergenceWarning: The max_iter was reached which means the coef_ did not converge\n",
      "  \"the coef_ did not converge\", ConvergenceWarning)\n",
      "E:\\ANACONDA\\lib\\site-packages\\sklearn\\linear_model\\_sag.py:330: ConvergenceWarning: The max_iter was reached which means the coef_ did not converge\n",
      "  \"the coef_ did not converge\", ConvergenceWarning)\n"
     ]
    },
    {
     "data": {
      "image/png": "[encoded data removed]",
      "text/plain": [
       "<Figure size 504x360 with 1 Axes>"
      ]
     },
     "metadata": {
      "needs_background": "light"
     },
     "output_type": "display_data"
    }
   ],
   "source": [
    "# For finding the best parameter\n",
    "def train_classifier(X_train, y_train, X_valid=None, y_valid=None, C=1.0, model='lr'):\n",
    "    \"\"\"\n",
    "      xtrain_tfidf, ytrain — training data\n",
    "      return: trained classifier\n",
    "      \n",
    "    \"\"\"   \n",
    "    if model=='lr':\n",
    "        model = LogisticRegression(C=C, penalty='l1', dual=False, solver='saga',random_state=9)\n",
    "        model.fit(X_train, y_train)\n",
    "\n",
    "    return model\n",
    "\n",
    "# plot\n",
    "hypers = np.arange(0.5,3, 0.1)\n",
    "res = []\n",
    "\n",
    "for h in hypers:\n",
    "    temp_model = train_classifier(X_train, y_train, C=h, model='lr')\n",
    "    temp_pred = accuracy_score(y_test, temp_model.predict(X_test))\n",
    "    res.append(temp_pred)\n",
    "\n",
    "plt.figure(figsize=(7,5))\n",
    "plt.plot(hypers, res, color='blue', marker='o')\n",
    "plt.grid(True)\n",
    "plt.xlabel('Parameter $C$')\n",
    "plt.ylabel('F1 score')\n",
    "plt.show()"
   ]
  },
  {
   "cell_type": "code",
   "execution_count": 75,
   "metadata": {},
   "outputs": [
    {
     "name": "stdout",
     "output_type": "stream",
     "text": [
      "Score:  [0.24962392 0.24946884 0.25387323 0.25025977 0.24929824 0.24943782\n",
      " 0.24949985 0.25140739 0.25476117 0.253567  ]\n",
      "\n",
      "\n",
      "f1_score: 0.25 (+/- 0.00)\n"
     ]
    }
   ],
   "source": [
    "from sklearn.model_selection import KFold,cross_val_score,StratifiedKFold\n",
    "# Cross-val score of train data using Logistic Regression model\n",
    "lr = LogisticRegression(n_jobs=-1,random_state=9)\n",
    "\n",
    "fold=KFold(n_splits=10,shuffle=True,random_state=9)\n",
    "logreg_score=cross_val_score(lr,X_train, y_train,scoring='f1_micro',cv=fold,n_jobs=-1)\n",
    "\n",
    "print('Score: ',logreg_score)\n",
    "\n",
    "print('\\n')\n",
    "\n",
    "print(\"f1_score: %0.2f (+/- %0.2f)\" % (logreg_score.mean(), logreg_score.std() * 2))"
   ]
  },
  {
   "cell_type": "code",
   "execution_count": 76,
   "metadata": {},
   "outputs": [
    {
     "name": "stdout",
     "output_type": "stream",
     "text": [
      "Score:  [0.25174858 0.25274112 0.24918968 0.25184163 0.25219832 0.25184163\n",
      " 0.24968595 0.25061646 0.25074442 0.25079094]\n",
      "\n",
      "\n",
      "f1_score: 0.25 (+/- 0.00)\n"
     ]
    }
   ],
   "source": [
    "from sklearn.model_selection import KFold,cross_val_score\n",
    "# Cross-val score of train data using Logistic Regression model\n",
    "lr = LogisticRegression(n_jobs=-1,random_state=9)\n",
    "\n",
    "fold=StratifiedKFold(n_splits=10,shuffle=True,random_state=9)\n",
    "logreg_score=cross_val_score(lr,X_train, y_train,scoring='f1_micro',cv=fold,n_jobs=-1)\n",
    "\n",
    "print('Score: ',logreg_score)\n",
    "\n",
    "print('\\n')\n",
    "\n",
    "print(\"f1_score: %0.2f (+/- %0.2f)\" % (logreg_score.mean(), logreg_score.std() * 2))"
   ]
  },
  {
   "cell_type": "code",
   "execution_count": null,
   "metadata": {},
   "outputs": [],
   "source": [
    "lr.fit(X,y)\n",
    "y_pred = lr.predict(x_test)\n",
    "\n",
    "col=['case_id','Stay']\n",
    "submit_test = pd.concat([test['case_id'],pd.DataFrame(y_pred)], axis=1)\n",
    "submit_test.columns=col\n",
    "submit_test['Stay']=encoder.inverse_transform(submit_test['Stay'])\n",
    "submit_test.to_csv('sample_submission.csv', index=False)\n",
    "submit_test.head()"
   ]
  },
  {
   "cell_type": "markdown",
   "metadata": {},
   "source": [
    "Decision Tree"
   ]
  },
  {
   "cell_type": "code",
   "execution_count": 85,
   "metadata": {},
   "outputs": [
    {
     "name": "stdout",
     "output_type": "stream",
     "text": [
      "0.9776072877507723\n",
      "0.4303400893596521\n"
     ]
    }
   ],
   "source": [
    "from sklearn.tree import DecisionTreeClassifier\n",
    "\n",
    "dt=DecisionTreeClassifier(random_state=42)\n",
    "dt.fit(X_train,y_train)\n",
    "\n",
    "x_pred=dt.predict(X_train)\n",
    "y_pred=dt.predict(X_test)\n",
    "\n",
    "print(accuracy_score(y_train,x_pred))\n",
    "print(accuracy_score(y_test,y_pred))"
   ]
  },
  {
   "cell_type": "code",
   "execution_count": 90,
   "metadata": {},
   "outputs": [
    {
     "name": "stdout",
     "output_type": "stream",
     "text": [
      "Score:  [0.42175214 0.42124037 0.42654425 0.42567578 0.42578434 0.42274468\n",
      " 0.42299282 0.42564476 0.42259615 0.42217742]\n",
      "\n",
      "\n",
      "f1_score: 0.42 (+/- 0.00)\n"
     ]
    }
   ],
   "source": [
    "from sklearn.model_selection import KFold,cross_val_score,StratifiedKFold\n",
    "# Cross-val score of train data using Logistic Regression model\n",
    "dt = DecisionTreeClassifier(random_state=9)\n",
    "\n",
    "fold=KFold(n_splits=10,shuffle=True,random_state=9)\n",
    "logreg_score=cross_val_score(dt,X_train, y_train,scoring='accuracy',cv=fold,n_jobs=-1)\n",
    "\n",
    "print('Score: ',logreg_score)\n",
    "\n",
    "print('\\n')\n",
    "\n",
    "print(\"f1_score: %0.2f (+/- %0.2f)\" % (logreg_score.mean(), logreg_score.std() * 2))"
   ]
  },
  {
   "cell_type": "code",
   "execution_count": 79,
   "metadata": {},
   "outputs": [],
   "source": [
    "from sklearn.model_selection import GridSearchCV,RandomizedSearchCV"
   ]
  },
  {
   "cell_type": "code",
   "execution_count": 86,
   "metadata": {},
   "outputs": [
    {
     "data": {
      "text/plain": [
       "60"
      ]
     },
     "execution_count": 86,
     "metadata": {},
     "output_type": "execute_result"
    }
   ],
   "source": [
    "dt.get_depth()"
   ]
  },
  {
   "cell_type": "code",
   "execution_count": 89,
   "metadata": {},
   "outputs": [
    {
     "data": {
      "text/plain": [
       "(318438, 12)"
      ]
     },
     "execution_count": 89,
     "metadata": {},
     "output_type": "execute_result"
    }
   ],
   "source": [
    "final_df.shape"
   ]
  },
  {
   "cell_type": "code",
   "execution_count": 91,
   "metadata": {},
   "outputs": [
    {
     "name": "stdout",
     "output_type": "stream",
     "text": [
      "{'ccp_alpha': 0.0, 'class_weight': 'balanced', 'criterion': 'gini', 'max_depth': 23, 'max_features': 11, 'max_leaf_nodes': None, 'min_impurity_decrease': 0.0, 'min_impurity_split': None, 'min_samples_leaf': 1, 'min_samples_split': 2, 'min_weight_fraction_leaf': 0.0, 'presort': 'deprecated', 'random_state': None, 'splitter': 'best'}\n"
     ]
    }
   ],
   "source": [
    "DecisionTreeClassifier()\n",
    "grid={'criterion':['gini',\"entropy\"],\n",
    "    'splitter':['best', \"random\"],\n",
    "    'max_depth': np.arange(1,61),\n",
    "    'max_features': [None, \"auto\", \"sqrt\", \"log2\",1,2,3,4,5,6,7,8,9,10,11],\n",
    "    'random_state': [None,0,1,9,42],\n",
    "    'class_weight': [None,'balanced']}\n",
    "\n",
    "dt=DecisionTreeClassifier()\n",
    "cv=StratifiedKFold(n_splits=10,shuffle=True,random_state=1)\n",
    "clf = RandomizedSearchCV(dt, grid, n_iter=100, cv=cv, random_state=1,n_jobs=-1,scoring='accuracy')\n",
    "\n",
    "# train the random search meta-estimator to find the best model out of 100 candidates\n",
    "model = clf.fit(X_train, y_train)\n",
    "\n",
    "\n",
    "print(model.best_estimator_.get_params())"
   ]
  },
  {
   "cell_type": "code",
   "execution_count": 98,
   "metadata": {},
   "outputs": [
    {
     "name": "stdout",
     "output_type": "stream",
     "text": [
      "0.707855671765859\n",
      "0.4469588435513377\n"
     ]
    }
   ],
   "source": [
    "dt=DecisionTreeClassifier(class_weight= 'balanced',criterion= 'gini', max_depth= 23, max_features= 11)\n",
    "\n",
    "dt.fit(X_train,y_train)\n",
    "\n",
    "x_pred=dt.predict(X_train)\n",
    "y_pred=dt.predict(X_test)\n",
    "\n",
    "print(accuracy_score(y_train,x_pred))\n",
    "print(accuracy_score(y_test,y_pred))"
   ]
  },
  {
   "cell_type": "code",
   "execution_count": 95,
   "metadata": {},
   "outputs": [
    {
     "name": "stdout",
     "output_type": "stream",
     "text": [
      "Score:  [0.44216126 0.4415099  0.44106016 0.43651618 0.43924567 0.44160295\n",
      " 0.43885796 0.43752423 0.4369572  0.4403536 ]\n",
      "\n",
      "\n",
      "f1_score: 0.44 (+/- 0.00)\n"
     ]
    }
   ],
   "source": [
    "from sklearn.model_selection import KFold,cross_val_score,StratifiedKFold\n",
    "# Cross-val score of train data using Logistic Regression model\n",
    "dt=DecisionTreeClassifier(class_weight= 'balanced',criterion= 'gini', max_depth= 23, max_features= 11)\n",
    "\n",
    "fold=StratifiedKFold(n_splits=10,shuffle=True,random_state=9)\n",
    "logreg_score=cross_val_score(dt,X_train, y_train,scoring='accuracy',cv=fold,n_jobs=-1)\n",
    "\n",
    "print('Score: ',logreg_score)\n",
    "\n",
    "print('\\n')\n",
    "\n",
    "print(\"f1_score: %0.2f (+/- %0.2f)\" % (logreg_score.mean(), logreg_score.std() * 2))"
   ]
  },
  {
   "cell_type": "code",
   "execution_count": null,
   "metadata": {},
   "outputs": [],
   "source": [
    "test=pd.read_csv('clean_text')\n",
    "test.head()"
   ]
  },
  {
   "cell_type": "code",
   "execution_count": null,
   "metadata": {},
   "outputs": [],
   "source": [
    "test.drop('Unnamed: 0',axis=1,inplace=True)"
   ]
  },
  {
   "cell_type": "code",
   "execution_count": null,
   "metadata": {},
   "outputs": [],
   "source": [
    "x_test=test.drop('case_id',axis=1)"
   ]
  },
  {
   "cell_type": "code",
   "execution_count": null,
   "metadata": {},
   "outputs": [],
   "source": [
    "dt.fit(X_smote,y_smote)\n",
    "y_pred = dt.predict(x_test)\n",
    "\n",
    "col=['case_id','Stay']\n",
    "submit_test = pd.concat([test['case_id'],pd.DataFrame(y_pred)], axis=1)\n",
    "submit_test.columns=col\n",
    "#submit_test.to_csv('sample_submission.csv', index=False)\n",
    "#submit_test"
   ]
  },
  {
   "cell_type": "code",
   "execution_count": null,
   "metadata": {},
   "outputs": [],
   "source": [
    "submit_test.head()"
   ]
  },
  {
   "cell_type": "code",
   "execution_count": null,
   "metadata": {},
   "outputs": [],
   "source": [
    "\n",
    "submit_test['Stay']=encoder.inverse_transform(submit_test['Stay'])\n",
    "submit_test.to_csv('sample_submission.csv', index=False)\n",
    "submit_test.head()"
   ]
  },
  {
   "cell_type": "code",
   "execution_count": null,
   "metadata": {},
   "outputs": [],
   "source": [
    "submit_test.head()"
   ]
  },
  {
   "cell_type": "code",
   "execution_count": null,
   "metadata": {},
   "outputs": [],
   "source": [
    "submit_test.to_csv('sample_submission.csv', index=False)\n",
    "submit_test.head()"
   ]
  },
  {
   "cell_type": "code",
   "execution_count": null,
   "metadata": {},
   "outputs": [],
   "source": [
    "submit_test.shape"
   ]
  },
  {
   "cell_type": "code",
   "execution_count": null,
   "metadata": {},
   "outputs": [],
   "source": [
    "test.shape"
   ]
  },
  {
   "cell_type": "markdown",
   "metadata": {},
   "source": [
    "Random Forest"
   ]
  },
  {
   "cell_type": "code",
   "execution_count": 81,
   "metadata": {},
   "outputs": [],
   "source": [
    "from sklearn.ensemble import RandomForestClassifier\n",
    "from sklearn.model_selection import KFold,cross_val_score,StratifiedKFold"
   ]
  },
  {
   "cell_type": "code",
   "execution_count": 100,
   "metadata": {},
   "outputs": [
    {
     "data": {
      "text/plain": [
       "RandomForestClassifier(random_state=42)"
      ]
     },
     "execution_count": 100,
     "metadata": {},
     "output_type": "execute_result"
    }
   ],
   "source": [
    "rf=RandomForestClassifier(random_state=42)\n",
    "rf.fit(X_train,y_train)"
   ]
  },
  {
   "cell_type": "code",
   "execution_count": 101,
   "metadata": {},
   "outputs": [],
   "source": [
    "x_pred=rf.predict(X_train)\n",
    "y_pred=rf.predict(X_test)"
   ]
  },
  {
   "cell_type": "code",
   "execution_count": 102,
   "metadata": {},
   "outputs": [
    {
     "name": "stdout",
     "output_type": "stream",
     "text": [
      "0.9775095842483343\n",
      "0.46194972811113594\n"
     ]
    }
   ],
   "source": [
    "print(accuracy_score(y_train,x_pred))\n",
    "print(accuracy_score(y_test,y_pred))"
   ]
  },
  {
   "cell_type": "code",
   "execution_count": 83,
   "metadata": {},
   "outputs": [
    {
     "name": "stdout",
     "output_type": "stream",
     "text": [
      "{'bootstrap': True, 'ccp_alpha': 0.0, 'class_weight': 'balanced_subsample', 'criterion': 'entropy', 'max_depth': 22, 'max_features': 'auto', 'max_leaf_nodes': None, 'max_samples': None, 'min_impurity_decrease': 0.0, 'min_impurity_split': None, 'min_samples_leaf': 1, 'min_samples_split': 2, 'min_weight_fraction_leaf': 0.0, 'n_estimators': 50, 'n_jobs': -1, 'oob_score': False, 'random_state': 1, 'verbose': 0, 'warm_start': False}\n"
     ]
    }
   ],
   "source": [
    "\n",
    "grid={'criterion':['gini',\"entropy\"],\n",
    "    'n_estimators':[100,50,200,300,500],\n",
    "    'max_depth': np.arange(1,24),\n",
    "    'class_weight': [None,'balanced',\"balanced_subsample\"]}\n",
    "\n",
    "rf=RandomForestClassifier(n_jobs=-1,random_state=1)\n",
    "\n",
    "clf = RandomizedSearchCV(rf, grid, random_state=1,n_jobs=-1,scoring='accuracy')\n",
    "\n",
    "# train the random search meta-estimator to find the best model out of 100 candidates\n",
    "model = clf.fit(X_train, y_train)\n",
    "\n",
    "\n",
    "print(model.best_estimator_.get_params())"
   ]
  },
  {
   "cell_type": "code",
   "execution_count": 84,
   "metadata": {},
   "outputs": [
    {
     "name": "stdout",
     "output_type": "stream",
     "text": [
      "0.7429793054676741\n",
      "0.4933326616140784\n"
     ]
    }
   ],
   "source": [
    "rf=RandomForestClassifier(random_state=1,criterion= 'entropy',max_depth= 22,n_jobs=-1,n_estimators=50, class_weight= 'balanced_subsample')\n",
    "rf.fit(X_train,y_train)\n",
    "\n",
    "x_pred=rf.predict(X_train)\n",
    "y_pred=rf.predict(X_test)\n",
    "\n",
    "print(accuracy_score(y_train,x_pred))\n",
    "print(accuracy_score(y_test,y_pred))"
   ]
  },
  {
   "cell_type": "code",
   "execution_count": null,
   "metadata": {},
   "outputs": [],
   "source": [
    "rf=RandomForestClassifier(random_state=1,criterion= 'entropy',max_depth= 21,n_jobs=-1,n_estimators=50, class_weight= 'balanced_subsample')\n",
    "rf.fit(X_train,y_train)\n",
    "\n",
    "x_pred=rf.predict(X_train)\n",
    "y_pred=rf.predict(X_test)\n",
    "\n",
    "print(accuracy_score(y_train,x_pred))\n",
    "print(accuracy_score(y_test,y_pred))"
   ]
  },
  {
   "cell_type": "code",
   "execution_count": null,
   "metadata": {},
   "outputs": [],
   "source": [
    "from sklearn.model_selection import KFold,cross_val_score,StratifiedKFold\n",
    "# Cross-val score of train data using Logistic Regression model\n",
    "rf = RandomForestClassifier(random_state=9)\n",
    "logreg_classifier = OneVsRestClassifier(rf)\n",
    "fold=StratifiedKFold(n_splits=10,shuffle=True,random_state=9)\n",
    "logreg_score=cross_val_score(logreg_classifier,X_train, y_train,scoring='f1_micro',cv=fold,n_jobs=-1)\n",
    "\n",
    "print('Score: ',logreg_score)\n",
    "\n",
    "print('\\n')\n",
    "\n",
    "print(\"f1_score: %0.2f (+/- %0.2f)\" % (logreg_score.mean(), logreg_score.std() * 2))"
   ]
  },
  {
   "cell_type": "code",
   "execution_count": null,
   "metadata": {},
   "outputs": [],
   "source": [
    "from sklearn.model_selection import KFold,cross_val_score,StratifiedKFold\n",
    "# Cross-val score of train data using Logistic Regression model\n",
    "rf = RandomForestClassifier(random_state=9)\n",
    "logreg_classifier = OneVsRestClassifier(rf)\n",
    "fold=KFold(n_splits=10,shuffle=True,random_state=9)\n",
    "logreg_score=cross_val_score(logreg_classifier,X_train, y_train,scoring='f1_micro',cv=fold,n_jobs=-1)\n",
    "\n",
    "print('Score: ',logreg_score)\n",
    "\n",
    "print('\\n')\n",
    "\n",
    "print(\"f1_score: %0.2f (+/- %0.2f)\" % (logreg_score.mean(), logreg_score.std() * 2))"
   ]
  },
  {
   "cell_type": "code",
   "execution_count": null,
   "metadata": {},
   "outputs": [],
   "source": [
    "from sklearn.model_selection import KFold,cross_val_score,StratifiedKFold\n",
    "# Cross-val score of train data using Logistic Regression model\n",
    "rf = RandomForestClassifier(random_state=9)\n",
    "logreg_classifier = OneVsRestClassifier(rf)\n",
    "fold=StratifiedKFold(n_splits=10,shuffle=True,random_state=9)\n",
    "logreg_score=cross_val_score(rf,X_train, y_train,scoring='f1_micro',cv=fold,n_jobs=-1)\n",
    "\n",
    "print('Score: ',logreg_score)\n",
    "\n",
    "print('\\n')\n",
    "\n",
    "print(\"f1_score: %0.2f (+/- %0.2f)\" % (logreg_score.mean(), logreg_score.std() * 2))"
   ]
  },
  {
   "cell_type": "code",
   "execution_count": 79,
   "metadata": {},
   "outputs": [],
   "source": [
    "# load libraries \n",
    "\n",
    "import numpy as np\n",
    "import pandas as pd\n",
    "import matplotlib.pyplot as plt\n",
    "import seaborn as sns\n",
    "\n",
    "import os\n",
    "import time\n",
    "import warnings\n",
    "warnings.filterwarnings('ignore')\n",
    "\n",
    "\n",
    "from sklearn.model_selection import train_test_split\n",
    "from sklearn.pipeline import Pipeline\n",
    "from sklearn.model_selection import GridSearchCV,RandomizedSearchCV\n",
    "from sklearn.model_selection import KFold,cross_val_score\n",
    "from sklearn.feature_extraction.text import TfidfVectorizer\n",
    "from sklearn.multiclass import OneVsRestClassifier\n",
    "from sklearn.metrics import accuracy_score,f1_score,classification_report\n",
    "\n",
    "from sklearn.linear_model import LogisticRegression\n",
    "from sklearn.svm import LinearSVC\n",
    "from sklearn.linear_model import SGDClassifier\n",
    "from sklearn.ensemble import BaggingClassifier"
   ]
  },
  {
   "cell_type": "code",
   "execution_count": null,
   "metadata": {},
   "outputs": [],
   "source": [
    "# For finding the best parameter\n",
    "def train_classifier(X_train, y_train, X_valid=None, y_valid=None, C=1.0, model='lr'):\n",
    "    \"\"\"\n",
    "      xtrain_tfidf, ytrain — training data\n",
    "      return: trained classifier\n",
    "      \n",
    "    \"\"\"   \n",
    "    if model=='lr':\n",
    "        model = LogisticRegression(C=C, penalty='l2', dual=False, solver='liblinear',random_state=9)\n",
    "        model.fit(X_train, y_train)\n",
    "\n",
    "    return model\n",
    "\n",
    "# plot\n",
    "hypers = np.arange(1,1.50, 0.1)\n",
    "res = []\n",
    "\n",
    "for h in hypers:\n",
    "    temp_model = train_classifier(X_train, y_train, C=h, model='lr')\n",
    "    temp_pred = accuracy_score(y_test, temp_model.predict(X_test))\n",
    "    res.append(temp_pred)\n",
    "\n",
    "plt.figure(figsize=(7,5))\n",
    "plt.plot(hypers, res, color='blue', marker='o')\n",
    "plt.grid(True)\n",
    "plt.xlabel('Parameter $C$')\n",
    "plt.ylabel('F1 score')\n",
    "plt.show()"
   ]
  },
  {
   "cell_type": "code",
   "execution_count": null,
   "metadata": {},
   "outputs": [],
   "source": [
    "#Run LinearSVC\n",
    "svc = LinearSVC(class_weight='balanced',random_state=9)\n",
    "svc_classifier = OneVsRestClassifier(svc)\n",
    "\n",
    "# fit model on train data\n",
    "svc_classifier.fit(X_train, y_train)\n",
    "\n",
    "# make predictions\n",
    "x_pred=svc_classifier.predict(X_train)\n",
    "y_pred = svc_classifier.predict(X_test)\n",
    "\n",
    "# evaluate performance\n",
    "svc_train_f1 = accuracy_score(y_train, x_pred)\n",
    "svc_test_f1 = accuracy_score(y_test,y_pred)\n",
    "\n",
    "print('f1-Score Train: ',svc_train_f1)\n",
    "print('f1-Score validation: ',svc_test_f1)"
   ]
  },
  {
   "cell_type": "code",
   "execution_count": null,
   "metadata": {},
   "outputs": [],
   "source": [
    "#Run LinearSVC\n",
    "svc_classifier = LinearSVC(class_weight='balanced',random_state=9)\n",
    "\n",
    "\n",
    "# fit model on train data\n",
    "svc_classifier.fit(X_train, y_train)\n",
    "\n",
    "# make predictions\n",
    "x_pred=svc_classifier.predict(X_train)\n",
    "y_pred = svc_classifier.predict(X_test)\n",
    "\n",
    "# evaluate performance\n",
    "svc_train_f1 = accuracy_score(y_train, x_pred)\n",
    "svc_test_f1 = accuracy_score(y_test,y_pred)\n",
    "\n",
    "print('f1-Score Train: ',svc_train_f1)\n",
    "print('f1-Score validation: ',svc_test_f1)"
   ]
  },
  {
   "cell_type": "code",
   "execution_count": null,
   "metadata": {},
   "outputs": [],
   "source": [
    "#Run LinearSVC\n",
    "svc_classifier = LinearSVC(random_state=9)\n",
    "\n",
    "\n",
    "# fit model on train data\n",
    "svc_classifier.fit(X_train, y_train)\n",
    "\n",
    "# make predictions\n",
    "x_pred=svc_classifier.predict(X_train)\n",
    "y_pred = svc_classifier.predict(X_test)\n",
    "\n",
    "# evaluate performance\n",
    "svc_train_f1 = accuracy_score(y_train, x_pred)\n",
    "svc_test_f1 = accuracy_score(y_test,y_pred)\n",
    "\n",
    "print('f1-Score Train: ',svc_train_f1)\n",
    "print('f1-Score validation: ',svc_test_f1)"
   ]
  },
  {
   "cell_type": "code",
   "execution_count": null,
   "metadata": {},
   "outputs": [],
   "source": []
  }
 ],
 "metadata": {
  "kernelspec": {
   "display_name": "Python 3",
   "language": "python",
   "name": "python3"
  },
  "language_info": {
   "codemirror_mode": {
    "name": "ipython",
    "version": 3
   },
   "file_extension": ".py",
   "mimetype": "text/x-python",
   "name": "python",
   "nbconvert_exporter": "python",
   "pygments_lexer": "ipython3",
   "version": "3.7.4"
  }
 },
 "nbformat": 4,
 "nbformat_minor": 2
}
