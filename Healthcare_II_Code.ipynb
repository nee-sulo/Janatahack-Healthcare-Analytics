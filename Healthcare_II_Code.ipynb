{
 "cells": [
  {
   "cell_type": "code",
   "execution_count": 1,
   "metadata": {
    "colab": {
     "base_uri": "https://localhost:8080/",
     "height": 71
    },
    "colab_type": "code",
    "id": "WuOZWp57YIHM",
    "outputId": "39bb4d4f-8437-4784-c948-9f4a72989a06"
   },
   "outputs": [
    {
     "name": "stderr",
     "output_type": "stream",
     "text": [
      "E:\\ANACONDA\\lib\\site-packages\\statsmodels\\tools\\_testing.py:19: FutureWarning: pandas.util.testing is deprecated. Use the functions in the public API at pandas.testing instead.\n",
      "  import pandas.util.testing as tm\n"
     ]
    }
   ],
   "source": [
    "# load libraries \n",
    "import pandas as pd\n",
    "import numpy as np\n",
    "import matplotlib.pyplot as plt\n",
    "%matplotlib inline\n",
    "import seaborn as sns\n",
    "from IPython.core.interactiveshell import InteractiveShell\n",
    "InteractiveShell.ast_node_interactivity = \"all\""
   ]
  },
  {
   "cell_type": "code",
   "execution_count": 4,
   "metadata": {
    "colab": {
     "base_uri": "https://localhost:8080/",
     "height": 214
    },
    "colab_type": "code",
    "id": "s6X1-GGzY28o",
    "outputId": "2968937e-90a2-4633-8229-2366c7e2541c"
   },
   "outputs": [
    {
     "data": {
      "text/plain": [
       "Index(['case_id', 'Hospital_code', 'Hospital_type_code', 'City_Code_Hospital',\n",
       "       'Hospital_region_code', 'Available Extra Rooms in Hospital',\n",
       "       'Department', 'Ward_Type', 'Ward_Facility_Code', 'Bed Grade',\n",
       "       'patientid', 'City_Code_Patient', 'Type of Admission',\n",
       "       'Severity of Illness', 'Visitors with Patient', 'Age',\n",
       "       'Admission_Deposit', 'Stay'],\n",
       "      dtype='object')"
      ]
     },
     "execution_count": 4,
     "metadata": {},
     "output_type": "execute_result"
    },
    {
     "data": {
      "text/plain": [
       "Index(['case_id', 'Hospital_code', 'Hospital_type_code', 'City_Code_Hospital',\n",
       "       'Hospital_region_code', 'Available Extra Rooms in Hospital',\n",
       "       'Department', 'Ward_Type', 'Ward_Facility_Code', 'Bed Grade',\n",
       "       'patientid', 'City_Code_Patient', 'Type of Admission',\n",
       "       'Severity of Illness', 'Visitors with Patient', 'Age',\n",
       "       'Admission_Deposit'],\n",
       "      dtype='object')"
      ]
     },
     "execution_count": 4,
     "metadata": {},
     "output_type": "execute_result"
    }
   ],
   "source": [
    "# Display all the columns of the dataframe\n",
    "pd.options.display.max_columns = None\n",
    "\n",
    "# load train & test data set\n",
    "train_main = pd.read_csv('train.csv')\n",
    "test_main = pd.read_csv('test.csv')\n",
    "train_main.columns\n",
    "test_main.columns"
   ]
  },
  {
   "cell_type": "code",
   "execution_count": 5,
   "metadata": {
    "colab": {
     "base_uri": "https://localhost:8080/",
     "height": 265
    },
    "colab_type": "code",
    "id": "Cf4S_d-3D1tM",
    "outputId": "19f4b2c8-8865-4b78-b341-9d6631529cda"
   },
   "outputs": [
    {
     "data": {
      "text/html": [
       "<div>\n",
       "<style scoped>\n",
       "    .dataframe tbody tr th:only-of-type {\n",
       "        vertical-align: middle;\n",
       "    }\n",
       "\n",
       "    .dataframe tbody tr th {\n",
       "        vertical-align: top;\n",
       "    }\n",
       "\n",
       "    .dataframe thead th {\n",
       "        text-align: right;\n",
       "    }\n",
       "</style>\n",
       "<table border=\"1\" class=\"dataframe\">\n",
       "  <thead>\n",
       "    <tr style=\"text-align: right;\">\n",
       "      <th></th>\n",
       "      <th>case_id</th>\n",
       "      <th>Hospital_code</th>\n",
       "      <th>Hospital_type_code</th>\n",
       "      <th>City_Code_Hospital</th>\n",
       "      <th>Hospital_region_code</th>\n",
       "      <th>Available Extra Rooms in Hospital</th>\n",
       "      <th>Department</th>\n",
       "      <th>Ward_Type</th>\n",
       "      <th>Ward_Facility_Code</th>\n",
       "      <th>Bed Grade</th>\n",
       "      <th>patientid</th>\n",
       "      <th>City_Code_Patient</th>\n",
       "      <th>Type of Admission</th>\n",
       "      <th>Severity of Illness</th>\n",
       "      <th>Visitors with Patient</th>\n",
       "      <th>Age</th>\n",
       "      <th>Admission_Deposit</th>\n",
       "      <th>Stay</th>\n",
       "    </tr>\n",
       "  </thead>\n",
       "  <tbody>\n",
       "    <tr>\n",
       "      <th>0</th>\n",
       "      <td>1</td>\n",
       "      <td>8</td>\n",
       "      <td>c</td>\n",
       "      <td>3</td>\n",
       "      <td>Z</td>\n",
       "      <td>3</td>\n",
       "      <td>radiotherapy</td>\n",
       "      <td>R</td>\n",
       "      <td>F</td>\n",
       "      <td>2.0</td>\n",
       "      <td>31397</td>\n",
       "      <td>7.0</td>\n",
       "      <td>Emergency</td>\n",
       "      <td>Extreme</td>\n",
       "      <td>2</td>\n",
       "      <td>51-60</td>\n",
       "      <td>4911.0</td>\n",
       "      <td>0-10</td>\n",
       "    </tr>\n",
       "    <tr>\n",
       "      <th>1</th>\n",
       "      <td>2</td>\n",
       "      <td>2</td>\n",
       "      <td>c</td>\n",
       "      <td>5</td>\n",
       "      <td>Z</td>\n",
       "      <td>2</td>\n",
       "      <td>radiotherapy</td>\n",
       "      <td>S</td>\n",
       "      <td>F</td>\n",
       "      <td>2.0</td>\n",
       "      <td>31397</td>\n",
       "      <td>7.0</td>\n",
       "      <td>Trauma</td>\n",
       "      <td>Extreme</td>\n",
       "      <td>2</td>\n",
       "      <td>51-60</td>\n",
       "      <td>5954.0</td>\n",
       "      <td>41-50</td>\n",
       "    </tr>\n",
       "    <tr>\n",
       "      <th>2</th>\n",
       "      <td>3</td>\n",
       "      <td>10</td>\n",
       "      <td>e</td>\n",
       "      <td>1</td>\n",
       "      <td>X</td>\n",
       "      <td>2</td>\n",
       "      <td>anesthesia</td>\n",
       "      <td>S</td>\n",
       "      <td>E</td>\n",
       "      <td>2.0</td>\n",
       "      <td>31397</td>\n",
       "      <td>7.0</td>\n",
       "      <td>Trauma</td>\n",
       "      <td>Extreme</td>\n",
       "      <td>2</td>\n",
       "      <td>51-60</td>\n",
       "      <td>4745.0</td>\n",
       "      <td>31-40</td>\n",
       "    </tr>\n",
       "  </tbody>\n",
       "</table>\n",
       "</div>"
      ],
      "text/plain": [
       "   case_id  Hospital_code Hospital_type_code  City_Code_Hospital  \\\n",
       "0        1              8                  c                   3   \n",
       "1        2              2                  c                   5   \n",
       "2        3             10                  e                   1   \n",
       "\n",
       "  Hospital_region_code  Available Extra Rooms in Hospital    Department  \\\n",
       "0                    Z                                  3  radiotherapy   \n",
       "1                    Z                                  2  radiotherapy   \n",
       "2                    X                                  2    anesthesia   \n",
       "\n",
       "  Ward_Type Ward_Facility_Code  Bed Grade  patientid  City_Code_Patient  \\\n",
       "0         R                  F        2.0      31397                7.0   \n",
       "1         S                  F        2.0      31397                7.0   \n",
       "2         S                  E        2.0      31397                7.0   \n",
       "\n",
       "  Type of Admission Severity of Illness  Visitors with Patient    Age  \\\n",
       "0         Emergency             Extreme                      2  51-60   \n",
       "1            Trauma             Extreme                      2  51-60   \n",
       "2            Trauma             Extreme                      2  51-60   \n",
       "\n",
       "   Admission_Deposit   Stay  \n",
       "0             4911.0   0-10  \n",
       "1             5954.0  41-50  \n",
       "2             4745.0  31-40  "
      ]
     },
     "execution_count": 5,
     "metadata": {},
     "output_type": "execute_result"
    }
   ],
   "source": [
    "train_main.head(3)"
   ]
  },
  {
   "cell_type": "code",
   "execution_count": 6,
   "metadata": {
    "colab": {
     "base_uri": "https://localhost:8080/",
     "height": 451
    },
    "colab_type": "code",
    "id": "wI4OV7yfD7Ij",
    "outputId": "782aafb2-a4d3-421f-d5ab-4e965192c786"
   },
   "outputs": [
    {
     "name": "stdout",
     "output_type": "stream",
     "text": [
      "<class 'pandas.core.frame.DataFrame'>\n",
      "RangeIndex: 318438 entries, 0 to 318437\n",
      "Data columns (total 18 columns):\n",
      " #   Column                             Non-Null Count   Dtype  \n",
      "---  ------                             --------------   -----  \n",
      " 0   case_id                            318438 non-null  int64  \n",
      " 1   Hospital_code                      318438 non-null  int64  \n",
      " 2   Hospital_type_code                 318438 non-null  object \n",
      " 3   City_Code_Hospital                 318438 non-null  int64  \n",
      " 4   Hospital_region_code               318438 non-null  object \n",
      " 5   Available Extra Rooms in Hospital  318438 non-null  int64  \n",
      " 6   Department                         318438 non-null  object \n",
      " 7   Ward_Type                          318438 non-null  object \n",
      " 8   Ward_Facility_Code                 318438 non-null  object \n",
      " 9   Bed Grade                          318325 non-null  float64\n",
      " 10  patientid                          318438 non-null  int64  \n",
      " 11  City_Code_Patient                  313906 non-null  float64\n",
      " 12  Type of Admission                  318438 non-null  object \n",
      " 13  Severity of Illness                318438 non-null  object \n",
      " 14  Visitors with Patient              318438 non-null  int64  \n",
      " 15  Age                                318438 non-null  object \n",
      " 16  Admission_Deposit                  318438 non-null  float64\n",
      " 17  Stay                               318438 non-null  object \n",
      "dtypes: float64(3), int64(6), object(9)\n",
      "memory usage: 43.7+ MB\n"
     ]
    }
   ],
   "source": [
    "train_main.info()"
   ]
  },
  {
   "cell_type": "markdown",
   "metadata": {},
   "source": [
    "Missing Value check"
   ]
  },
  {
   "cell_type": "code",
   "execution_count": 7,
   "metadata": {
    "colab": {
     "base_uri": "https://localhost:8080/",
     "height": 1000
    },
    "colab_type": "code",
    "id": "IRUQ_y54D-5b",
    "outputId": "f53decbd-75e4-4aa3-db9a-b1f873b997b0"
   },
   "outputs": [
    {
     "data": {
      "text/html": [
       "<div>\n",
       "<style scoped>\n",
       "    .dataframe tbody tr th:only-of-type {\n",
       "        vertical-align: middle;\n",
       "    }\n",
       "\n",
       "    .dataframe tbody tr th {\n",
       "        vertical-align: top;\n",
       "    }\n",
       "\n",
       "    .dataframe thead th {\n",
       "        text-align: right;\n",
       "    }\n",
       "</style>\n",
       "<table border=\"1\" class=\"dataframe\">\n",
       "  <thead>\n",
       "    <tr style=\"text-align: right;\">\n",
       "      <th></th>\n",
       "      <th>Missing_values</th>\n",
       "      <th>Missing_Values_Dis</th>\n",
       "    </tr>\n",
       "  </thead>\n",
       "  <tbody>\n",
       "    <tr>\n",
       "      <th>case_id</th>\n",
       "      <td>0</td>\n",
       "      <td>0.000000</td>\n",
       "    </tr>\n",
       "    <tr>\n",
       "      <th>Hospital_code</th>\n",
       "      <td>0</td>\n",
       "      <td>0.000000</td>\n",
       "    </tr>\n",
       "    <tr>\n",
       "      <th>Hospital_type_code</th>\n",
       "      <td>0</td>\n",
       "      <td>0.000000</td>\n",
       "    </tr>\n",
       "    <tr>\n",
       "      <th>City_Code_Hospital</th>\n",
       "      <td>0</td>\n",
       "      <td>0.000000</td>\n",
       "    </tr>\n",
       "    <tr>\n",
       "      <th>Hospital_region_code</th>\n",
       "      <td>0</td>\n",
       "      <td>0.000000</td>\n",
       "    </tr>\n",
       "    <tr>\n",
       "      <th>Available Extra Rooms in Hospital</th>\n",
       "      <td>0</td>\n",
       "      <td>0.000000</td>\n",
       "    </tr>\n",
       "    <tr>\n",
       "      <th>Department</th>\n",
       "      <td>0</td>\n",
       "      <td>0.000000</td>\n",
       "    </tr>\n",
       "    <tr>\n",
       "      <th>Ward_Type</th>\n",
       "      <td>0</td>\n",
       "      <td>0.000000</td>\n",
       "    </tr>\n",
       "    <tr>\n",
       "      <th>Ward_Facility_Code</th>\n",
       "      <td>0</td>\n",
       "      <td>0.000000</td>\n",
       "    </tr>\n",
       "    <tr>\n",
       "      <th>Bed Grade</th>\n",
       "      <td>113</td>\n",
       "      <td>0.000355</td>\n",
       "    </tr>\n",
       "    <tr>\n",
       "      <th>patientid</th>\n",
       "      <td>0</td>\n",
       "      <td>0.000000</td>\n",
       "    </tr>\n",
       "    <tr>\n",
       "      <th>City_Code_Patient</th>\n",
       "      <td>4532</td>\n",
       "      <td>0.014232</td>\n",
       "    </tr>\n",
       "    <tr>\n",
       "      <th>Type of Admission</th>\n",
       "      <td>0</td>\n",
       "      <td>0.000000</td>\n",
       "    </tr>\n",
       "    <tr>\n",
       "      <th>Severity of Illness</th>\n",
       "      <td>0</td>\n",
       "      <td>0.000000</td>\n",
       "    </tr>\n",
       "    <tr>\n",
       "      <th>Visitors with Patient</th>\n",
       "      <td>0</td>\n",
       "      <td>0.000000</td>\n",
       "    </tr>\n",
       "    <tr>\n",
       "      <th>Age</th>\n",
       "      <td>0</td>\n",
       "      <td>0.000000</td>\n",
       "    </tr>\n",
       "    <tr>\n",
       "      <th>Admission_Deposit</th>\n",
       "      <td>0</td>\n",
       "      <td>0.000000</td>\n",
       "    </tr>\n",
       "    <tr>\n",
       "      <th>Stay</th>\n",
       "      <td>0</td>\n",
       "      <td>0.000000</td>\n",
       "    </tr>\n",
       "  </tbody>\n",
       "</table>\n",
       "</div>"
      ],
      "text/plain": [
       "                                   Missing_values  Missing_Values_Dis\n",
       "case_id                                         0            0.000000\n",
       "Hospital_code                                   0            0.000000\n",
       "Hospital_type_code                              0            0.000000\n",
       "City_Code_Hospital                              0            0.000000\n",
       "Hospital_region_code                            0            0.000000\n",
       "Available Extra Rooms in Hospital               0            0.000000\n",
       "Department                                      0            0.000000\n",
       "Ward_Type                                       0            0.000000\n",
       "Ward_Facility_Code                              0            0.000000\n",
       "Bed Grade                                     113            0.000355\n",
       "patientid                                       0            0.000000\n",
       "City_Code_Patient                            4532            0.014232\n",
       "Type of Admission                               0            0.000000\n",
       "Severity of Illness                             0            0.000000\n",
       "Visitors with Patient                           0            0.000000\n",
       "Age                                             0            0.000000\n",
       "Admission_Deposit                               0            0.000000\n",
       "Stay                                            0            0.000000"
      ]
     },
     "execution_count": 7,
     "metadata": {},
     "output_type": "execute_result"
    },
    {
     "data": {
      "text/html": [
       "<div>\n",
       "<style scoped>\n",
       "    .dataframe tbody tr th:only-of-type {\n",
       "        vertical-align: middle;\n",
       "    }\n",
       "\n",
       "    .dataframe tbody tr th {\n",
       "        vertical-align: top;\n",
       "    }\n",
       "\n",
       "    .dataframe thead th {\n",
       "        text-align: right;\n",
       "    }\n",
       "</style>\n",
       "<table border=\"1\" class=\"dataframe\">\n",
       "  <thead>\n",
       "    <tr style=\"text-align: right;\">\n",
       "      <th></th>\n",
       "      <th>Missing_values</th>\n",
       "      <th>Missing_Values_Dis</th>\n",
       "    </tr>\n",
       "  </thead>\n",
       "  <tbody>\n",
       "    <tr>\n",
       "      <th>case_id</th>\n",
       "      <td>0</td>\n",
       "      <td>0.000000</td>\n",
       "    </tr>\n",
       "    <tr>\n",
       "      <th>Hospital_code</th>\n",
       "      <td>0</td>\n",
       "      <td>0.000000</td>\n",
       "    </tr>\n",
       "    <tr>\n",
       "      <th>Hospital_type_code</th>\n",
       "      <td>0</td>\n",
       "      <td>0.000000</td>\n",
       "    </tr>\n",
       "    <tr>\n",
       "      <th>City_Code_Hospital</th>\n",
       "      <td>0</td>\n",
       "      <td>0.000000</td>\n",
       "    </tr>\n",
       "    <tr>\n",
       "      <th>Hospital_region_code</th>\n",
       "      <td>0</td>\n",
       "      <td>0.000000</td>\n",
       "    </tr>\n",
       "    <tr>\n",
       "      <th>Available Extra Rooms in Hospital</th>\n",
       "      <td>0</td>\n",
       "      <td>0.000000</td>\n",
       "    </tr>\n",
       "    <tr>\n",
       "      <th>Department</th>\n",
       "      <td>0</td>\n",
       "      <td>0.000000</td>\n",
       "    </tr>\n",
       "    <tr>\n",
       "      <th>Ward_Type</th>\n",
       "      <td>0</td>\n",
       "      <td>0.000000</td>\n",
       "    </tr>\n",
       "    <tr>\n",
       "      <th>Ward_Facility_Code</th>\n",
       "      <td>0</td>\n",
       "      <td>0.000000</td>\n",
       "    </tr>\n",
       "    <tr>\n",
       "      <th>Bed Grade</th>\n",
       "      <td>113</td>\n",
       "      <td>0.000355</td>\n",
       "    </tr>\n",
       "    <tr>\n",
       "      <th>patientid</th>\n",
       "      <td>0</td>\n",
       "      <td>0.000000</td>\n",
       "    </tr>\n",
       "    <tr>\n",
       "      <th>City_Code_Patient</th>\n",
       "      <td>4532</td>\n",
       "      <td>0.014232</td>\n",
       "    </tr>\n",
       "    <tr>\n",
       "      <th>Type of Admission</th>\n",
       "      <td>0</td>\n",
       "      <td>0.000000</td>\n",
       "    </tr>\n",
       "    <tr>\n",
       "      <th>Severity of Illness</th>\n",
       "      <td>0</td>\n",
       "      <td>0.000000</td>\n",
       "    </tr>\n",
       "    <tr>\n",
       "      <th>Visitors with Patient</th>\n",
       "      <td>0</td>\n",
       "      <td>0.000000</td>\n",
       "    </tr>\n",
       "    <tr>\n",
       "      <th>Age</th>\n",
       "      <td>0</td>\n",
       "      <td>0.000000</td>\n",
       "    </tr>\n",
       "    <tr>\n",
       "      <th>Admission_Deposit</th>\n",
       "      <td>0</td>\n",
       "      <td>0.000000</td>\n",
       "    </tr>\n",
       "    <tr>\n",
       "      <th>Stay</th>\n",
       "      <td>0</td>\n",
       "      <td>0.000000</td>\n",
       "    </tr>\n",
       "  </tbody>\n",
       "</table>\n",
       "</div>"
      ],
      "text/plain": [
       "                                   Missing_values  Missing_Values_Dis\n",
       "case_id                                         0            0.000000\n",
       "Hospital_code                                   0            0.000000\n",
       "Hospital_type_code                              0            0.000000\n",
       "City_Code_Hospital                              0            0.000000\n",
       "Hospital_region_code                            0            0.000000\n",
       "Available Extra Rooms in Hospital               0            0.000000\n",
       "Department                                      0            0.000000\n",
       "Ward_Type                                       0            0.000000\n",
       "Ward_Facility_Code                              0            0.000000\n",
       "Bed Grade                                     113            0.000355\n",
       "patientid                                       0            0.000000\n",
       "City_Code_Patient                            4532            0.014232\n",
       "Type of Admission                               0            0.000000\n",
       "Severity of Illness                             0            0.000000\n",
       "Visitors with Patient                           0            0.000000\n",
       "Age                                             0            0.000000\n",
       "Admission_Deposit                               0            0.000000\n",
       "Stay                                            0            0.000000"
      ]
     },
     "execution_count": 7,
     "metadata": {},
     "output_type": "execute_result"
    }
   ],
   "source": [
    "missing_train1 = train_main.isnull().sum()\n",
    "missing_train2 = train_main.isnull().sum()/len(train_main)\n",
    "missing_train3 = pd.concat([missing_train1, missing_train2],axis = 1)\n",
    "missing_train3 = missing_train3.rename(columns={0:'Missing_values',1: 'Missing_Values_Dis'})\n",
    "missing_train3\n",
    "\n",
    "missing_test1 = train_main.isnull().sum()\n",
    "missing_test2 = train_main.isnull().sum()/len(train_main)\n",
    "missing_test3 = pd.concat([missing_test1, missing_test2],axis = 1)\n",
    "missing_test3 = missing_test3.rename(columns={0:'Missing_values',1: 'Missing_Values_Dis'})\n",
    "missing_test3"
   ]
  },
  {
   "cell_type": "code",
   "execution_count": 8,
   "metadata": {
    "colab": {},
    "colab_type": "code",
    "id": "9izsbxnufSho"
   },
   "outputs": [],
   "source": [
    "train_main['Bed Grade'] = train_main['Bed Grade'].astype(float)\n",
    "train_main['City_Code_Patient'] = train_main['City_Code_Patient'].astype(float)"
   ]
  },
  {
   "cell_type": "code",
   "execution_count": 9,
   "metadata": {
    "colab": {
     "base_uri": "https://localhost:8080/",
     "height": 347
    },
    "colab_type": "code",
    "id": "sd7jqaP-fWTu",
    "outputId": "6e9b782c-dffd-465f-f35a-cced4182ff66"
   },
   "outputs": [
    {
     "data": {
      "text/plain": [
       "case_id                                 0\n",
       "Hospital_code                           0\n",
       "Hospital_type_code                      0\n",
       "City_Code_Hospital                      0\n",
       "Hospital_region_code                    0\n",
       "Available Extra Rooms in Hospital       0\n",
       "Department                              0\n",
       "Ward_Type                               0\n",
       "Ward_Facility_Code                      0\n",
       "Bed Grade                             113\n",
       "patientid                               0\n",
       "City_Code_Patient                    4532\n",
       "Type of Admission                       0\n",
       "Severity of Illness                     0\n",
       "Visitors with Patient                   0\n",
       "Age                                     0\n",
       "Admission_Deposit                       0\n",
       "Stay                                    0\n",
       "dtype: int64"
      ]
     },
     "execution_count": 9,
     "metadata": {},
     "output_type": "execute_result"
    }
   ],
   "source": [
    "train_main.isnull().sum()"
   ]
  },
  {
   "cell_type": "code",
   "execution_count": 10,
   "metadata": {
    "colab": {
     "base_uri": "https://localhost:8080/",
     "height": 35
    },
    "colab_type": "code",
    "id": "KQghieaafrP6",
    "outputId": "a2db7b07-0744-4646-8325-0539998da11b"
   },
   "outputs": [
    {
     "data": {
      "text/plain": [
       "Index(['Bed Grade', 'City_Code_Patient'], dtype='object')"
      ]
     },
     "execution_count": 10,
     "metadata": {},
     "output_type": "execute_result"
    }
   ],
   "source": [
    "train_main.columns[train_main.isnull().any()]"
   ]
  },
  {
   "cell_type": "code",
   "execution_count": 11,
   "metadata": {
    "colab": {},
    "colab_type": "code",
    "id": "AevQlJh-Ey6l"
   },
   "outputs": [],
   "source": [
    "train_main['Hospital_code'] = train_main['Hospital_code'].astype(str)\n",
    "# train_main['Bed Grade'] = train_main['Bed Grade'].astype(str)\n",
    "# train_main['City_Code_Patient'] = train_main['City_Code_Patient'].astype(str)\n",
    "train_main['Available Extra Rooms in Hospital'] = train_main['Available Extra Rooms in Hospital'].astype(str)\n",
    "train_main['City_Code_Hospital'] = train_main['City_Code_Hospital'].astype(str)\n",
    "\n",
    "test_main['Hospital_code'] = test_main['Hospital_code'].astype(str)\n",
    "test_main['Bed Grade'] = test_main['Bed Grade'].astype(str)\n",
    "# test_main['City_Code_Patient'] = test_main['City_Code_Patient'].astype(str)\n",
    "test_main['Available Extra Rooms in Hospital'] = test_main['Available Extra Rooms in Hospital'].astype(str)\n",
    "test_main['City_Code_Hospital'] = test_main['City_Code_Hospital'].astype(str)"
   ]
  },
  {
   "cell_type": "markdown",
   "metadata": {
    "colab_type": "text",
    "id": "uDucswN9LjfD"
   },
   "source": [
    "### Missing Value Imputation \n",
    "-- KNN Imputer"
   ]
  },
  {
   "cell_type": "code",
   "execution_count": 12,
   "metadata": {
    "colab": {
     "base_uri": "https://localhost:8080/",
     "height": 414
    },
    "colab_type": "code",
    "id": "lLjQIk-TOnj3",
    "outputId": "9382d46c-ab8d-4172-fe1a-61bd60c16620"
   },
   "outputs": [
    {
     "data": {
      "image/png": "[encoded data removed]",
      "text/plain": [
       "<Figure size 864x432 with 1 Axes>"
      ]
     },
     "metadata": {
      "needs_background": "light"
     },
     "output_type": "display_data"
    }
   ],
   "source": [
    "plt.rcParams['figure.figsize'] = (12, 6)\n",
    "sns.distplot(train_main['Admission_Deposit'], color = 'green')\n",
    "plt.title('Distribution of Amount Deposited by the Patients', fontsize = 20)\n",
    "plt.xlabel('Admission Deposit', fontsize = 15)\n",
    "plt.ylabel('count')\n",
    "plt.show();"
   ]
  },
  {
   "cell_type": "code",
   "execution_count": 13,
   "metadata": {
    "colab": {
     "base_uri": "https://localhost:8080/",
     "height": 407
    },
    "colab_type": "code",
    "id": "Fb4PBoxWPTx4",
    "outputId": "a2aa6959-1110-494a-a277-46c40bae4b48"
   },
   "outputs": [
    {
     "data": {
      "text/plain": [
       "<AxesSubplot:xlabel='Admission_Deposit'>"
      ]
     },
     "execution_count": 13,
     "metadata": {},
     "output_type": "execute_result"
    },
    {
     "data": {
      "image/png": "[encoded data removed]",
      "text/plain": [
       "<Figure size 864x432 with 1 Axes>"
      ]
     },
     "metadata": {
      "needs_background": "light"
     },
     "output_type": "display_data"
    }
   ],
   "source": [
    "sns.boxplot(x =  train_main['Admission_Deposit'])"
   ]
  },
  {
   "cell_type": "code",
   "execution_count": 14,
   "metadata": {
    "colab": {
     "base_uri": "https://localhost:8080/",
     "height": 407
    },
    "colab_type": "code",
    "id": "WxXf_6nPTaHI",
    "outputId": "fe2e9fd3-784b-4ce9-c510-791c92cf9856"
   },
   "outputs": [
    {
     "data": {
      "text/plain": [
       "<AxesSubplot:xlabel='Admission_Deposit', ylabel='Stay'>"
      ]
     },
     "execution_count": 14,
     "metadata": {},
     "output_type": "execute_result"
    },
    {
     "data": {
      "image/png": "[encoded data removed]",
      "text/plain": [
       "<Figure size 864x432 with 1 Axes>"
      ]
     },
     "metadata": {
      "needs_background": "light"
     },
     "output_type": "display_data"
    }
   ],
   "source": [
    "# a,b=plt.subplots(2,2,figsize=(8,10))\n",
    "sns.boxplot(train_main['Admission_Deposit'],train_main['Stay'])\n",
    "# sns.boxplot(df['Hospital_type_code'],df['Stay'],ax=b[0,1])"
   ]
  },
  {
   "cell_type": "code",
   "execution_count": 15,
   "metadata": {
    "colab": {},
    "colab_type": "code",
    "id": "FNhvu73MVrco"
   },
   "outputs": [],
   "source": [
    "def bin_var(var1):\n",
    "  if var1 >= 1800 and var1 <=3000:\n",
    "    return '1800-3000'\n",
    "  elif var1 > 3000 and var1 <= 4000:\n",
    "    return '3000-4000'\n",
    "  elif var1 > 4000 and var1 <= 5000:\n",
    "    return '4000-5000'\n",
    "  elif var1 > 5000 and var1 <= 7000:\n",
    "    return '5000-7000'\n",
    "  elif var1 > 7000 and var1 <= 9000:\n",
    "    return '7000-9000'\n",
    "  else:\n",
    "    return '>9000'\n",
    "train_main['Admission_Deposit1']  = train_main[['Admission_Deposit']].apply(lambda x: bin_var(x['Admission_Deposit']),axis=1)\n",
    "test_main['Admission_Deposit1']  = test_main[['Admission_Deposit']].apply(lambda x: bin_var(x['Admission_Deposit']),axis=1)"
   ]
  },
  {
   "cell_type": "code",
   "execution_count": 16,
   "metadata": {
    "colab": {},
    "colab_type": "code",
    "id": "li8jTHDQbEsy"
   },
   "outputs": [],
   "source": [
    "def bin_var(var1):\n",
    "  if var1 >= 0 and var1 <= 2:\n",
    "    return '0-2'\n",
    "  elif var1 > 2 and var1 <= 3:\n",
    "    return '2-3'\n",
    "  elif var1 > 3 and var1 <= 4:\n",
    "    return '3-4'\n",
    "  elif var1 > 4 and var1 <= 5:\n",
    "    return '4-5'\n",
    "  elif var1 > 5 and var1 <= 6:\n",
    "    return '5-6'\n",
    "  else:\n",
    "    return '>7'\n",
    "train_main['Visitors_with_Patient']  = train_main[['Visitors with Patient']].apply(lambda x: bin_var(x['Visitors with Patient']),axis=1)\n",
    "test_main['Visitors_with_Patient']  = test_main[['Visitors with Patient']].apply(lambda x: bin_var(x['Visitors with Patient']),axis=1)"
   ]
  },
  {
   "cell_type": "code",
   "execution_count": 17,
   "metadata": {
    "colab": {
     "base_uri": "https://localhost:8080/",
     "height": 243
    },
    "colab_type": "code",
    "id": "UmWI7c3YPnj6",
    "outputId": "dbaf9774-354d-4b14-bae0-77118a67e111"
   },
   "outputs": [
    {
     "data": {
      "text/plain": [
       "4000-5000    136878\n",
       "5000-7000    108424\n",
       "3000-4000     51877\n",
       "7000-9000     13524\n",
       "1800-3000      6581\n",
       ">9000          1154\n",
       "Name: Admission_Deposit1, dtype: int64"
      ]
     },
     "execution_count": 17,
     "metadata": {},
     "output_type": "execute_result"
    },
    {
     "data": {
      "text/plain": [
       "0-2    139646\n",
       "3-4     79225\n",
       "2-3     59180\n",
       "5-6     18860\n",
       ">7      12308\n",
       "4-5      9219\n",
       "Name: Visitors_with_Patient, dtype: int64"
      ]
     },
     "execution_count": 17,
     "metadata": {},
     "output_type": "execute_result"
    }
   ],
   "source": [
    "# train_main['Admission_Deposit1'] = pd.qcut(train_main['Admission_Deposit'],4)\n",
    "train_main['Admission_Deposit1'].value_counts()\n",
    "train_main['Visitors_with_Patient'].value_counts()"
   ]
  },
  {
   "cell_type": "code",
   "execution_count": 18,
   "metadata": {
    "colab": {
     "base_uri": "https://localhost:8080/",
     "height": 462
    },
    "colab_type": "code",
    "id": "q8vVv--MS4QB",
    "outputId": "9042d243-5bea-4f0c-e19f-40d5b0335042"
   },
   "outputs": [
    {
     "data": {
      "image/png": "[encoded data removed]",
      "text/plain": [
       "<Figure size 864x432 with 1 Axes>"
      ]
     },
     "metadata": {
      "needs_background": "light"
     },
     "output_type": "display_data"
    }
   ],
   "source": [
    "data = pd.crosstab(train_main['Admission_Deposit1'],train_main['Stay'])\n",
    "data.div(data.sum(1).astype('float'),axis = 0).plot(kind = 'bar', stacked = True, figsize = (12, 6), color = ['skyblue', 'darkblue'])\n",
    "plt.title('Stay with Amount Deposited', fontsize = 20)\n",
    "plt.xlabel('Stay', fontsize = 20)\n",
    "plt.legend()\n",
    "plt.show();"
   ]
  },
  {
   "cell_type": "code",
   "execution_count": 19,
   "metadata": {
    "colab": {},
    "colab_type": "code",
    "id": "CfSNswuMKhdK"
   },
   "outputs": [],
   "source": [
    "from sklearn.impute import KNNImputer,SimpleImputer\n",
    "from sklearn.base import TransformerMixin"
   ]
  },
  {
   "cell_type": "code",
   "execution_count": 20,
   "metadata": {
    "colab": {},
    "colab_type": "code",
    "id": "HWSdBS8yvLKh"
   },
   "outputs": [],
   "source": [
    "# imputer = SimpleImputer(missing_values=np.nan, strategy='constant', fill_value='Unknown')\n",
    "imputer_mf = SimpleImputer(missing_values=np.nan, strategy='most_frequent')\n",
    "imputer_knn = KNNImputer()\n",
    "imputer_mean = SimpleImputer(missing_values=np.nan, strategy='mean')"
   ]
  },
  {
   "cell_type": "code",
   "execution_count": 21,
   "metadata": {
    "colab": {},
    "colab_type": "code",
    "id": "2Ol1SokWvNBB"
   },
   "outputs": [],
   "source": [
    "train_main['Bed Grade'] = imputer_knn.fit_transform(train_main.loc[:,['Bed Grade']])\n",
    "train_main['City_Code_Patient'] = imputer_knn.fit_transform(train_main[['City_Code_Patient']])\n",
    "\n",
    "test_main['Bed Grade'] = imputer_knn.fit_transform(test_main.loc[:,['Bed Grade']])\n",
    "test_main['City_Code_Patient'] = imputer_knn.fit_transform(test_main[['City_Code_Patient']])"
   ]
  },
  {
   "cell_type": "code",
   "execution_count": 22,
   "metadata": {
    "colab": {},
    "colab_type": "code",
    "id": "77CrgYN-wK1w"
   },
   "outputs": [],
   "source": [
    "train_main = train_main.drop(columns= {'Visitors with Patient','Admission_Deposit'},axis=1)\n",
    "test_main = test_main.drop(columns= {'Visitors with Patient','Admission_Deposit'},axis=1)"
   ]
  },
  {
   "cell_type": "markdown",
   "metadata": {
    "colab_type": "text",
    "id": "z99vZFjc0ffu"
   },
   "source": [
    "### Label & One Hot Encoding"
   ]
  },
  {
   "cell_type": "markdown",
   "metadata": {
    "colab_type": "text",
    "id": "Agle6wh50fcQ"
   },
   "source": []
  },
  {
   "cell_type": "code",
   "execution_count": 25,
   "metadata": {
    "colab": {},
    "colab_type": "code",
    "id": "4TksRNVPxWJQ"
   },
   "outputs": [],
   "source": [
    "from sklearn.preprocessing import LabelEncoder\n",
    "le=LabelEncoder()"
   ]
  },
  {
   "cell_type": "code",
   "execution_count": 26,
   "metadata": {
    "colab": {
     "base_uri": "https://localhost:8080/",
     "height": 139
    },
    "colab_type": "code",
    "id": "-AOKjapX1Vyj",
    "outputId": "534ea78d-d137-4b23-8acf-b0e8ea304863"
   },
   "outputs": [
    {
     "data": {
      "text/plain": [
       "Index(['case_id', 'Hospital_code', 'Hospital_type_code', 'City_Code_Hospital',\n",
       "       'Hospital_region_code', 'Available Extra Rooms in Hospital',\n",
       "       'Department', 'Ward_Type', 'Ward_Facility_Code', 'Bed Grade',\n",
       "       'patientid', 'City_Code_Patient', 'Type of Admission',\n",
       "       'Severity of Illness', 'Age', 'Stay', 'Admission_Deposit1',\n",
       "       'Visitors_with_Patient'],\n",
       "      dtype='object')"
      ]
     },
     "execution_count": 26,
     "metadata": {},
     "output_type": "execute_result"
    }
   ],
   "source": [
    "train_main.columns"
   ]
  },
  {
   "cell_type": "code",
   "execution_count": 27,
   "metadata": {
    "colab": {},
    "colab_type": "code",
    "id": "0Bfwx7mV2lwA"
   },
   "outputs": [],
   "source": [
    "from sklearn.preprocessing import LabelEncoder\n",
    "encoder=LabelEncoder()\n",
    "train_main['Stay']=encoder.fit_transform(train_main['Stay'])"
   ]
  },
  {
   "cell_type": "code",
   "execution_count": 28,
   "metadata": {
    "colab": {
     "base_uri": "https://localhost:8080/",
     "height": 139
    },
    "colab_type": "code",
    "id": "0NyDm8x94NlP",
    "outputId": "9560931b-258c-4fa0-f72e-d5e37ba87a96"
   },
   "outputs": [
    {
     "data": {
      "text/plain": [
       "Index(['case_id', 'Hospital_code', 'Hospital_type_code', 'City_Code_Hospital',\n",
       "       'Hospital_region_code', 'Available Extra Rooms in Hospital',\n",
       "       'Department', 'Ward_Type', 'Ward_Facility_Code', 'Bed Grade',\n",
       "       'patientid', 'City_Code_Patient', 'Type of Admission',\n",
       "       'Severity of Illness', 'Age', 'Stay', 'Admission_Deposit1',\n",
       "       'Visitors_with_Patient'],\n",
       "      dtype='object')"
      ]
     },
     "execution_count": 28,
     "metadata": {},
     "output_type": "execute_result"
    }
   ],
   "source": [
    "train_main.columns"
   ]
  },
  {
   "cell_type": "code",
   "execution_count": 29,
   "metadata": {
    "colab": {},
    "colab_type": "code",
    "id": "WUDH6z4H4JFk"
   },
   "outputs": [],
   "source": [
    "train_main_Id = train_main[['case_id','patientid']]\n",
    "test_main_Id = test_main[['case_id','patientid']]\n",
    "\n",
    "train_main = train_main.drop(columns={'case_id','patientid'},axis = 1)\n",
    "test_main = test_main.drop(columns={'case_id','patientid'},axis = 1)"
   ]
  },
  {
   "cell_type": "code",
   "execution_count": 30,
   "metadata": {
    "colab": {},
    "colab_type": "code",
    "id": "0Y77-Oq61ST2"
   },
   "outputs": [],
   "source": [
    "columns = ['Hospital_code', 'Hospital_type_code', 'City_Code_Hospital',\n",
    "       'Hospital_region_code', 'Available Extra Rooms in Hospital',\n",
    "       'Department', 'Ward_Type', 'Ward_Facility_Code', 'Bed Grade',\n",
    "       'City_Code_Patient', 'Type of Admission','Severity of Illness','Age']"
   ]
  },
  {
   "cell_type": "code",
   "execution_count": 32,
   "metadata": {
    "colab": {},
    "colab_type": "code",
    "id": "V-WqXwAe55wK"
   },
   "outputs": [],
   "source": [
    "# Train Data\n",
    "train_main['Hospital_code']=le.fit_transform(train_main['Hospital_code'])\n",
    "train_main['Hospital_type_code']=le.fit_transform(train_main['Hospital_type_code'])\n",
    "train_main['City_Code_Hospital']=le.fit_transform(train_main['City_Code_Hospital'])\n",
    "train_main['Hospital_region_code']=le.fit_transform(train_main['Hospital_region_code'])\n",
    "train_main['Available Extra Rooms in Hospital']=le.fit_transform(train_main['Available Extra Rooms in Hospital'])\n",
    "train_main['Department']=le.fit_transform(train_main['Department'])\n",
    "train_main['Ward_Type']=le.fit_transform(train_main['Ward_Type'])\n",
    "train_main['Ward_Facility_Code']=le.fit_transform(train_main['Ward_Facility_Code'])\n",
    "train_main['Bed Grade']=le.fit_transform(train_main['Bed Grade'])\n",
    "train_main['City_Code_Patient']=le.fit_transform(train_main['City_Code_Patient'])\n",
    "train_main['Type of Admission']=le.fit_transform(train_main['Type of Admission'])\n",
    "train_main['Severity of Illness']=le.fit_transform(train_main['Severity of Illness'])\n",
    "train_main['Age']=le.fit_transform(train_main['Age'])\n",
    "train_main['Admission_Deposit1']=le.fit_transform(train_main['Admission_Deposit1'])\n",
    "train_main['Visitors_with_Patient']=le.fit_transform(train_main['Visitors_with_Patient'])\n",
    "\n",
    "# Test Data\n",
    "test_main['Hospital_code']=le.fit_transform(test_main['Hospital_code'])\n",
    "test_main['Hospital_type_code']=le.fit_transform(test_main['Hospital_type_code'])\n",
    "test_main['City_Code_Hospital']=le.fit_transform(test_main['City_Code_Hospital'])\n",
    "test_main['Hospital_region_code']=le.fit_transform(test_main['Hospital_region_code'])\n",
    "test_main['Available Extra Rooms in Hospital']=le.fit_transform(test_main['Available Extra Rooms in Hospital'])\n",
    "test_main['Department']=le.fit_transform(test_main['Department'])\n",
    "test_main['Ward_Type']=le.fit_transform(test_main['Ward_Type'])\n",
    "test_main['Ward_Facility_Code']=le.fit_transform(test_main['Ward_Facility_Code'])\n",
    "test_main['Bed Grade']=le.fit_transform(test_main['Bed Grade'])\n",
    "test_main['City_Code_Patient']=le.fit_transform(test_main['City_Code_Patient'])\n",
    "test_main['Type of Admission']=le.fit_transform(test_main['Type of Admission'])\n",
    "test_main['Severity of Illness']=le.fit_transform(test_main['Severity of Illness'])\n",
    "test_main['Age']=le.fit_transform(test_main['Age'])\n",
    "test_main['Admission_Deposit1']=le.fit_transform(test_main['Admission_Deposit1'])\n",
    "test_main['Visitors_with_Patient']=le.fit_transform(test_main['Visitors_with_Patient'])"
   ]
  },
  {
   "cell_type": "code",
   "execution_count": 33,
   "metadata": {
    "colab": {
     "base_uri": "https://localhost:8080/",
     "height": 182
    },
    "colab_type": "code",
    "id": "PRIaiLFMQitq",
    "outputId": "111d9cbb-709a-43eb-eab2-5cf1b9e96d7b"
   },
   "outputs": [
    {
     "data": {
      "text/html": [
       "<div>\n",
       "<style scoped>\n",
       "    .dataframe tbody tr th:only-of-type {\n",
       "        vertical-align: middle;\n",
       "    }\n",
       "\n",
       "    .dataframe tbody tr th {\n",
       "        vertical-align: top;\n",
       "    }\n",
       "\n",
       "    .dataframe thead th {\n",
       "        text-align: right;\n",
       "    }\n",
       "</style>\n",
       "<table border=\"1\" class=\"dataframe\">\n",
       "  <thead>\n",
       "    <tr style=\"text-align: right;\">\n",
       "      <th></th>\n",
       "      <th>Hospital_code</th>\n",
       "      <th>Hospital_type_code</th>\n",
       "      <th>City_Code_Hospital</th>\n",
       "      <th>Hospital_region_code</th>\n",
       "      <th>Available Extra Rooms in Hospital</th>\n",
       "      <th>Department</th>\n",
       "      <th>Ward_Type</th>\n",
       "      <th>Ward_Facility_Code</th>\n",
       "      <th>Bed Grade</th>\n",
       "      <th>City_Code_Patient</th>\n",
       "      <th>Type of Admission</th>\n",
       "      <th>Severity of Illness</th>\n",
       "      <th>Age</th>\n",
       "      <th>Stay</th>\n",
       "      <th>Admission_Deposit1</th>\n",
       "      <th>Visitors_with_Patient</th>\n",
       "    </tr>\n",
       "  </thead>\n",
       "  <tbody>\n",
       "    <tr>\n",
       "      <th>0</th>\n",
       "      <td>30</td>\n",
       "      <td>2</td>\n",
       "      <td>5</td>\n",
       "      <td>2</td>\n",
       "      <td>11</td>\n",
       "      <td>3</td>\n",
       "      <td>2</td>\n",
       "      <td>5</td>\n",
       "      <td>1</td>\n",
       "      <td>6</td>\n",
       "      <td>0</td>\n",
       "      <td>0</td>\n",
       "      <td>5</td>\n",
       "      <td>0</td>\n",
       "      <td>2</td>\n",
       "      <td>0</td>\n",
       "    </tr>\n",
       "    <tr>\n",
       "      <th>1</th>\n",
       "      <td>11</td>\n",
       "      <td>2</td>\n",
       "      <td>7</td>\n",
       "      <td>2</td>\n",
       "      <td>7</td>\n",
       "      <td>3</td>\n",
       "      <td>3</td>\n",
       "      <td>5</td>\n",
       "      <td>1</td>\n",
       "      <td>6</td>\n",
       "      <td>1</td>\n",
       "      <td>0</td>\n",
       "      <td>5</td>\n",
       "      <td>4</td>\n",
       "      <td>3</td>\n",
       "      <td>0</td>\n",
       "    </tr>\n",
       "  </tbody>\n",
       "</table>\n",
       "</div>"
      ],
      "text/plain": [
       "   Hospital_code  Hospital_type_code  City_Code_Hospital  \\\n",
       "0             30                   2                   5   \n",
       "1             11                   2                   7   \n",
       "\n",
       "   Hospital_region_code  Available Extra Rooms in Hospital  Department  \\\n",
       "0                     2                                 11           3   \n",
       "1                     2                                  7           3   \n",
       "\n",
       "   Ward_Type  Ward_Facility_Code  Bed Grade  City_Code_Patient  \\\n",
       "0          2                   5          1                  6   \n",
       "1          3                   5          1                  6   \n",
       "\n",
       "   Type of Admission  Severity of Illness  Age  Stay  Admission_Deposit1  \\\n",
       "0                  0                    0    5     0                   2   \n",
       "1                  1                    0    5     4                   3   \n",
       "\n",
       "   Visitors_with_Patient  \n",
       "0                      0  \n",
       "1                      0  "
      ]
     },
     "execution_count": 33,
     "metadata": {},
     "output_type": "execute_result"
    }
   ],
   "source": [
    "train_main.head(2)"
   ]
  },
  {
   "cell_type": "markdown",
   "metadata": {
    "colab_type": "text",
    "id": "RiLEg3C48Lrt"
   },
   "source": [
    "## Train Test Split"
   ]
  },
  {
   "cell_type": "code",
   "execution_count": 34,
   "metadata": {
    "colab": {},
    "colab_type": "code",
    "id": "rExjFfhy9UrF"
   },
   "outputs": [],
   "source": [
    "from sklearn.model_selection import train_test_split,KFold,StratifiedKFold,GridSearchCV,RandomizedSearchCV,cross_val_score"
   ]
  },
  {
   "cell_type": "code",
   "execution_count": 35,
   "metadata": {
    "colab": {
     "base_uri": "https://localhost:8080/",
     "height": 225
    },
    "colab_type": "code",
    "id": "tWNEEm0x8NU_",
    "outputId": "81f7c44b-3598-4fad-86dc-001b12a3a086"
   },
   "outputs": [
    {
     "data": {
      "text/plain": [
       "2     27.475050\n",
       "1     24.538215\n",
       "3     17.321739\n",
       "5     10.996803\n",
       "0      7.412432\n",
       "4      3.687688\n",
       "7      3.220093\n",
       "10     2.098682\n",
       "8      1.519291\n",
       "9      0.868301\n",
       "6      0.861706\n",
       "Name: Stay, dtype: float64"
      ]
     },
     "execution_count": 35,
     "metadata": {},
     "output_type": "execute_result"
    }
   ],
   "source": [
    "train_main['Stay'].value_counts(normalize=True)*100# Imbalanced dataset"
   ]
  },
  {
   "cell_type": "code",
   "execution_count": 36,
   "metadata": {
    "colab": {},
    "colab_type": "code",
    "id": "L1Yd8L0F8bHo"
   },
   "outputs": [],
   "source": [
    "X = train_main.drop('Stay',1)\n",
    "y = train_main['Stay']\n",
    "X_train, X_valid, y_train, y_valid = train_test_split(X,y, test_size = 0.2, random_state =1)"
   ]
  },
  {
   "cell_type": "code",
   "execution_count": 37,
   "metadata": {
    "colab": {},
    "colab_type": "code",
    "id": "OD6vloNb8tf6"
   },
   "outputs": [],
   "source": [
    "from xgboost import XGBClassifier\n",
    "from catboost import CatBoostClassifier\n",
    "from lightgbm import LGBMClassifier\n",
    "from sklearn.ensemble import VotingClassifier"
   ]
  },
  {
   "cell_type": "markdown",
   "metadata": {},
   "source": [
    "# CatBoost Classifier"
   ]
  },
  {
   "cell_type": "code",
   "execution_count": 39,
   "metadata": {
    "colab": {},
    "colab_type": "code",
    "id": "nYusGhsf9d7l"
   },
   "outputs": [],
   "source": [
    "cat = CatBoostClassifier(custom_metric=['Accuracy'], learning_rate=0.03, n_estimators=200, verbose = False)"
   ]
  },
  {
   "cell_type": "code",
   "execution_count": 41,
   "metadata": {
    "colab": {
     "base_uri": "https://localhost:8080/",
     "height": 468
    },
    "colab_type": "code",
    "id": "Q-X6MokA_ZsP",
    "outputId": "a5be3d85-0b73-4835-8a1b-cb11fa3fc081"
   },
   "outputs": [
    {
     "name": "stdout",
     "output_type": "stream",
     "text": [
      "0:\tlearn: 2.3446426\ttest: 2.3447881\tbest: 2.3447881 (0)\ttotal: 862ms\tremaining: 2m 51s\n",
      "10:\tlearn: 2.0222391\ttest: 2.0231532\tbest: 2.0231532 (10)\ttotal: 8.52s\tremaining: 2m 26s\n",
      "20:\tlearn: 1.8616607\ttest: 1.8631288\tbest: 1.8631288 (20)\ttotal: 16.7s\tremaining: 2m 22s\n",
      "30:\tlearn: 1.7648231\ttest: 1.7667605\tbest: 1.7667605 (30)\ttotal: 24.5s\tremaining: 2m 13s\n",
      "40:\tlearn: 1.7038386\ttest: 1.7061196\tbest: 1.7061196 (40)\ttotal: 32.1s\tremaining: 2m 4s\n",
      "50:\tlearn: 1.6625733\ttest: 1.6652381\tbest: 1.6652381 (50)\ttotal: 40.1s\tremaining: 1m 57s\n",
      "60:\tlearn: 1.6339062\ttest: 1.6368553\tbest: 1.6368553 (60)\ttotal: 47.7s\tremaining: 1m 48s\n",
      "70:\tlearn: 1.6150244\ttest: 1.6183675\tbest: 1.6183675 (70)\ttotal: 55.2s\tremaining: 1m 40s\n",
      "80:\tlearn: 1.6011036\ttest: 1.6048606\tbest: 1.6048606 (80)\ttotal: 1m 2s\tremaining: 1m 32s\n",
      "90:\tlearn: 1.5908167\ttest: 1.5950263\tbest: 1.5950263 (90)\ttotal: 1m 10s\tremaining: 1m 24s\n",
      "100:\tlearn: 1.5834251\ttest: 1.5879713\tbest: 1.5879713 (100)\ttotal: 1m 18s\tremaining: 1m 16s\n",
      "110:\tlearn: 1.5771255\ttest: 1.5819826\tbest: 1.5819826 (110)\ttotal: 1m 25s\tremaining: 1m 8s\n",
      "120:\tlearn: 1.5715448\ttest: 1.5768208\tbest: 1.5768208 (120)\ttotal: 1m 33s\tremaining: 1m\n",
      "130:\tlearn: 1.5673124\ttest: 1.5729262\tbest: 1.5729262 (130)\ttotal: 1m 40s\tremaining: 53.1s\n",
      "140:\tlearn: 1.5634058\ttest: 1.5693708\tbest: 1.5693708 (140)\ttotal: 1m 48s\tremaining: 45.4s\n",
      "150:\tlearn: 1.5601163\ttest: 1.5664188\tbest: 1.5664188 (150)\ttotal: 1m 56s\tremaining: 37.9s\n",
      "160:\tlearn: 1.5571144\ttest: 1.5637610\tbest: 1.5637610 (160)\ttotal: 2m 4s\tremaining: 30.1s\n",
      "170:\tlearn: 1.5540523\ttest: 1.5610216\tbest: 1.5610216 (170)\ttotal: 2m 12s\tremaining: 22.4s\n",
      "180:\tlearn: 1.5511900\ttest: 1.5585082\tbest: 1.5585082 (180)\ttotal: 2m 19s\tremaining: 14.6s\n",
      "190:\tlearn: 1.5489613\ttest: 1.5566219\tbest: 1.5566219 (190)\ttotal: 2m 26s\tremaining: 6.91s\n",
      "199:\tlearn: 1.5469700\ttest: 1.5549602\tbest: 1.5549602 (199)\ttotal: 2m 33s\tremaining: 0us\n",
      "\n",
      "bestTest = 1.554960209\n",
      "bestIteration = 199\n",
      "\n"
     ]
    },
    {
     "data": {
      "text/plain": [
       "<catboost.core.CatBoostClassifier at 0x17db15a0408>"
      ]
     },
     "execution_count": 41,
     "metadata": {},
     "output_type": "execute_result"
    }
   ],
   "source": [
    "cat.fit(X_train, y_train,eval_set=(X_valid, y_valid), verbose=10)   "
   ]
  },
  {
   "cell_type": "code",
   "execution_count": 42,
   "metadata": {},
   "outputs": [
    {
     "name": "stdout",
     "output_type": "stream",
     "text": [
      "{'learn': {'Accuracy': 0.4125888125613346, 'MultiClass': 1.5469700119424932}, 'validation': {'Accuracy': 0.40833438010300216, 'MultiClass': 1.5549602086797627}}\n"
     ]
    }
   ],
   "source": [
    "# 4. Get the Best Score of 'auc'\n",
    "print(cat.get_best_score())"
   ]
  },
  {
   "cell_type": "code",
   "execution_count": 43,
   "metadata": {
    "colab": {},
    "colab_type": "code",
    "id": "aCkEjjuMAU0I"
   },
   "outputs": [],
   "source": [
    "# 3. Predict the Probability Values of Target \"Outcome\" for \"test\" data :\n",
    "cat_pred_valid = cat.predict(X_valid)\n",
    "cat_pred_valid_prob = cat.predict_proba(X_valid)\n",
    "\n",
    "# Test Data\n",
    "cat_pred_test = cat.predict(test_main)\n",
    "cat_pred__test_prob = cat.predict_proba(test_main)"
   ]
  },
  {
   "cell_type": "code",
   "execution_count": 45,
   "metadata": {
    "colab": {},
    "colab_type": "code",
    "id": "Ssm9VLihBZTU"
   },
   "outputs": [],
   "source": [
    "cat1 = CatBoostClassifier(custom_metric=['Accuracy'], learning_rate=0.15, random_seed=50, max_depth = 5,n_estimators=500, verbose = False)"
   ]
  },
  {
   "cell_type": "code",
   "execution_count": 46,
   "metadata": {
    "colab": {
     "base_uri": "https://localhost:8080/",
     "height": 295
    },
    "colab_type": "code",
    "id": "kQNJ5iNeByN0",
    "outputId": "e3f5572b-ff08-42db-dda0-5dea711727f3"
   },
   "outputs": [
    {
     "name": "stdout",
     "output_type": "stream",
     "text": [
      "0:\tlearn: 2.1559727\ttest: 2.1559925\tbest: 2.1559925 (0)\ttotal: 523ms\tremaining: 4m 20s\n",
      "50:\tlearn: 1.5498955\ttest: 1.5565820\tbest: 1.5565820 (50)\ttotal: 21.1s\tremaining: 3m 6s\n",
      "100:\tlearn: 1.5249339\ttest: 1.5363623\tbest: 1.5363623 (100)\ttotal: 41s\tremaining: 2m 41s\n",
      "150:\tlearn: 1.5105461\ttest: 1.5260515\tbest: 1.5260515 (150)\ttotal: 1m\tremaining: 2m 20s\n",
      "200:\tlearn: 1.5014096\ttest: 1.5209473\tbest: 1.5209473 (200)\ttotal: 1m 20s\tremaining: 1m 59s\n",
      "250:\tlearn: 1.4940656\ttest: 1.5177360\tbest: 1.5177360 (250)\ttotal: 1m 40s\tremaining: 1m 39s\n",
      "300:\tlearn: 1.4876472\ttest: 1.5151227\tbest: 1.5151227 (300)\ttotal: 1m 59s\tremaining: 1m 19s\n",
      "350:\tlearn: 1.4824422\ttest: 1.5137051\tbest: 1.5137051 (350)\ttotal: 2m 19s\tremaining: 59.3s\n",
      "400:\tlearn: 1.4781925\ttest: 1.5129079\tbest: 1.5129012 (398)\ttotal: 2m 39s\tremaining: 39.3s\n",
      "450:\tlearn: 1.4739589\ttest: 1.5120137\tbest: 1.5120137 (450)\ttotal: 2m 58s\tremaining: 19.4s\n",
      "499:\tlearn: 1.4696833\ttest: 1.5113449\tbest: 1.5113370 (495)\ttotal: 3m 17s\tremaining: 0us\n",
      "\n",
      "bestTest = 1.511337041\n",
      "bestIteration = 495\n",
      "\n",
      "Shrink model to first 496 iterations.\n"
     ]
    },
    {
     "data": {
      "text/plain": [
       "<catboost.core.CatBoostClassifier at 0x17dab397ac8>"
      ]
     },
     "execution_count": 46,
     "metadata": {},
     "output_type": "execute_result"
    }
   ],
   "source": [
    "cat1.fit(X_train, y_train, eval_set=(X_valid, y_valid), verbose=50)"
   ]
  },
  {
   "cell_type": "code",
   "execution_count": 47,
   "metadata": {
    "colab": {
     "base_uri": "https://localhost:8080/",
     "height": 55
    },
    "colab_type": "code",
    "id": "VJ44mYsgB68v",
    "outputId": "1e3c939f-eb7d-485b-a10a-b69b6a122669"
   },
   "outputs": [
    {
     "name": "stdout",
     "output_type": "stream",
     "text": [
      "{'learn': {'Accuracy': 0.43694995093228656, 'MultiClass': 1.469683316696342}, 'validation': {'Accuracy': 0.42075430222333876, 'MultiClass': 1.5113370412736518}}\n"
     ]
    }
   ],
   "source": [
    "print(cat1.get_best_score())"
   ]
  },
  {
   "cell_type": "markdown",
   "metadata": {},
   "source": [
    "# Light GBM"
   ]
  },
  {
   "cell_type": "code",
   "execution_count": 48,
   "metadata": {
    "colab": {},
    "colab_type": "code",
    "id": "d9anD_Z2IeNN"
   },
   "outputs": [],
   "source": [
    "import lightgbm as lgb"
   ]
  },
  {
   "cell_type": "code",
   "execution_count": 49,
   "metadata": {},
   "outputs": [],
   "source": [
    "from sklearn.metrics import accuracy_score"
   ]
  },
  {
   "cell_type": "code",
   "execution_count": 50,
   "metadata": {},
   "outputs": [
    {
     "data": {
      "text/plain": [
       "LGBMClassifier(random_state=1)"
      ]
     },
     "execution_count": 50,
     "metadata": {},
     "output_type": "execute_result"
    },
    {
     "name": "stdout",
     "output_type": "stream",
     "text": [
      "Accuracy of train: 0.43823748773307164\n",
      "Accuracy of test: 0.4200477326968974\n"
     ]
    }
   ],
   "source": [
    "lgbmc=lgb.LGBMClassifier(random_state=1)\n",
    "\n",
    "lgbmc.fit(X_train,y_train)\n",
    "\n",
    "\n",
    "y_train_pred=lgbmc.predict(X_train)\n",
    "print(\"Accuracy of train:\",accuracy_score(y_train,y_train_pred))\n",
    "\n",
    "y_test_pred=lgbmc.predict(X_valid)\n",
    "print(\"Accuracy of test:\",accuracy_score(y_valid,y_test_pred))"
   ]
  },
  {
   "cell_type": "markdown",
   "metadata": {},
   "source": [
    "Hyperperameter Tuning"
   ]
  },
  {
   "cell_type": "code",
   "execution_count": 59,
   "metadata": {},
   "outputs": [
    {
     "data": {
      "text/plain": [
       "RandomizedSearchCV(cv=3,\n",
       "                   estimator=LGBMClassifier(metric='multi_logloss',\n",
       "                                            objective='multiclass',\n",
       "                                            random_state=1),\n",
       "                   n_iter=20, n_jobs=-1,\n",
       "                   param_distributions={'boosting_type': ['gbdt', 'dart',\n",
       "                                                          'goss', 'rf'],\n",
       "                                        'class_weight': [None, 'balanced'],\n",
       "                                        'learning_rate': [0, 0.025, 0.05, 0.075,\n",
       "                                                          0.1, 0.125, 0.15,\n",
       "                                                          0.175, 0.2, 0.15],\n",
       "                                        'max_depth': <scipy.stats._distn_infrastructure.rv_frozen object at 0x000001DC6E18F088>,\n",
       "                                        'min_child_samples': <scipy.stats._distn_infrastructure.rv_frozen object at 0x000001DC6E18FDC8>,\n",
       "                                        'n_estimators': <scipy.stats._distn_infrastructure.rv_frozen object at 0x000001DC6E18DE88>,\n",
       "                                        'num_leaves': <scipy.stats._distn_infrastructure.rv_frozen object at 0x000001DC6E193D88>},\n",
       "                   random_state=1, scoring='accuracy')"
      ]
     },
     "execution_count": 59,
     "metadata": {},
     "output_type": "execute_result"
    },
    {
     "name": "stdout",
     "output_type": "stream",
     "text": [
      "{'boosting_type': 'dart', 'class_weight': None, 'learning_rate': 0.15, 'max_depth': 10, 'min_child_samples': 4, 'n_estimators': 176, 'num_leaves': 33}\n"
     ]
    }
   ],
   "source": [
    "lgbmc=lgb.LGBMClassifier(random_state=1,n_jobs=-1,metric='multi_logloss', objective='multiclass')\n",
    "from scipy.stats import randint as sp_randint\n",
    "from sklearn.model_selection import RandomizedSearchCV\n",
    "params={\n",
    "    'n_estimators':sp_randint(50,250),\n",
    "    'boosting_type':['gbdt','dart','goss','rf'],\n",
    "    'max_depth':sp_randint(1,11),\n",
    "    'class_weight':[None,'balanced'],\n",
    "    'min_child_samples':sp_randint(1,30),\n",
    "    'num_leaves':sp_randint(10,50),\n",
    "    'learning_rate':[0,0.025,0.05,0.075,0.1,0.125,0.15,0.175,0.2,0.15],\n",
    "    }\n",
    "\n",
    "rsearch=RandomizedSearchCV(estimator=lgbmc,param_distributions=params,cv=3,scoring='accuracy',random_state=1,n_iter=20,n_jobs=-1)\n",
    "rsearch.fit(X_train,y_train)\n",
    "print(rsearch.best_params_)"
   ]
  },
  {
   "cell_type": "code",
   "execution_count": 51,
   "metadata": {},
   "outputs": [
    {
     "data": {
      "text/plain": [
       "LGBMClassifier(boosting_type='dart', learning_rate=0.15, max_depth=10,\n",
       "               metric='multi_logloss', min_child_samples=4, n_estimators=176,\n",
       "               num_leaves=33, objective='multiclass', random_state=1)"
      ]
     },
     "execution_count": 51,
     "metadata": {},
     "output_type": "execute_result"
    },
    {
     "name": "stdout",
     "output_type": "stream",
     "text": [
      "Accuracy of train: 0.4383356231599607\n",
      "Accuracy of test: 0.4200948373319935\n"
     ]
    }
   ],
   "source": [
    "lgbmc=lgb.LGBMClassifier(random_state=1,n_jobs=-1,metric='multi_logloss', objective='multiclass',\n",
    "                        boosting_type= 'dart', class_weight= None, learning_rate= 0.15, max_depth= 10,\n",
    "                         min_child_samples= 4, n_estimators= 176, num_leaves= 33)\n",
    "\n",
    "lgbmc.fit(X_train,y_train)\n",
    "\n",
    "\n",
    "y_train_pred=lgbmc.predict(X_train)\n",
    "print(\"Accuracy of train:\",accuracy_score(y_train,y_train_pred))\n",
    "\n",
    "y_test_pred=lgbmc.predict(X_valid)\n",
    "print(\"Accuracy of test:\",accuracy_score(y_valid,y_test_pred))"
   ]
  },
  {
   "cell_type": "markdown",
   "metadata": {},
   "source": [
    "# Voting Classifier"
   ]
  },
  {
   "cell_type": "code",
   "execution_count": 52,
   "metadata": {},
   "outputs": [
    {
     "data": {
      "text/plain": [
       "VotingClassifier(estimators=[('CATBST',\n",
       "                              <catboost.core.CatBoostClassifier object at 0x0000017DAB397AC8>),\n",
       "                             ('LightGBM',\n",
       "                              LGBMClassifier(boosting_type='dart',\n",
       "                                             learning_rate=0.15, max_depth=10,\n",
       "                                             metric='multi_logloss',\n",
       "                                             min_child_samples=4,\n",
       "                                             n_estimators=176, num_leaves=33,\n",
       "                                             objective='multiclass',\n",
       "                                             random_state=1))],\n",
       "                 voting='soft')"
      ]
     },
     "execution_count": 52,
     "metadata": {},
     "output_type": "execute_result"
    },
    {
     "name": "stdout",
     "output_type": "stream",
     "text": [
      "Accuracy of train: 0.4384769381746811\n",
      "Accuracy of test: 0.4202675543273458\n"
     ]
    }
   ],
   "source": [
    "from sklearn.ensemble import VotingClassifier \n",
    "\n",
    "vot_hard=VotingClassifier(estimators = [('CATBST',cat1),('LightGBM',lgbmc)],voting='soft',flatten_transform=True)\n",
    "\n",
    "vot_hard.fit(X_train, y_train) \n",
    "y_train_pred = vot_hard.predict(X_train)\n",
    "\n",
    "print(\"Accuracy of train:\",accuracy_score(y_train,y_train_pred))\n",
    "\n",
    "y_test_pred=vot_hard.predict(X_valid)\n",
    "print(\"Accuracy of test:\",accuracy_score(y_valid,y_test_pred))"
   ]
  },
  {
   "cell_type": "code",
   "execution_count": 53,
   "metadata": {
    "colab": {},
    "colab_type": "code",
    "id": "6HzcvQ0sNHL9"
   },
   "outputs": [
    {
     "data": {
      "text/plain": [
       "VotingClassifier(estimators=[('CATBST',\n",
       "                              <catboost.core.CatBoostClassifier object at 0x0000017DAB397AC8>),\n",
       "                             ('LightGBM',\n",
       "                              LGBMClassifier(boosting_type='dart',\n",
       "                                             learning_rate=0.15, max_depth=10,\n",
       "                                             metric='multi_logloss',\n",
       "                                             min_child_samples=4,\n",
       "                                             n_estimators=176, num_leaves=33,\n",
       "                                             objective='multiclass',\n",
       "                                             random_state=1))],\n",
       "                 voting='soft')"
      ]
     },
     "execution_count": 53,
     "metadata": {},
     "output_type": "execute_result"
    },
    {
     "data": {
      "text/html": [
       "<div>\n",
       "<style scoped>\n",
       "    .dataframe tbody tr th:only-of-type {\n",
       "        vertical-align: middle;\n",
       "    }\n",
       "\n",
       "    .dataframe tbody tr th {\n",
       "        vertical-align: top;\n",
       "    }\n",
       "\n",
       "    .dataframe thead th {\n",
       "        text-align: right;\n",
       "    }\n",
       "</style>\n",
       "<table border=\"1\" class=\"dataframe\">\n",
       "  <thead>\n",
       "    <tr style=\"text-align: right;\">\n",
       "      <th></th>\n",
       "      <th>case_id</th>\n",
       "      <th>Stay</th>\n",
       "    </tr>\n",
       "  </thead>\n",
       "  <tbody>\n",
       "    <tr>\n",
       "      <th>0</th>\n",
       "      <td>318439</td>\n",
       "      <td>0-10</td>\n",
       "    </tr>\n",
       "    <tr>\n",
       "      <th>1</th>\n",
       "      <td>318440</td>\n",
       "      <td>51-60</td>\n",
       "    </tr>\n",
       "    <tr>\n",
       "      <th>2</th>\n",
       "      <td>318441</td>\n",
       "      <td>21-30</td>\n",
       "    </tr>\n",
       "    <tr>\n",
       "      <th>3</th>\n",
       "      <td>318442</td>\n",
       "      <td>21-30</td>\n",
       "    </tr>\n",
       "    <tr>\n",
       "      <th>4</th>\n",
       "      <td>318443</td>\n",
       "      <td>51-60</td>\n",
       "    </tr>\n",
       "  </tbody>\n",
       "</table>\n",
       "</div>"
      ],
      "text/plain": [
       "   case_id   Stay\n",
       "0   318439   0-10\n",
       "1   318440  51-60\n",
       "2   318441  21-30\n",
       "3   318442  21-30\n",
       "4   318443  51-60"
      ]
     },
     "execution_count": 53,
     "metadata": {},
     "output_type": "execute_result"
    }
   ],
   "source": [
    "vot_hard.fit(X,y)\n",
    "y_pred = vot_hard.predict(test_main)\n",
    "\n",
    "col=['case_id','Stay']\n",
    "submit_test = pd.concat([test_main_Id['case_id'],pd.DataFrame(y_pred)], axis=1)\n",
    "submit_test.columns=col\n",
    "submit_test['Stay']=encoder.inverse_transform(submit_test['Stay'])\n",
    "submit_test.to_csv('sample_submission.csv', index=False)\n",
    "submit_test.head()"
   ]
  },
  {
   "cell_type": "code",
   "execution_count": 72,
   "metadata": {},
   "outputs": [
    {
     "data": {
      "text/plain": [
       "VotingClassifier(estimators=[('CATBST',\n",
       "                              <catboost.core.CatBoostClassifier object at 0x0000017DAB3A1E48>),\n",
       "                             ('LightGBM',\n",
       "                              LGBMClassifier(boosting_type='dart',\n",
       "                                             learning_rate=0.15, max_depth=10,\n",
       "                                             metric='multi_logloss',\n",
       "                                             min_child_samples=4,\n",
       "                                             n_estimators=176, num_leaves=33,\n",
       "                                             objective='multiclass',\n",
       "                                             random_state=1))],\n",
       "                 voting='soft')"
      ]
     },
     "execution_count": 72,
     "metadata": {},
     "output_type": "execute_result"
    },
    {
     "data": {
      "text/html": [
       "<div>\n",
       "<style scoped>\n",
       "    .dataframe tbody tr th:only-of-type {\n",
       "        vertical-align: middle;\n",
       "    }\n",
       "\n",
       "    .dataframe tbody tr th {\n",
       "        vertical-align: top;\n",
       "    }\n",
       "\n",
       "    .dataframe thead th {\n",
       "        text-align: right;\n",
       "    }\n",
       "</style>\n",
       "<table border=\"1\" class=\"dataframe\">\n",
       "  <thead>\n",
       "    <tr style=\"text-align: right;\">\n",
       "      <th></th>\n",
       "      <th>case_id</th>\n",
       "      <th>Stay</th>\n",
       "    </tr>\n",
       "  </thead>\n",
       "  <tbody>\n",
       "    <tr>\n",
       "      <th>0</th>\n",
       "      <td>318439</td>\n",
       "      <td>0-10</td>\n",
       "    </tr>\n",
       "    <tr>\n",
       "      <th>1</th>\n",
       "      <td>318440</td>\n",
       "      <td>51-60</td>\n",
       "    </tr>\n",
       "    <tr>\n",
       "      <th>2</th>\n",
       "      <td>318441</td>\n",
       "      <td>21-30</td>\n",
       "    </tr>\n",
       "    <tr>\n",
       "      <th>3</th>\n",
       "      <td>318442</td>\n",
       "      <td>21-30</td>\n",
       "    </tr>\n",
       "    <tr>\n",
       "      <th>4</th>\n",
       "      <td>318443</td>\n",
       "      <td>51-60</td>\n",
       "    </tr>\n",
       "  </tbody>\n",
       "</table>\n",
       "</div>"
      ],
      "text/plain": [
       "   case_id   Stay\n",
       "0   318439   0-10\n",
       "1   318440  51-60\n",
       "2   318441  21-30\n",
       "3   318442  21-30\n",
       "4   318443  51-60"
      ]
     },
     "execution_count": 72,
     "metadata": {},
     "output_type": "execute_result"
    }
   ],
   "source": [
    "vot_hard=VotingClassifier(estimators = [('CATBST',cat2),('LightGBM',lgbmc)],voting='soft',flatten_transform=True)\n",
    "vot_hard.fit(X,y)\n",
    "y_pred = vot_hard.predict(test_main)\n",
    "\n",
    "col=['case_id','Stay']\n",
    "submit_test = pd.concat([test_main_Id['case_id'],pd.DataFrame(y_pred)], axis=1)\n",
    "submit_test.columns=col\n",
    "submit_test['Stay']=encoder.inverse_transform(submit_test['Stay'])\n",
    "submit_test.to_csv('sample_submission.csv', index=False)\n",
    "submit_test.head()"
   ]
  }
 ],
 "metadata": {
  "accelerator": "GPU",
  "colab": {
   "name": "Healthcare_II_Code.ipynb",
   "provenance": [],
   "toc_visible": true
  },
  "kernelspec": {
   "display_name": "Python 3",
   "language": "python",
   "name": "python3"
  },
  "language_info": {
   "codemirror_mode": {
    "name": "ipython",
    "version": 3
   },
   "file_extension": ".py",
   "mimetype": "text/x-python",
   "name": "python",
   "nbconvert_exporter": "python",
   "pygments_lexer": "ipython3",
   "version": "3.7.4"
  }
 },
 "nbformat": 4,
 "nbformat_minor": 1
}
